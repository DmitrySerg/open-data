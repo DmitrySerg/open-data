{
 "cells": [
  {
   "cell_type": "markdown",
   "metadata": {},
   "source": [
    "# Кто выбирает президентов"
   ]
  },
  {
   "cell_type": "markdown",
   "metadata": {},
   "source": [
    "# Часть 1: Парсим VK, учимся работать с API"
   ]
  },
  {
   "cell_type": "markdown",
   "metadata": {},
   "source": [
    "- Коротко что это и зачем\n",
    "- VK developers, API\n",
    "- Создаём свое приложение, получаем токен \n",
    "- Первый запрос, выкачиваем свою стенку\n",
    "- Список групп для парсинга, что хотим скачать и как\n",
    "- Скачиваем всех людей, состоящих в группах\n",
    "- Получаем соцдем\n",
    "- Получаем стенки и записи"
   ]
  },
  {
   "cell_type": "markdown",
   "metadata": {},
   "source": [
    "# Подготовка\n",
    "\n",
    "Совсем скоро в России пройдут выборы президента и кандидаты вовсю проводят свои избирательные кампании. Один из способов общения со своим электоратом - это социальные сети, в которых можно найти официальные группы потенциальных президентов и почитать их программы, мысли и планы, чтобы сделать правильный выбор. Мы решили посмотреть, какие люди подписаны на группы кандидатов в VK, чем они живут, о чем пишут и что у них общего друг с другом кроме безграничного интереса к политике и посиделки в соцсеточке. \n",
    "\n",
    "К сожалению или к счастью, нельзя просто взять и нажать на одну кнопку, чтобы получить все данные из вк\n",
    "\n",
    "<img align=\"center\" src=\"pictures/csv.png\" height=\"600\" width=\"600\">\n",
    "\n",
    "Поэтому нас спасёт API.\n",
    "\n",
    "Многие сайты и сервисы хотят упростить жизнь программистам и предоставляют им в пользование уже готовые куски кода, к которым можно просто обратиться и получить нужную информацию о сервисе. Такие куски кода называются API (Application programming interface). Вконтакте не является исключением.\n",
    "\n",
    "Сразу же стоит сказать, что API Вконтакте это рай для исследователя. Можно скачать огромное количество всего без серьёзных ограничений. Например, Facebook по своему API отдаст вам информацию только о тех людях, которые установили ваше приложение, API Одноклассников потребует написать им письмо с объяснением того, зачем это вам понадобились их данные, а API Вконтакте отдаст вам всё практически задаром. Единственное, что он попросит — это не обращаться к сайту очень часто, и это очень круто.\n",
    "\n",
    "Тем не менее, недавно Вконтакте провёл серьёзную реформу своей музыкальной части и монетизировал её. Это привело к изъятию куска API, связанного с музыкой из открытого доступа. Более того, существует опасность, что социальная сеть продолжит резать бесплатный функционал своего API после разных скандалов, связанных с банками, нагло собирающими информацию о пользователях для своих скоринговых моделей. В связи с этим, нужно успеть нарисёрчить по данным из соц сеток вдоволь, пока нас существенно не ограничили в их выгрузке.\n",
    "\n",
    "Ознакомиться со способами взаимодействия с Вконтакте можно по [ссылке](https://vk.com/dev/manuals), о существовании которой вы даже не догадывались... По ней можно найти лучшего друга человека — понятную документацию. Для того, чтобы получить доступ к выгрузке данных, нужно пройти ряд бюрократических процедур.\n",
    "\n",
    "Первая такая процедура заключается в создании своего приложения. Для этого переходим по [ссылке](http://vk.com/editapp?act=create) и проходимся по необходимым процедурам:\n",
    "\n",
    "<img align=\"center\" src=\"pictures/app_creation_1.png\" height=\"600\" width=\"600\">\n",
    "\n",
    "После подтверждения своей личности по номеру телефона, попадаем на страницу свежесозданного приложения\n",
    "<img align=\"center\" src=\"pictures/app_creation_2.png\" height=\"600\" width=\"600\">\n",
    "\n",
    "Слева нам будем доступна вкладка с настройками, перейдя в неё мы увидим все необходимые нам для работы с приложением параметры (хоть у нас и день открытых данных, ID приложения и токены все-таки замазаны)\n",
    "<img align=\"center\" src=\"pictures/app_creation_3.png\" height=\"600\" width=\"600\">\n",
    "\n",
    "\n",
    "Для работы с частью методов API этого вполне достаточно (обычно в заголовке такого метода стоит соответствующая пометка). Для части методов, используемых нами, может понадобиться ключ доступа.\n",
    "\n",
    "Для того, чтобы получить его, необходимо сделать ещё пару странных манипуляций:\n",
    "\n",
    "Переходим по ссылке вида (на месте звездочек должен стоять ID созданного вами приложения):\n",
    "\n",
    "> https://oauth.vk.com/authorize?client_id=**********&scope=14&redirect_uri=https://oauth.vk.com/blank.html&display=page&v=5.16&response_type=token\n",
    "\n",
    "<img align=\"center\" src=\"pictures/app_creation_4.png\" height=\"600\" width=\"600\">\n",
    "\n",
    "В итоге по этому запросу будет сформирована ссылка следующего вида:\n",
    "> https://oauth.vk.com/blank.html#access_token=25b636116ef40e0718fe4d9f382544fc28&expires_in=86400&user_id=*******\n",
    "\n",
    "Первый набор знаков - access token, т.е. маркер доступа. Вторая цифра (expires_in=) время работы маркера доступа в секундах (одни сутки). По истечению суток нужно будет получить новый маркер доступа. Последняя цифра (user_id=) ваш ID Вконтакте. Нам в дальнейшем понадобится маркер доступа. Для удобства сохраним его в отдельном файле или экспортируем в глобальную область видимости. В целях безопасности ваших данных не стоит нигде светить токенами и тем более выкладывать их в открытый доступ.\n",
    "\n",
    "Обратите внимание на ссылку, по которой мы делали запрос на предоставление токена. Внутри неё находится странный параметр scope=14. Эта загадочная цифра ничто иное, как права доступа к социальной сети. Подробнее познакомиться с взаимно-однозначным соответствием между числами и правами можно в документации. Например, если мы хотим получить доступ к друзьям, фото и аудио, мы подставим в scope цифру 2+4+8=14."
   ]
  },
  {
   "cell_type": "markdown",
   "metadata": {},
   "source": [
    "# Первые шаги"
   ]
  },
  {
   "cell_type": "code",
   "execution_count": 195,
   "metadata": {
    "collapsed": true
   },
   "outputs": [],
   "source": [
    "# Загружаем необходимые библиотеки\n",
    "\n",
    "import datetime                  # Пакет для работы с временными форматами\n",
    "import pickle                    # Пакет для подгрузки данных специфического для питона формата\n",
    "import requests                  # Пакет для скачки данных из этих ваших интернетов\n",
    "import pandas as pd              # Пакет для работы с таблицами\n",
    "import numpy as np               # Пакет для работы с векторами и матрицами\n",
    "import matplotlib.pyplot as plt  # Пакет для строительства графиков\n",
    "import time            # Пакет для работы со временем. Например, помогает ставить заглушки \n",
    "                       # time.sleep(секунды), необходимые для того что ВК не банил нащего\n",
    "                       # сборщика данных из-за слишком частых запросов\n",
    "        \n",
    "# Пакет для красивых циклов. При желании его можно отключить. Тогда из всех циклов придётся \n",
    "# удалять команду tqdm_notebook.\n",
    "from tqdm import tqdm_notebook   # подробнее: https://github.com/tqdm/tqdm"
   ]
  },
  {
   "cell_type": "code",
   "execution_count": 148,
   "metadata": {},
   "outputs": [],
   "source": [
    "# мой номер странички\n",
    "my_user_id = 91857120\n",
    "# версия используемого API\n",
    "version = '5.73' \n",
    "# подгружаем токен\n",
    "with open('token.txt') as f:\n",
    "    token = f.read()"
   ]
  },
  {
   "cell_type": "markdown",
   "metadata": {},
   "source": [
    "Чтобы задать вопрос API вконтакте, нужно сформировать ссылку следующего вида:\n",
    "\n",
    "> https://api.vk.com/method/METHOD_NAME?PARAMETERS&access_token=ACCESS_TOKEN&v=API_VERSION\n",
    "\n",
    "> https://название_api/используемый_метод?параметры_метода&другие_опции&ключ_доступа&версия_API\n",
    "\n",
    "В ссылку сначала встраивается метод, с помощью которого мы осуществляем запрос и какие-то параметры для этого метода. Список всех существующих методов и параметров можно изучить, конечно же, в документации.\n",
    "\n",
    "Попробуем узнать своё имя. Метод `users.get` возвращает расширенную информацию о пользователе. Параметр `user_ids` отвечает за `id` пользователей, информацию о которых нам хотелось бы вытащить."
   ]
  },
  {
   "cell_type": "code",
   "execution_count": 14,
   "metadata": {},
   "outputs": [],
   "source": [
    "url = \"https://api.vk.com/method/users.get?user_ids={user_id}&access_token={token}&v={version}\"\n",
    "url = url.format(user_id=my_user_id, token=token, version=version)"
   ]
  },
  {
   "cell_type": "code",
   "execution_count": 46,
   "metadata": {},
   "outputs": [
    {
     "data": {
      "text/plain": [
       "<Response [200]>"
      ]
     },
     "execution_count": 46,
     "metadata": {},
     "output_type": "execute_result"
    }
   ],
   "source": [
    "response = requests.get(url) \n",
    "response"
   ]
  },
  {
   "cell_type": "markdown",
   "metadata": {},
   "source": [
    "Ура! Благословенный 200-ответ! Мы получили его в удобном json формате, который python воспринимает как словарик."
   ]
  },
  {
   "cell_type": "code",
   "execution_count": 18,
   "metadata": {},
   "outputs": [
    {
     "data": {
      "text/plain": [
       "{'response': [{'first_name': 'Дмитрий',\n",
       "   'id': 91857120,\n",
       "   'last_name': 'Сергеев'}]}"
      ]
     },
     "execution_count": 18,
     "metadata": {},
     "output_type": "execute_result"
    }
   ],
   "source": [
    "name = response.json()\n",
    "name"
   ]
  },
  {
   "cell_type": "markdown",
   "metadata": {},
   "source": [
    "Со словарями очень удобно работать. Круто, когда можно узнать как тебя зовут с комфортом."
   ]
  },
  {
   "cell_type": "code",
   "execution_count": 19,
   "metadata": {},
   "outputs": [
    {
     "data": {
      "text/plain": [
       "{'first_name': 'Дмитрий', 'id': 91857120, 'last_name': 'Сергеев'}"
      ]
     },
     "execution_count": 19,
     "metadata": {},
     "output_type": "execute_result"
    }
   ],
   "source": [
    "name['response'][0]"
   ]
  },
  {
   "cell_type": "markdown",
   "metadata": {},
   "source": [
    "Оформим всё, что мы сделали выше в виде удобной функции, которая будет пригодна для любых методов и параметров."
   ]
  },
  {
   "cell_type": "code",
   "execution_count": 20,
   "metadata": {
    "code_folding": [
     0
    ],
    "collapsed": true
   },
   "outputs": [],
   "source": [
    "def vkDownload(method, parameters, token=token, version=version):\n",
    "    \"\"\"\n",
    "        Возвращает результат запроса по методу\n",
    "        \n",
    "        method: string\n",
    "            метод из документации, который хотим использовать\n",
    "            \n",
    "        parameters: string\n",
    "            параметры используемого метода\n",
    "            \n",
    "        token: string\n",
    "            токен Oauth доступа\n",
    "        \n",
    "        version: string\n",
    "            версия API\n",
    "    \"\"\"\n",
    "    \n",
    "    # составляем ссылку\n",
    "    url = 'https://api.vk.com/method/{method}?{parameters}&access_token={token}&v={version}'\n",
    "    url = url.format(method=method, parameters=parameters, token=token, version=version)\n",
    "    # запрашиваем ссылку и переводим в json (словарь)\n",
    "    response = requests.get(url).json()\n",
    "    \n",
    "    return response"
   ]
  },
  {
   "cell_type": "markdown",
   "metadata": {},
   "source": [
    "Снова скачаем имя пользователя, чтобы убедиться, что всё работает"
   ]
  },
  {
   "cell_type": "code",
   "execution_count": 47,
   "metadata": {},
   "outputs": [
    {
     "data": {
      "text/plain": [
       "{'response': [{'first_name': 'Дмитрий',\n",
       "   'id': 91857120,\n",
       "   'last_name': 'Сергеев'}]}"
      ]
     },
     "execution_count": 47,
     "metadata": {},
     "output_type": "execute_result"
    }
   ],
   "source": [
    "vkDownload('users.get','user_ids=91857120')"
   ]
  },
  {
   "cell_type": "markdown",
   "metadata": {},
   "source": [
    "Попробуем выкачать записи со стены"
   ]
  },
  {
   "cell_type": "code",
   "execution_count": 24,
   "metadata": {},
   "outputs": [],
   "source": [
    "wall = vkDownload('wall.get','user_ids=91857120')"
   ]
  },
  {
   "cell_type": "code",
   "execution_count": 29,
   "metadata": {},
   "outputs": [
    {
     "data": {
      "text/plain": [
       "{'attachments': [{'link': {'caption': 'habrahabr.ru',\n",
       "    'description': 'Новогодние праздники — прекрасный повод попрокрастинировать в уютной домашней обстановке и вспомнить дорогие сердцу мемы из 2k17, уходящие навсегда, как совесть...',\n",
       "    'photo': {'album_id': -2,\n",
       "     'date': 1516015158,\n",
       "     'height': 150,\n",
       "     'id': 456239920,\n",
       "     'owner_id': 91857120,\n",
       "     'photo_130': 'https://pp.userapi.com/c840433/v840433818/44e72/KHvVSy49L4I.jpg',\n",
       "     'photo_604': 'https://pp.userapi.com/c840433/v840433818/44e73/lE-VT-vioog.jpg',\n",
       "     'photo_75': 'https://pp.userapi.com/c840433/v840433818/44e71/3mnh_DxG2lM.jpg',\n",
       "     'text': '',\n",
       "     'width': 150},\n",
       "    'title': 'Парсим мемы в питоне: как обойти серверную блокировку',\n",
       "    'url': 'https://habrahabr.ru/company/ods/blog/346632/'},\n",
       "   'type': 'link'}],\n",
       " 'can_delete': 1,\n",
       " 'can_pin': 1,\n",
       " 'comments': {'can_post': 1, 'count': 1, 'groups_can_post': True},\n",
       " 'date': 1516015158,\n",
       " 'from_id': 91857120,\n",
       " 'id': 1957,\n",
       " 'likes': {'can_like': 0, 'can_publish': 0, 'count': 21, 'user_likes': 1},\n",
       " 'owner_id': 91857120,\n",
       " 'post_source': {'type': 'vk'},\n",
       " 'post_type': 'post',\n",
       " 'reposts': {'count': 1, 'user_reposted': 0},\n",
       " 'text': 'Вместе с [id6045249|Филей] написали статью про мемы (про что же ещё писать в самом деле)',\n",
       " 'views': {'count': 559}}"
      ]
     },
     "execution_count": 29,
     "metadata": {},
     "output_type": "execute_result"
    }
   ],
   "source": [
    "# обратимся к первой записи, которая лежит в поле response по ключу items\n",
    "wall['response']['items'][0]"
   ]
  },
  {
   "cell_type": "markdown",
   "metadata": {},
   "source": [
    "В принципе это всё. Дальнейшая стратегия будет такой: открываем документацию, находим нужные метод и параметры и применяем их."
   ]
  },
  {
   "cell_type": "markdown",
   "metadata": {},
   "source": [
    "# Забираем всех пользователей их групп кандидатов"
   ]
  },
  {
   "cell_type": "code",
   "execution_count": 30,
   "metadata": {
    "collapsed": true
   },
   "outputs": [],
   "source": [
    " candidate_groups ={\n",
    "     'Навальный' : 'teamnavalny',\n",
    "     'Жириновский' : 'liberal_democratic_party',\n",
    "     'Грудинин' : 'grudininlive',\n",
    "     'Путин' : 'vladimir_vladimirovichp',\n",
    "     'Собчак' : 'kandidatprotivvseh',\n",
    "     'Бабурин' : 'baburin2018',\n",
    "     'Явлинский' : 'yabloko_ru',\n",
    "     'Титов' : 'partrost',\n",
    "     'Сурайкин' : 'komross'\n",
    "    }"
   ]
  },
  {
   "cell_type": "code",
   "execution_count": 52,
   "metadata": {
    "code_folding": [],
    "collapsed": true
   },
   "outputs": [],
   "source": [
    "def getGroupMembers(group_id):\n",
    "    \"\"\"\n",
    "        Возвращает список всех пользователей данной группы\n",
    "        Итерации идут батчами по 1000 пользователей\n",
    "        \n",
    "        group_id: string\n",
    "            идентификатор группы (ссылка)\n",
    "    \"\"\"\n",
    "    \n",
    "    # Узнаём число запросов, которое надо сделать \n",
    "    count = vkDownload('groups.getMembers','group_id=' + group_id)['response']['count']\n",
    "    \n",
    "    # выясняем, сколько запросов нам понадобиться\n",
    "    n = int(np.ceil(count/1000))  \n",
    "    \n",
    "    # вектор, где мы будем хранить id пользователей\n",
    "    members = []     \n",
    "    \n",
    "    for i in tqdm_notebook(range(n)): \n",
    "        # при помощи метода groups.getMembers получаем пользователей группы\n",
    "        current_members = vkDownload('groups.getMembers','group_id='+group_id+'&offset='+str(1000*i))\n",
    "        members.extend(current_members['response']['items'])\n",
    "        # перед следующим запросом немножко подождем\n",
    "        time.sleep(0.4)\n",
    "        \n",
    "    return members"
   ]
  },
  {
   "cell_type": "markdown",
   "metadata": {},
   "source": [
    "Попробуем выкачать кандидата с минимальным числом подписчиков, - Бабурина (для скорости)"
   ]
  },
  {
   "cell_type": "code",
   "execution_count": 53,
   "metadata": {},
   "outputs": [
    {
     "data": {
      "application/vnd.jupyter.widget-view+json": {
       "model_id": "db07c4d82db84ab8b6ea73f7cfa213b4"
      }
     },
     "metadata": {},
     "output_type": "display_data"
    },
    {
     "name": "stdout",
     "output_type": "stream",
     "text": [
      "\n"
     ]
    }
   ],
   "source": [
    "baburin_members = getGroupMembers(candidate_groups['Бабурин'])"
   ]
  },
  {
   "cell_type": "code",
   "execution_count": 55,
   "metadata": {},
   "outputs": [
    {
     "data": {
      "text/plain": [
       "2837"
      ]
     },
     "execution_count": 55,
     "metadata": {},
     "output_type": "execute_result"
    }
   ],
   "source": [
    "len(baburin_members)"
   ]
  },
  {
   "cell_type": "code",
   "execution_count": 56,
   "metadata": {},
   "outputs": [
    {
     "data": {
      "text/plain": [
       "[16474,\n",
       " 31069,\n",
       " 521638,\n",
       " 570735,\n",
       " 731932,\n",
       " 738809,\n",
       " 804029,\n",
       " 1030041,\n",
       " 1128654,\n",
       " 1209417]"
      ]
     },
     "execution_count": 56,
     "metadata": {},
     "output_type": "execute_result"
    }
   ],
   "source": [
    "baburin_members[:10]"
   ]
  },
  {
   "cell_type": "markdown",
   "metadata": {},
   "source": [
    "Прекрасно, получили список из 2837 идентификаторов пользователей, подписанных на группу Бабурина. Всех остальных кандидатов можно выгрузить аналогично (код приведен ниже), но сейчас воспользуемся уже готовым набором данных и просто подгрузим его."
   ]
  },
  {
   "cell_type": "code",
   "execution_count": null,
   "metadata": {
    "collapsed": true
   },
   "outputs": [],
   "source": [
    "# # Цикл для выгрузки всех участников групп по каждому кандидату\n",
    "# # Выкачиваем членов каждой группы \n",
    "# candidate_people = {}\n",
    "# for candidate, group_id in candidate_groups.items():\n",
    "#     candidate_people[candidate] = getGroupMembers(group_id)\n",
    "\n",
    "# Сохраняем словарик с id пользователей\n",
    "# with open('candidate_people', 'wb') as f:\n",
    "#     pickle.dump(candidate_people, f)"
   ]
  },
  {
   "cell_type": "code",
   "execution_count": 82,
   "metadata": {},
   "outputs": [],
   "source": [
    "# Подгружаем словарь с пользователями\n",
    "with open('candidate_people', 'rb') as f:\n",
    "    candidate_people = pickle.load(f)"
   ]
  },
  {
   "cell_type": "markdown",
   "metadata": {},
   "source": [
    "Посмотрим на число подписчиков у каждого кандидата (и Навального)"
   ]
  },
  {
   "cell_type": "code",
   "execution_count": 83,
   "metadata": {},
   "outputs": [
    {
     "name": "stdout",
     "output_type": "stream",
     "text": [
      "Кандидат: Навальный, число подписчиков: 184099\n",
      "Кандидат: Жириновский, число подписчиков: 102186\n",
      "Кандидат: Грудинин, число подписчиков: 23913\n",
      "Кандидат: Путин, число подписчиков: 679822\n",
      "Кандидат: Собчак, число подписчиков: 40300\n",
      "Кандидат: Бабурин, число подписчиков: 2768\n",
      "Кандидат: Явлинский, число подписчиков: 14490\n",
      "Кандидат: Титов, число подписчиков: 17404\n",
      "Кандидат: Сурайкин, число подписчиков: 3822\n"
     ]
    }
   ],
   "source": [
    "for candidate, people in candidate_people.items():\n",
    "    print(\"Кандидат: {}, число подписчиков: {}\".format(candidate, len(people)))"
   ]
  },
  {
   "cell_type": "markdown",
   "metadata": {},
   "source": [
    "А также составим список из уникальных пользователей и посмотрим, сколько их у нас всего"
   ]
  },
  {
   "cell_type": "code",
   "execution_count": 84,
   "metadata": {},
   "outputs": [
    {
     "data": {
      "text/plain": [
       "1048855"
      ]
     },
     "execution_count": 84,
     "metadata": {},
     "output_type": "execute_result"
    }
   ],
   "source": [
    "# объединяем всех подписчиков в один лист\n",
    "unique_people = sum(candidate_people.values(), [])\n",
    "# берем только уникальных людей\n",
    "unique_people = list(set(unique_people))\n",
    "\n",
    "len(unique_people)"
   ]
  },
  {
   "cell_type": "markdown",
   "metadata": {},
   "source": [
    "Отлично, 1 048 855 уникальных пользователей, подписанных на кандидатов в президенты, у нас есть. Теперь скачаем немножко соцдема по этим людям."
   ]
  },
  {
   "cell_type": "markdown",
   "metadata": {},
   "source": [
    "# Соц-дем пользователей"
   ]
  },
  {
   "cell_type": "code",
   "execution_count": 94,
   "metadata": {
    "collapsed": true
   },
   "outputs": [],
   "source": [
    "# Основные параметры, которые мы хотим получить\n",
    "fields = 'bdate, city, home_town, sex'"
   ]
  },
  {
   "cell_type": "markdown",
   "metadata": {},
   "source": [
    "Для выкачки соц-дема будем использовать метод `users.get`. За раз можно скачать информацию о 100 пользователях. Если на запрос будет уходить секунда, то скачка соц-дема займет около 3 часов."
   ]
  },
  {
   "cell_type": "code",
   "execution_count": 87,
   "metadata": {},
   "outputs": [
    {
     "data": {
      "text/plain": [
       "2.91"
      ]
     },
     "execution_count": 87,
     "metadata": {},
     "output_type": "execute_result"
    }
   ],
   "source": [
    "round(1048855/100/60/60, 2)"
   ]
  },
  {
   "cell_type": "markdown",
   "metadata": {},
   "source": [
    "Для пробы пера возьмем первых (по дате регистрации в вк) 10 человек, подписанных на многоуважаемого Владимира Вольфовича"
   ]
  },
  {
   "cell_type": "code",
   "execution_count": 96,
   "metadata": {},
   "outputs": [],
   "source": [
    "LDPR = candidate_people['Жириновский'][:10]\n",
    "# объединяем лист с int в строку\n",
    "LDPR = ','.join([str(user) for user in LDPR])"
   ]
  },
  {
   "cell_type": "code",
   "execution_count": 97,
   "metadata": {},
   "outputs": [
    {
     "data": {
      "text/plain": [
       "{'response': [{'first_name': 'Анатолий',\n",
       "   'home_town': '',\n",
       "   'id': 510,\n",
       "   'last_name': 'Карпенко',\n",
       "   'sex': 2},\n",
       "  {'deactivated': 'deleted',\n",
       "   'first_name': 'DELETED',\n",
       "   'id': 1857,\n",
       "   'last_name': '',\n",
       "   'sex': 2},\n",
       "  {'city': {'id': 2, 'title': 'Санкт-Петербург'},\n",
       "   'first_name': 'Сергей',\n",
       "   'home_town': 'Ленинград',\n",
       "   'id': 2703,\n",
       "   'last_name': 'Иванов',\n",
       "   'sex': 2},\n",
       "  {'bdate': '18.2.1988',\n",
       "   'city': {'id': 2, 'title': 'Санкт-Петербург'},\n",
       "   'first_name': 'Антон',\n",
       "   'id': 3386,\n",
       "   'last_name': 'Тузяк',\n",
       "   'sex': 2},\n",
       "  {'bdate': '4.3.1987',\n",
       "   'city': {'id': 2, 'title': 'Санкт-Петербург'},\n",
       "   'first_name': 'Sergey',\n",
       "   'id': 6302,\n",
       "   'last_name': 'Chulkov',\n",
       "   'sex': 2},\n",
       "  {'bdate': '5.3.1989',\n",
       "   'city': {'id': 1, 'title': 'Москва'},\n",
       "   'first_name': 'Елена',\n",
       "   'id': 6917,\n",
       "   'last_name': 'Кейних',\n",
       "   'sex': 1},\n",
       "  {'bdate': '14.11.1986',\n",
       "   'city': {'id': 2, 'title': 'Санкт-Петербург'},\n",
       "   'first_name': 'Антон',\n",
       "   'id': 8188,\n",
       "   'last_name': 'Минаков',\n",
       "   'sex': 2},\n",
       "  {'first_name': 'Павел', 'id': 17866, 'last_name': 'Карук', 'sex': 2},\n",
       "  {'bdate': '2.5',\n",
       "   'first_name': 'Марина',\n",
       "   'home_town': 'Лето',\n",
       "   'id': 17925,\n",
       "   'last_name': 'Маргариткина',\n",
       "   'sex': 1},\n",
       "  {'bdate': '26.12',\n",
       "   'city': {'id': 1, 'title': 'Москва'},\n",
       "   'first_name': 'Артем',\n",
       "   'id': 23626,\n",
       "   'last_name': 'Александрович',\n",
       "   'sex': 2}]}"
      ]
     },
     "execution_count": 97,
     "metadata": {},
     "output_type": "execute_result"
    }
   ],
   "source": [
    "vkDownload('users.get', 'user_ids={}&fields={}'.format(LDPR, fields))"
   ]
  },
  {
   "cell_type": "markdown",
   "metadata": {},
   "source": [
    "А тепреь обернём это в функцию, чтобы пройтись по всем нашим пользователям и выгрузить их соц-дем информацию"
   ]
  },
  {
   "cell_type": "code",
   "execution_count": 98,
   "metadata": {
    "code_folding": [
     0
    ],
    "collapsed": true
   },
   "outputs": [],
   "source": [
    "def getUserInformation():\n",
    "    \"\"\"\n",
    "        Возвращает словарь с выгруженными социально-демографическими данными \n",
    "        по всем пользователям, подписанным на кандидатов\n",
    "    \"\"\"\n",
    "    \n",
    "    # инициализируем пустой словарь, где будут хранитсья пользователи с их соцдемом\n",
    "    candidate_people_information = {}\n",
    "    # проходимся по всем кандидатам\n",
    "    for candidate, people in candidate_people.items():\n",
    "        # текущий список пользователей с соц-демом\n",
    "        current_info = []\n",
    "        # Выяснили число запросов\n",
    "        n = int(np.ceil(count/1000))    \n",
    "        \n",
    "        for i in tqdm_notebook(range(n)):\n",
    "            # берем текущий срез подписчиков\n",
    "            ids = people[i*100:(i+1)*100]\n",
    "            ids = ','.join([str(user) for user in ids])\n",
    "            # выгружаем их и берем данные\n",
    "            info = vkDownload('users.get','user_ids={}&fields={}'.format(ids, fields))\n",
    "            info = info['response']\n",
    "            # записываем в текущий лист\n",
    "            current_info.extend(info)\n",
    "            # ждем перед следующим запросом\n",
    "            time.sleep(0.4)\n",
    "        \n",
    "        # записываем в финальный словарь\n",
    "        candidate_people_information[candidate] = current_info\n",
    "    \n",
    "    return candidate_people_information"
   ]
  },
  {
   "cell_type": "markdown",
   "metadata": {},
   "source": [
    " Код готов, выполнять его я, конечно, не буду"
   ]
  },
  {
   "cell_type": "code",
   "execution_count": 101,
   "metadata": {},
   "outputs": [],
   "source": [
    "# candidate_people_information = getUserInformation()"
   ]
  },
  {
   "cell_type": "code",
   "execution_count": 102,
   "metadata": {
    "collapsed": true
   },
   "outputs": [],
   "source": [
    "# with open('candidate_people_information', 'wb') as f:\n",
    "#     pickle.dump(candidate_people_information, f)\n",
    "\n",
    "with open('candidate_people_information', 'rb') as f:\n",
    "    candidate_people_information = pickle.load(f)"
   ]
  },
  {
   "cell_type": "code",
   "execution_count": 103,
   "metadata": {
    "collapsed": true
   },
   "outputs": [],
   "source": [
    "# А теперь преобразуем полученный словарь в удобный датафрейм для последующей работы\n",
    "\n",
    "# инициализируем датафрейм\n",
    "people_information_df = pd.DataFrame()\n",
    "\n",
    "# идем по всем кандидатам и соц-дему их подписчиков\n",
    "for candidate, people in candidate_people_information.items():\n",
    "    # преобразуем в словарь в датафрейм\n",
    "    df = pd.DataFrame(people)\n",
    "    # добавляем столбец с городом\n",
    "    df['city'] = df.city.apply(lambda x: x['title'] if x is not np.nan else np.nan)\n",
    "    # добавляем столбец с городом\n",
    "    df['candidate'] = candidate\n",
    "    # добавляем преобразованный датафрейм к финальному\n",
    "    people_information_df = people_information_df.append(df, ignore_index=True)"
   ]
  },
  {
   "cell_type": "code",
   "execution_count": 104,
   "metadata": {},
   "outputs": [
    {
     "data": {
      "text/html": [
       "<div>\n",
       "<style>\n",
       "    .dataframe thead tr:only-child th {\n",
       "        text-align: right;\n",
       "    }\n",
       "\n",
       "    .dataframe thead th {\n",
       "        text-align: left;\n",
       "    }\n",
       "\n",
       "    .dataframe tbody tr th {\n",
       "        vertical-align: top;\n",
       "    }\n",
       "</style>\n",
       "<table border=\"1\" class=\"dataframe\">\n",
       "  <thead>\n",
       "    <tr style=\"text-align: right;\">\n",
       "      <th></th>\n",
       "      <th>bdate</th>\n",
       "      <th>city</th>\n",
       "      <th>deactivated</th>\n",
       "      <th>first_name</th>\n",
       "      <th>home_town</th>\n",
       "      <th>id</th>\n",
       "      <th>last_name</th>\n",
       "      <th>sex</th>\n",
       "      <th>candidate</th>\n",
       "    </tr>\n",
       "  </thead>\n",
       "  <tbody>\n",
       "    <tr>\n",
       "      <th>0</th>\n",
       "      <td>NaN</td>\n",
       "      <td>Санкт-Петербург</td>\n",
       "      <td>NaN</td>\n",
       "      <td>Николай</td>\n",
       "      <td>NaN</td>\n",
       "      <td>6</td>\n",
       "      <td>Дуров</td>\n",
       "      <td>2</td>\n",
       "      <td>Навальный</td>\n",
       "    </tr>\n",
       "    <tr>\n",
       "      <th>1</th>\n",
       "      <td>10.8</td>\n",
       "      <td>Łódź</td>\n",
       "      <td>NaN</td>\n",
       "      <td>Елисей</td>\n",
       "      <td>Санкт-Петербург</td>\n",
       "      <td>154</td>\n",
       "      <td>Замахов</td>\n",
       "      <td>2</td>\n",
       "      <td>Навальный</td>\n",
       "    </tr>\n",
       "    <tr>\n",
       "      <th>2</th>\n",
       "      <td>23.11.1981</td>\n",
       "      <td>Санкт-Петербург</td>\n",
       "      <td>NaN</td>\n",
       "      <td>Михаил</td>\n",
       "      <td>NaN</td>\n",
       "      <td>175</td>\n",
       "      <td>Захаренков</td>\n",
       "      <td>2</td>\n",
       "      <td>Навальный</td>\n",
       "    </tr>\n",
       "    <tr>\n",
       "      <th>3</th>\n",
       "      <td>NaN</td>\n",
       "      <td>NaN</td>\n",
       "      <td>banned</td>\n",
       "      <td>Галина</td>\n",
       "      <td>NaN</td>\n",
       "      <td>348</td>\n",
       "      <td>Румянцева</td>\n",
       "      <td>1</td>\n",
       "      <td>Навальный</td>\n",
       "    </tr>\n",
       "    <tr>\n",
       "      <th>4</th>\n",
       "      <td>3.5.1985</td>\n",
       "      <td>Санкт-Петербург</td>\n",
       "      <td>NaN</td>\n",
       "      <td>Сергей</td>\n",
       "      <td>Санкт-Петербург</td>\n",
       "      <td>374</td>\n",
       "      <td>Макеев</td>\n",
       "      <td>2</td>\n",
       "      <td>Навальный</td>\n",
       "    </tr>\n",
       "  </tbody>\n",
       "</table>\n",
       "</div>"
      ],
      "text/plain": [
       "        bdate             city deactivated first_name        home_town   id  \\\n",
       "0         NaN  Санкт-Петербург         NaN    Николай              NaN    6   \n",
       "1        10.8             Łódź         NaN     Елисей  Санкт-Петербург  154   \n",
       "2  23.11.1981  Санкт-Петербург         NaN     Михаил              NaN  175   \n",
       "3         NaN              NaN      banned     Галина              NaN  348   \n",
       "4    3.5.1985  Санкт-Петербург         NaN     Сергей  Санкт-Петербург  374   \n",
       "\n",
       "    last_name  sex  candidate  \n",
       "0       Дуров    2  Навальный  \n",
       "1     Замахов    2  Навальный  \n",
       "2  Захаренков    2  Навальный  \n",
       "3   Румянцева    1  Навальный  \n",
       "4      Макеев    2  Навальный  "
      ]
     },
     "execution_count": 104,
     "metadata": {},
     "output_type": "execute_result"
    }
   ],
   "source": [
    "people_information_df.head()"
   ]
  },
  {
   "cell_type": "code",
   "execution_count": 105,
   "metadata": {},
   "outputs": [
    {
     "data": {
      "text/html": [
       "<div>\n",
       "<style>\n",
       "    .dataframe thead tr:only-child th {\n",
       "        text-align: right;\n",
       "    }\n",
       "\n",
       "    .dataframe thead th {\n",
       "        text-align: left;\n",
       "    }\n",
       "\n",
       "    .dataframe tbody tr th {\n",
       "        vertical-align: top;\n",
       "    }\n",
       "</style>\n",
       "<table border=\"1\" class=\"dataframe\">\n",
       "  <thead>\n",
       "    <tr style=\"text-align: right;\">\n",
       "      <th></th>\n",
       "      <th>bdate</th>\n",
       "      <th>city</th>\n",
       "      <th>deactivated</th>\n",
       "      <th>first_name</th>\n",
       "      <th>home_town</th>\n",
       "      <th>id</th>\n",
       "      <th>last_name</th>\n",
       "      <th>sex</th>\n",
       "      <th>candidate</th>\n",
       "    </tr>\n",
       "  </thead>\n",
       "  <tbody>\n",
       "    <tr>\n",
       "      <th>1068799</th>\n",
       "      <td>19.4.1970</td>\n",
       "      <td>NaN</td>\n",
       "      <td>NaN</td>\n",
       "      <td>Ол</td>\n",
       "      <td>NaN</td>\n",
       "      <td>471573939</td>\n",
       "      <td>Гус</td>\n",
       "      <td>2</td>\n",
       "      <td>Сурайкин</td>\n",
       "    </tr>\n",
       "    <tr>\n",
       "      <th>1068800</th>\n",
       "      <td>23.11.2001</td>\n",
       "      <td>NaN</td>\n",
       "      <td>NaN</td>\n",
       "      <td>Анонимус</td>\n",
       "      <td></td>\n",
       "      <td>472291073</td>\n",
       "      <td>Анонимный</td>\n",
       "      <td>2</td>\n",
       "      <td>Сурайкин</td>\n",
       "    </tr>\n",
       "    <tr>\n",
       "      <th>1068801</th>\n",
       "      <td>7.11.1953</td>\n",
       "      <td>Пермь</td>\n",
       "      <td>NaN</td>\n",
       "      <td>Viva-La</td>\n",
       "      <td>NaN</td>\n",
       "      <td>473095996</td>\n",
       "      <td>Resistance</td>\n",
       "      <td>2</td>\n",
       "      <td>Сурайкин</td>\n",
       "    </tr>\n",
       "    <tr>\n",
       "      <th>1068802</th>\n",
       "      <td>3.3.2003</td>\n",
       "      <td>Новосибирск</td>\n",
       "      <td>NaN</td>\n",
       "      <td>Роман</td>\n",
       "      <td>новосибирск</td>\n",
       "      <td>473736153</td>\n",
       "      <td>Ковалёв</td>\n",
       "      <td>2</td>\n",
       "      <td>Сурайкин</td>\n",
       "    </tr>\n",
       "    <tr>\n",
       "      <th>1068803</th>\n",
       "      <td>8.8.1978</td>\n",
       "      <td>Москва</td>\n",
       "      <td>NaN</td>\n",
       "      <td>Максим</td>\n",
       "      <td></td>\n",
       "      <td>474265309</td>\n",
       "      <td>Сурайкин</td>\n",
       "      <td>2</td>\n",
       "      <td>Сурайкин</td>\n",
       "    </tr>\n",
       "  </tbody>\n",
       "</table>\n",
       "</div>"
      ],
      "text/plain": [
       "              bdate         city deactivated first_name    home_town  \\\n",
       "1068799   19.4.1970          NaN         NaN         Ол          NaN   \n",
       "1068800  23.11.2001          NaN         NaN   Анонимус                \n",
       "1068801   7.11.1953        Пермь         NaN    Viva-La          NaN   \n",
       "1068802    3.3.2003  Новосибирск         NaN      Роман  новосибирск   \n",
       "1068803    8.8.1978       Москва         NaN     Максим                \n",
       "\n",
       "                id   last_name  sex candidate  \n",
       "1068799  471573939         Гус    2  Сурайкин  \n",
       "1068800  472291073   Анонимный    2  Сурайкин  \n",
       "1068801  473095996  Resistance    2  Сурайкин  \n",
       "1068802  473736153     Ковалёв    2  Сурайкин  \n",
       "1068803  474265309    Сурайкин    2  Сурайкин  "
      ]
     },
     "execution_count": 105,
     "metadata": {},
     "output_type": "execute_result"
    }
   ],
   "source": [
    "people_information_df.tail()"
   ]
  },
  {
   "cell_type": "code",
   "execution_count": 109,
   "metadata": {},
   "outputs": [
    {
     "data": {
      "text/plain": [
       "(1068804, 9)"
      ]
     },
     "execution_count": 109,
     "metadata": {},
     "output_type": "execute_result"
    }
   ],
   "source": [
    "people_information_df.shape"
   ]
  },
  {
   "cell_type": "code",
   "execution_count": 110,
   "metadata": {
    "collapsed": true
   },
   "outputs": [],
   "source": [
    "people_information_df.to_csv('russia_20!8.csv', sep='\\t')"
   ]
  },
  {
   "cell_type": "markdown",
   "metadata": {},
   "source": [
    "# Последние 100 постов со стен пользователей\n",
    "\n",
    "Соцдем собран, теперь переходим к самому интересному - о чем же пишут люди, добровольно подписавшиеся на будущих президентов этой страны. \n",
    "\n",
    "К сожалению, запросов у нас очень много, батчами по 1000 или хотя бы по 100 пользователей прогонять мы не можем, и если оставлять код как есть, то выкачивать записи мы будем примерно 5 суток подряд. Можно, конечно, и подождать, позаниматься другими делами, поработать, наконец. Но мы не ищем легких путей и не хотим работать, поэтому обратимся к замечательному методу `execute`, который позволяет обернуть 25 запросов к API внутри себя, что значительно ускорит работу скрипта до примерно 6 часов."
   ]
  },
  {
   "cell_type": "code",
   "execution_count": 149,
   "metadata": {},
   "outputs": [],
   "source": [
    "url = 'https://api.vk.com/method/execute?code=return[\\\n",
    "API.wall.get({\"owner_id\": \"475285338\",\"count\":\"100\"}),\\\n",
    "API.wall.get({\"owner_id\": \"475288625\",\"count\":\"100\"})];&access_token='+token+'&v='+version"
   ]
  },
  {
   "cell_type": "code",
   "execution_count": 150,
   "metadata": {},
   "outputs": [],
   "source": [
    "res = requests.get(url).json()"
   ]
  },
  {
   "cell_type": "code",
   "execution_count": 151,
   "metadata": {},
   "outputs": [
    {
     "data": {
      "text/plain": [
       "['count', 'items']"
      ]
     },
     "execution_count": 151,
     "metadata": {},
     "output_type": "execute_result"
    }
   ],
   "source": [
    "list(res['response'][0])"
   ]
  },
  {
   "cell_type": "markdown",
   "metadata": {},
   "source": [
    "Отлично, метод работает. Создадим пару функций, первая будет дробить наших пользователей на батчи по 25 человек, а вторая будет из них формировать ссылку для метода `execute`"
   ]
  },
  {
   "cell_type": "code",
   "execution_count": 159,
   "metadata": {
    "collapsed": true
   },
   "outputs": [],
   "source": [
    "def makeBatch(uids):\n",
    "    \"\"\"\n",
    "        Возвращает лист листов из пользователей, батчами по 25 человек \n",
    "    \"\"\"\n",
    "    batches = [uids[i:i+25] for i in range(0,len(uids),25)]\n",
    "    \n",
    "    return batches \n",
    "\n",
    "def makeUrl(batch, token=token):\n",
    "    \"\"\"\n",
    "        Создаёт ссылку для метода execute на основе батчей пользователей\n",
    "    \"\"\"\n",
    "    # составляем ссылку из кусочков\n",
    "    begin = 'https://api.vk.com/method/execute?code=return['\n",
    "    end = '];&access_token='+token+'&v='+version\n",
    "    middle = ''\n",
    "    # для каждого пользователя из батча используем метод wall.get \n",
    "    for bt in batch:\n",
    "        middle += 'API.wall.get({\"owner_id\": \"'+str(bt)+'\",\"count\":\"100\"}),'\n",
    "        \n",
    "    return begin + middle[:-1] + end "
   ]
  },
  {
   "cell_type": "markdown",
   "metadata": {},
   "source": [
    "Используя эти функции соберем для каждого кандидата свой датафрейм с постами. При этом будем собирать только по 10000 пользователей с непустыми стенками, чтобы не так сильно раздувать наши датафреймы и избегать банов со стороны вконтакте, сохраняя при этом репрезентативность выборки"
   ]
  },
  {
   "cell_type": "code",
   "execution_count": 165,
   "metadata": {
    "code_folding": [
     0
    ],
    "collapsed": true
   },
   "outputs": [],
   "source": [
    "def getAllPosts(candidate):\n",
    "    \"\"\"\n",
    "        Возвращает список словарей, в каждом их которых посты пользователей\n",
    "    \"\"\"\n",
    "    \n",
    "    # инициализируем список для хранения постов\n",
    "    wall = []\n",
    "    # берем всех людей текущего кандидата\n",
    "    people = candidate_people[candidate]\n",
    "    \n",
    "    # рандомно перемешаем наших пользователей, чтобы обеспечить репрезентативность выборки\n",
    "    np.random.shuffle(people)\n",
    "    \n",
    "    # создадим свой небольшой класс для кастомной ошибки \n",
    "    # на случай превышения лимита запросов\n",
    "    class LimitExceeded(Exception):\n",
    "        pass\n",
    "    \n",
    "    # батчи пользователей\n",
    "    batches = makeBatch(people)\n",
    "    \n",
    "    # итерируем по батчам\n",
    "    for item in tqdm_notebook(batches):\n",
    "        # если насобирали 10 тысяч пользователей, останавливаемся\n",
    "        if len(wall) < 10000:\n",
    "            try:\n",
    "                # пробуем выгрузить по батчу стенки пользователей\n",
    "                res = requests.get(makeUrl(item))\n",
    "                res = res.json()['response']\n",
    "                \n",
    "                # если нас забанили (все респонсы пусты), поднимем ошибку\n",
    "                if res == [False]*25:\n",
    "                    raise LimitExceeded(\"Превышено число запросов\")\n",
    "                \n",
    "                # записываем полученные данные в список\n",
    "                wall.extend(res)\n",
    "                \n",
    "            except LimitExceeded:\n",
    "                # если забанили - подождем минутку, чтобы обновились лимиты запросов\n",
    "                time.sleep(60)\n",
    "                \n",
    "            # в конце каждой итерации ждем 2 секунды, чтобы не словить бан\n",
    "            time.sleep(2)\n",
    "        else:\n",
    "            break\n",
    "            \n",
    "    return wall"
   ]
  },
  {
   "cell_type": "markdown",
   "metadata": {},
   "source": [
    "Еще один код код, который я выполнять не буду"
   ]
  },
  {
   "cell_type": "code",
   "execution_count": 180,
   "metadata": {},
   "outputs": [],
   "source": [
    "# baburin = getAllPosts('Сурайкин')\n",
    "# with open('candidate_wall_suraykin.pkl', 'wb') as f:\n",
    "#    pickle.dump(cur_wl, f)\n",
    "\n",
    "# подгрузим полученный датасет\n",
    "with open('candidate_wall_suraykin.pkl', 'rb') as f:\n",
    "    candidate_wall_suraykin = pickle.load(f)"
   ]
  },
  {
   "cell_type": "markdown",
   "metadata": {},
   "source": [
    "Отлично, осталось перегнать полученный массив данных в датафрейм!"
   ]
  },
  {
   "cell_type": "code",
   "execution_count": 204,
   "metadata": {
    "code_folding": [
     0
    ],
    "collapsed": true
   },
   "outputs": [],
   "source": [
    "def wallToDF(candidate_wall):\n",
    "    \"\"\"\n",
    "        Возвращает преобразованный датафрейм с распарсенными записями со стены\n",
    "        \n",
    "        candidate_wall: list\n",
    "            лист с записями пользователей\n",
    "    \"\"\"\n",
    "    \n",
    "    # инициализируем словарь для записи значений\n",
    "    wall_information = {}\n",
    "    \n",
    "    # елси текущая запись пустая, сразу возвращаем None\n",
    "    if not candidate_wall:\n",
    "        return None\n",
    "    \n",
    "    # Проходимся по информации из всех записей и собираем самое важное в фичи \n",
    "    for item in candidate_wall['items']:\n",
    "        # проверяем, что текущий элемент не пустой\n",
    "        if item:\n",
    "            new_post = []\n",
    "            # Поработаем с датой чуть более подробно. Преобразуем дату в удобочитаемый формат\n",
    "            # пытаемся достать элемент из словаря по ключу, возвращаем False, если его нет\n",
    "            real_date = item.get('date', False)\n",
    "            # преобразуем в datetime, если не False, иначе np.NaN\n",
    "            real_date = np.NaN if not real_date else datetime.datetime.fromtimestamp(real_date)\n",
    "            # добавляем дату\n",
    "            new_post.append(real_date)       \n",
    "\n",
    "            # Нормальная дата для фичи \"Когда сделан репостнутый пост\"\n",
    "            date = item.get('copy_post_date', False)\n",
    "            date = np.NaN if not date else datetime.datetime.fromtimestamp(date)\n",
    "            new_post.append(date)\n",
    "            \n",
    "            # тип записи post, copy, reply, postpone, suggest\n",
    "            new_post.append(item.get('post_type', np.NaN))   \n",
    "            # кто оставил запись \n",
    "            new_post.append(item.get('from_id', np.NaN))     \n",
    "            \n",
    "            # скидываем текст из перепостов и постов в один массив\n",
    "            text = \"\"\n",
    "            # на случай репоста, достаем его из внутреннего массива\n",
    "            for inside_content in item:\n",
    "                try:\n",
    "                    text += inside_content['copy_history'][0]['text']\n",
    "                    text += \" \"\n",
    "                except:\n",
    "                    continue\n",
    "            # добавляем основной текст поста, если есть       \n",
    "            text += item.get('text', \"\")\n",
    "            new_post.append(text)                          # контент записи \n",
    "            new_post.append(item['likes']['count'])        # число лайков \n",
    "            new_post.append(item['reposts']['count'])      # число репостов \n",
    "            new_post.append(item['comments']['count'])     # число комментов \n",
    "            new_post.append(item['comments']['can_post'])  # можно ли оставлять комменты \n",
    "\n",
    "\n",
    "            # просмотры (если запись не старая), пропуск, если запись старая \n",
    "            views = item.get('views', False)\n",
    "            views = np.NaN if not views else views.get('count', np.NaN) \n",
    "            new_post.append(views)\n",
    "            \n",
    "            # Истиный владелец записи (если это репост или запись оставлена)\n",
    "            new_post.append(item.get('copy_owner_id', np.NaN))\n",
    "            \n",
    "            \n",
    "            # Подробнее: https://vk.com/dev/objects/post_source\n",
    "            # Через что создана запись \n",
    "            post_source = item.get('post_source', False)\n",
    "            post_source_type = np.NaN if not post_source else post_source.get('type', np.NaN) \n",
    "            new_post.append(post_source_type)\n",
    "    \n",
    "            # С какой платформы создана запись, если это телефон\n",
    "            post_source_platform = np.NaN if not post_source else post_source.get('platform', np.NaN) \n",
    "            new_post.append(post_source_platform)\n",
    "            \n",
    "            # Дополнительный контент у поста\n",
    "            try:\n",
    "                new_post.append([attach['type'] for attach in item['attachments']])\n",
    "            except:\n",
    "                new_post.append(None)   \n",
    "                \n",
    "            # Сохраняям в словарик, ключ - id записи \n",
    "            wall_information[item['id']] = new_post\n",
    "        else:\n",
    "            # если item пустой или False, то переходим на следующий элемент\n",
    "            continue\n",
    "        \n",
    "    # превращаем всё, что насобирали в таблицу\n",
    "    df = pd.DataFrame(wall_information).T\n",
    "    df.columns = ['date', 'copy_post_date', 'post_type', 'from_id', 'text', \n",
    "          'likes', 'reposts', 'comments', 'can_comment', 'views', 'copy_owner_id', 'type', \n",
    "          'platform', 'attachments']\n",
    "    # добавляем столбец с id юзера\n",
    "    df['uid'] = item['owner_id']\n",
    "    df['wall_cnt'] = candidate_wall['count']\n",
    "    \n",
    "    return df"
   ]
  },
  {
   "cell_type": "code",
   "execution_count": 210,
   "metadata": {},
   "outputs": [
    {
     "data": {
      "application/vnd.jupyter.widget-view+json": {
       "model_id": "05e646df12e847ecad0ed422ecc6fac2"
      }
     },
     "metadata": {},
     "output_type": "display_data"
    }
   ],
   "source": [
    "# инициализируем пустой датафрейм\n",
    "suraykin_dataframe = pd.DataFrame()\n",
    "\n",
    "# проходимся по всем подписчикам кандидата\n",
    "for item in tqdm_notebook(candidate_wall_suraykin):\n",
    "    try:\n",
    "        suraykin_dataframe = suraykin_dataframe.append(wallToDF(item), ignore_index=True)\n",
    "    except:\n",
    "        continue"
   ]
  },
  {
   "cell_type": "code",
   "execution_count": 213,
   "metadata": {
    "collapsed": true
   },
   "outputs": [],
   "source": [
    "# # сохраняем получившийся датафрейм \n",
    "# with open('suraykin_dataframe.pkl', 'wb') as f:\n",
    "#     pickle.dump(df_yvl, f)"
   ]
  },
  {
   "cell_type": "markdown",
   "metadata": {},
   "source": [
    "Ура, ребята, у нас всё работает! (но это неточно)\n",
    "\n",
    "Осталось всего лишь собрать вот такие вот датафреймы еще 7 раз по всем кандидатам (и еще 1 разок для того-чьё-имя-нелья-называть). К сожалению, за такие наглые действия по сбору данных Вконтакте может и покарать баном, поэтому нам пришлось скачивать датасеты параллельно с разных аккаунтов, чтобы избежать ограничений по числу запросов."
   ]
  }
 ],
 "metadata": {
  "kernelspec": {
   "display_name": "Python 3",
   "language": "python",
   "name": "python3"
  },
  "language_info": {
   "codemirror_mode": {
    "name": "ipython",
    "version": 3
   },
   "file_extension": ".py",
   "mimetype": "text/x-python",
   "name": "python",
   "nbconvert_exporter": "python",
   "pygments_lexer": "ipython3",
   "version": "3.6.5"
  },
  "varInspector": {
   "cols": {
    "lenName": 16,
    "lenType": 16,
    "lenVar": 40
   },
   "kernels_config": {
    "python": {
     "delete_cmd_postfix": "",
     "delete_cmd_prefix": "del ",
     "library": "var_list.py",
     "varRefreshCmd": "print(var_dic_list())"
    },
    "r": {
     "delete_cmd_postfix": ") ",
     "delete_cmd_prefix": "rm(",
     "library": "var_list.r",
     "varRefreshCmd": "cat(var_dic_list()) "
    }
   },
   "position": {
    "height": "465px",
    "left": "862px",
    "right": "20px",
    "top": "120px",
    "width": "504px"
   },
   "types_to_exclude": [
    "module",
    "function",
    "builtin_function_or_method",
    "instance",
    "_Feature"
   ],
   "window_display": false
  }
 },
 "nbformat": 4,
 "nbformat_minor": 2
}
