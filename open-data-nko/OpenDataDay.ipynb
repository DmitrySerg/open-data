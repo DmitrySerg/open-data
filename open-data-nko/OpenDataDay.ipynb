{
 "cells": [
  {
   "cell_type": "markdown",
   "metadata": {},
   "source": [
    "\n",
    "# <center>Кому на Руси помогать хорошо: Парсим НКО при помощи Python</center>\n",
    "<img src=\"http://apptractor.ru/wp-content/uploads/2014/03/charities-header.png\" height=\"200\" width=\"200\"> \n",
    "\n",
    "\n",
    "---\n",
    "\n",
    "<h3 style=\"text-align: right;\" markdown=\"1\">Дмитрий Сергеев</h3>"
   ]
  },
  {
   "cell_type": "markdown",
   "metadata": {},
   "source": [
    "## Импортируем необходимые библиотеки"
   ]
  },
  {
   "cell_type": "code",
   "execution_count": 24,
   "metadata": {
    "collapsed": false
   },
   "outputs": [],
   "source": [
    "from urllib.request import urlopen, Request # написание обращений к сайту, открытие ссылок\n",
    "import re                                   # регулярные выражения, для поиска/очистки строк \n",
    "\n",
    "from bs4 import BeautifulSoup               # красивый суп для преобразования html-мусора \n",
    "                                            # в структурированное дерево\n",
    "\n",
    "import time                                 # будем использовать для ограничения числа запросов в секунду\n",
    "\n",
    "import pandas as pd\n",
    "import numpy as np"
   ]
  },
  {
   "cell_type": "markdown",
   "metadata": {},
   "source": [
    "Генерация фейкового юзер-агента, чтобы быть похожим на человека - https://pypi.python.org/pypi/user_agent"
   ]
  },
  {
   "cell_type": "code",
   "execution_count": 26,
   "metadata": {
    "collapsed": false
   },
   "outputs": [],
   "source": [
    "import sys\n",
    "sys.path.append('/Users/dmitrys/anaconda2/lib/python2.7/site-packages')\n",
    "from user_agent import generate_user_agent"
   ]
  },
  {
   "cell_type": "code",
   "execution_count": 27,
   "metadata": {
    "collapsed": false
   },
   "outputs": [
    {
     "data": {
      "text/plain": [
       "'Mozilla/5.0 (Macintosh; Intel Mac OS X 10_10_0) AppleWebKit/537.36 (KHTML, like Gecko) Chrome/43.0.2388.56 Safari/537.36'"
      ]
     },
     "execution_count": 27,
     "metadata": {},
     "output_type": "execute_result"
    }
   ],
   "source": [
    "generate_user_agent()"
   ]
  },
  {
   "cell_type": "code",
   "execution_count": 29,
   "metadata": {
    "collapsed": false
   },
   "outputs": [
    {
     "data": {
      "text/plain": [
       "'Mozilla/5.0 (X11; Linux i686 on x86_64) AppleWebKit/537.36 (KHTML, like Gecko) Chrome/50.0.2688.18 Safari/537.36'"
      ]
     },
     "execution_count": 29,
     "metadata": {},
     "output_type": "execute_result"
    }
   ],
   "source": [
    "generate_user_agent()"
   ]
  },
  {
   "cell_type": "markdown",
   "metadata": {},
   "source": [
    "###  Наша главная ссылка, по которой мы будем в дальнейшем гулять, добавляя новые значения для страницы, а также ссылка для благотворительной организации"
   ]
  },
  {
   "cell_type": "code",
   "execution_count": null,
   "metadata": {
    "collapsed": true
   },
   "outputs": [],
   "source": [
    "http://ivsezaodnogo.ru/foundations?search_by=name\n",
    "http://ivsezaodnogo.ru/foundations/458"
   ]
  },
  {
   "cell_type": "code",
   "execution_count": 31,
   "metadata": {
    "collapsed": true
   },
   "outputs": [],
   "source": [
    "main_url = \"http://ivsezaodnogo.ru/foundations?search_by=name&page={}\"\n",
    "sub_url = \"http://ivsezaodnogo.ru/foundations/{}\""
   ]
  },
  {
   "cell_type": "markdown",
   "metadata": {},
   "source": [
    "Если в ссылку подставить число - получим валидный url, на который можно перейти"
   ]
  },
  {
   "cell_type": "code",
   "execution_count": 32,
   "metadata": {
    "collapsed": false
   },
   "outputs": [
    {
     "data": {
      "text/plain": [
       "'http://ivsezaodnogo.ru/foundations?search_by=name&page=5'"
      ]
     },
     "execution_count": 32,
     "metadata": {},
     "output_type": "execute_result"
    }
   ],
   "source": [
    "main_url.format(5)"
   ]
  },
  {
   "cell_type": "markdown",
   "metadata": {},
   "source": [
    "Попробуем перейти и посмотреть"
   ]
  },
  {
   "cell_type": "code",
   "execution_count": 34,
   "metadata": {
    "collapsed": false
   },
   "outputs": [
    {
     "data": {
      "text/plain": [
       "{'User-Agent': 'Mozilla/5.0 (Macintosh; Intel Mac OS X 10_8_8) AppleWebKit/537.36 (KHTML, like Gecko) Chrome/44.0.2435.95 Safari/537.36'}"
      ]
     },
     "execution_count": 34,
     "metadata": {},
     "output_type": "execute_result"
    }
   ],
   "source": [
    "{\"User-Agent\":generate_user_agent()}"
   ]
  },
  {
   "cell_type": "code",
   "execution_count": 33,
   "metadata": {
    "collapsed": false
   },
   "outputs": [
    {
     "name": "stdout",
     "output_type": "stream",
     "text": [
      "b\"<!DOCTYPE html>\\n<html lang='ru-RU'>\\n<head>\\n<meta charset='utf-8'>\\n<title>\\n\\xd0\\xa1\\xd0\\xbf\\xd1\\x80\\xd0\\xb0\\xd0\\xb2\\xd0\\xbe\\xd1\\x87\\xd0\\xbd\\xd0\\xb8\\xd0\\xba \\xd0\\xb1\\xd0\\xbb\\xd0\\xb0\\xd0\\xb3\\xd0\\xbe\\xd1\\x82\\xd0\\xb2\\xd0\\xbe\\xd1\\x80\\xd0\\xb8\\xd1\\x82\\xd0\\xb5\\xd0\\xbb\\xd1\\x8c\\xd0\\xbd\\xd1\\x8b\\xd1\\x85 \\xd0\\xbe\\xd1\\x80\\xd0\\xb3\\xd0\\xb0\\xd0\\xbd\\xd0\\xb8\\xd0\\xb7\\xd0\\xb0\\xd1\\x86\\xd0\\xb8\\xd0\\xb9 / \\xd0\\x98 \\xd0\\xb2\\xd1\\x81\\xd0\\xb5 \\xd0\\xb7\\xd0\\xb0 \\xd0\\xbe\\xd0\\xb4\\xd0\\xbd\\xd0\\xbe\\xd0\\xb3\\xd0\\xbe\\n</title>\\n<meta co\"\n"
     ]
    }
   ],
   "source": [
    "req = Request('http://ivsezaodnogo.ru/foundations?search_by=name&page=5', headers={\"User-Agent\":generate_user_agent()})\n",
    "webpage = urlopen(req).read()\n",
    "print(webpage[0:200])"
   ]
  },
  {
   "cell_type": "code",
   "execution_count": 35,
   "metadata": {
    "collapsed": true
   },
   "outputs": [],
   "source": [
    "soup = BeautifulSoup(webpage, \"lxml\")"
   ]
  },
  {
   "cell_type": "code",
   "execution_count": 36,
   "metadata": {
    "collapsed": false
   },
   "outputs": [
    {
     "name": "stdout",
     "output_type": "stream",
     "text": [
      "<!DOCTYPE html>\n",
      "<html lang=\"ru-RU\">\n",
      "<head>\n",
      "<meta charset=\"utf-8\"/>\n",
      "<title>\n",
      "Справочник благотворительных организаций / И все за одного\n",
      "</title>\n",
      "<meta content=\"Благотворительные организации в Москве, подробный список организаций, социальные организации. Наша цель – помочь людям, оказавшимся в беде. Наш телефон в Москве: +7 (968) 419-99-90\" name=\"description\"/>\n",
      "<meta content=\"\" name=\"keywords\"/>\n",
      "<meta content=\"5f1c28a92cbde15a\" name=\"yandex-verification\"/>\n",
      "<meta content=\"Справочник благотворительных организаций / И все за одного\" property=\"og:title\"/>\n",
      "<meta content=\"Благотворительные организации в Москве, подробный список организаций, социальные организации. Наша цель – помочь людям, оказавшимся в беде. Наш телефон в Москве: +7 (968) 419-99-90\" property=\"og:description\"/>\n",
      "<meta content=\"http://ivsezaodnogo.ru/images/og_logo.png\" property=\"og:image\"/>\n",
      "<link href=\"http://ivsezaodnogo.ru/images/og_logo.png\" rel=\"image_src\"/>\n",
      "<link href=\"/images/favicon_128.png\" rel=\"shortcut icon\" type=\"image/vnd.microsoft.icon\"/>\n",
      "<link href=\"/assets/application-d53e3427d6481c2cbe6fd28a283a23f3.css\" media=\"all\" rel=\"stylesheet\"/>\n",
      "<script src=\"/assets/application-a3b332ddfba3058925c193026734205f.js\"></script>\n",
      "<script>\n",
      "  (function() {\n",
      "    I18n.locale = 'ru';\n",
      "  \n",
      "  }).call(this);\n",
      "</script>\n",
      "<meta content=\"authenticity_token\" name=\"csrf-param\"/>\n",
      "<meta content=\"ElA1cIBQavoNBxvqbpKi2Mw35vcAb6oEbpxzX1gg7ZA=\" name=\"csrf-token\"/>\n",
      "<script>\n",
      "  (function(i,s,o,g,r,a,m){i['GoogleAnalyticsObject']=r;i[r]=i[r]||function(){\n",
      "  (i[r].q=i[r].q||[]).push(arguments)},i[r].l=1*new Date();a=s.createElement(o),\n",
      "  m=s.getElementsByTagName(o)[0];a.async=1;a.src=g;m.parentNode.insertBefore(a,m)\n",
      "  })(window,document,'script','//www.google-analytics.com/analytics.js','ga');\n",
      "  \n",
      "  ga('create', 'UA-48370812-1', 'ivsezaodnogo.ru');\n",
      "  ga('send', 'pageview');\n",
      "</script>\n",
      "</head>\n",
      "<body>\n",
      "<div class=\"l-wrapper\">\n",
      "<section class=\"l-page\">\n",
      "<header class=\"l-page__header\">\n",
      "<div class=\"l-page__container\">\n",
      "<a class=\"g-toggle-language\" href=\"http://allforone.social\">en</a>\n",
      "<nav class=\"g-navigation user\">\n",
      "<a class=\"link js-popover-trigger\" href=\"/users/sign_in\" rel=\"nofollow\">Личный кабинет</a>\n",
      "<div class=\"g-popover js-devise-popover\">\n",
      "<div class=\"ajax-loader with-text\">Загрузка...</div>\n",
      "</div>\n",
      "</nav>\n",
      "<a class=\"logo \" href=\"/\" title=\"И все за одного\"></a>\n",
      "<nav class=\"g-navigation main\">\n",
      "<a class=\"link js-tooltip\" href=\"/foundations\" title=\"Здесь размещен общий справочник благотворительных организаций.\">Благотворительные организации</a>\n",
      "<a class=\"link\" href=\"/navigator\">Навигатор</a>\n",
      "<a class=\"link\" href=\"/unitedway\">Валидация</a>\n",
      "<a class=\"link\" href=\"/about\">О проекте</a>\n",
      "</nav>\n",
      "</div>\n",
      "</header>\n",
      "<section class=\"l-page__flashes\">\n",
      "</section>\n",
      "<div class=\"l-page__container l-page__content\">\n",
      "<h1>\n",
      "<a class=\"title-link\" href=\"/foundations\">Справочник благотворительных организаций</a>\n",
      "<a class=\"add\" href=\"/users/sign_in?from=new_foundation\" title=\"Зарегистрировать новую благотворительную организацию\">+</a>\n",
      "</h1>\n",
      "<div class=\"b-change-roles\">\n",
      "<a class=\"g-button medium role js-tooltip recipient \" href=\"/foundations/recipient?page=5&amp;search_by=name\" title=\"Нажав эту кнопку, вы сможете выбрать благотворительные организации из общего справочника, которые готовы рассматривать заявки на помощь.\">Попросить помощь</a>\n",
      "<a class=\"g-button medium role js-tooltip benefactor \" href=\"/foundations/benefactor?page=5&amp;search_by=name\" title=\"Нажав эту кнопку вы сможете перечислить пожертвования благотворительным организациам через наш сайт.\">Помочь</a>\n",
      "<a class=\"g-button medium role js-tooltip media \" href=\"/foundations/media?page=5&amp;search_by=name\" title=\"Нажав эту кнопку, вы сможете выбрать благотворительные организации, у которых есть медиаматериалы для спонсорского размещения.\">Стать спонсором</a>\n",
      "</div>\n",
      "<form accept-charset=\"UTF-8\" action=\"/foundations\" class=\"b-foundations-filter with-sort-line no-bind js-foundations-filter\" method=\"get\"><div style=\"margin:0;padding:0;display:inline\"><input name=\"utf8\" type=\"hidden\" value=\"✓\"/></div>\n",
      "<div class=\"filter-submit\">\n",
      "<input class=\"submit\" type=\"submit\" value=\"Найти\"/>\n",
      "</div>\n",
      "<div class=\"filter-inputs\">\n",
      "<input class=\"form-field search\" id=\"query\" name=\"query\" placeholder=\"Поиск благотворительной организации\" type=\"text\"/>\n",
      "</div>\n",
      "<div class=\"filter-line radio-line\">\n",
      "Искать по:\n",
      "<input checked=\"checked\" class=\"g-checkbox form-field\" data-default-state=\"true\" id=\"search_by_name\" name=\"search_by\" type=\"radio\" value=\"name\"/>\n",
      "<label class=\"radio-label\" for=\"search_by_name\">названию</label>\n",
      "<input class=\"g-checkbox form-field\" data-default-state=\"false\" id=\"search_by_description\" name=\"search_by\" type=\"radio\" value=\"description\"/>\n",
      "<label class=\"radio-label\" for=\"search_by_description\">описанию</label>\n",
      "</div>\n",
      "<div class=\"filter-line suck-bottom\">\n",
      "<div class=\"g-multi-completer vertical no-bind js-regions-completer\" data-source='[{\"value\":3,\"label\":\"Алтайский край\",\"parent_id\":13},{\"value\":4,\"label\":\"Амурская область\",\"parent_id\":12},{\"value\":5,\"label\":\"Архангельская область\",\"parent_id\":11},{\"value\":7,\"label\":\"Астраханская область\",\"parent_id\":10},{\"value\":8,\"label\":\"Башкортостан\",\"parent_id\":15},{\"value\":9,\"label\":\"Белгородская область\",\"parent_id\":9},{\"value\":10,\"label\":\"Брянская область\",\"parent_id\":9},{\"value\":11,\"label\":\"Бурятия\",\"parent_id\":13},{\"value\":12,\"label\":\"Владимирская область\",\"parent_id\":9},{\"value\":13,\"label\":\"Волгоградская область\",\"parent_id\":10},{\"value\":14,\"label\":\"Вологодская область\",\"parent_id\":11},{\"value\":15,\"label\":\"Воронежская область\",\"parent_id\":9},{\"value\":16,\"label\":\"Дагестан\",\"parent_id\":16},{\"value\":17,\"label\":\"Еврейская АО\",\"parent_id\":12},{\"value\":18,\"label\":\"Забайкальский край\",\"parent_id\":13},{\"value\":19,\"label\":\"Ивановская область\",\"parent_id\":9},{\"value\":20,\"label\":\"Ингушетия\",\"parent_id\":16},{\"value\":21,\"label\":\"Иркутская область\",\"parent_id\":13},{\"value\":22,\"label\":\"Кабардино-Балкария\",\"parent_id\":16},{\"value\":23,\"label\":\"Калининградская область\",\"parent_id\":11},{\"value\":24,\"label\":\"Калмыкия\",\"parent_id\":10},{\"value\":25,\"label\":\"Калужская область\",\"parent_id\":9},{\"value\":26,\"label\":\"Камчатский край\",\"parent_id\":12},{\"value\":27,\"label\":\"Карачаево-Черкесия\",\"parent_id\":16},{\"value\":28,\"label\":\"Карелия\",\"parent_id\":11},{\"value\":29,\"label\":\"Кемеровская область\",\"parent_id\":13},{\"value\":30,\"label\":\"Кировская область\",\"parent_id\":15},{\"value\":32,\"label\":\"Костромская область\",\"parent_id\":9},{\"value\":33,\"label\":\"Краснодарский край\",\"parent_id\":10},{\"value\":34,\"label\":\"Красноярский край\",\"parent_id\":13},{\"value\":35,\"label\":\"Курганская область\",\"parent_id\":14},{\"value\":36,\"label\":\"Курская область\",\"parent_id\":9},{\"value\":37,\"label\":\"Ленинградская область\",\"parent_id\":11},{\"value\":38,\"label\":\"Липецкая область\",\"parent_id\":9},{\"value\":39,\"label\":\"Магаданская область\",\"parent_id\":12},{\"value\":42,\"label\":\"Москва\",\"parent_id\":9},{\"value\":43,\"label\":\"Московская область\",\"parent_id\":9},{\"value\":44,\"label\":\"Мурманская область\",\"parent_id\":11},{\"value\":45,\"label\":\"Ненецкий АО\",\"parent_id\":11},{\"value\":46,\"label\":\"Нижегородская область\",\"parent_id\":15},{\"value\":47,\"label\":\"Новгородская область\",\"parent_id\":11},{\"value\":48,\"label\":\"Новосибирская область\",\"parent_id\":13},{\"value\":49,\"label\":\"Омская область\",\"parent_id\":13},{\"value\":50,\"label\":\"Оренбургская область\",\"parent_id\":15},{\"value\":51,\"label\":\"Орловская область\",\"parent_id\":9},{\"value\":52,\"label\":\"Пензенская область\",\"parent_id\":15},{\"value\":53,\"label\":\"Пермский край\",\"parent_id\":15},{\"value\":54,\"label\":\"Приморский край\",\"parent_id\":12},{\"value\":55,\"label\":\"Псковская область\",\"parent_id\":11},{\"value\":1,\"label\":\"Республика Адыгея\",\"parent_id\":10},{\"value\":2,\"label\":\"Республика Алтай\",\"parent_id\":13},{\"value\":31,\"label\":\"Республика Коми\",\"parent_id\":11},{\"value\":40,\"label\":\"Республика Марий Эл\",\"parent_id\":15},{\"value\":41,\"label\":\"Республика Мордовия\",\"parent_id\":15},{\"value\":56,\"label\":\"Ростовская область\",\"parent_id\":10},{\"value\":57,\"label\":\"Рязанская область\",\"parent_id\":9},{\"value\":58,\"label\":\"Самарская область\",\"parent_id\":15},{\"value\":59,\"label\":\"Санкт-Петербург\",\"parent_id\":11},{\"value\":60,\"label\":\"Саратовская область\",\"parent_id\":15},{\"value\":61,\"label\":\"Сахалинская область\",\"parent_id\":12},{\"value\":62,\"label\":\"Свердловская область\",\"parent_id\":14},{\"value\":63,\"label\":\"Северная Осетия - Алания\",\"parent_id\":16},{\"value\":64,\"label\":\"Смоленская область\",\"parent_id\":9},{\"value\":65,\"label\":\"Ставропольский край\",\"parent_id\":16},{\"value\":66,\"label\":\"Тамбовская область\",\"parent_id\":9},{\"value\":67,\"label\":\"Татарстан\",\"parent_id\":15},{\"value\":68,\"label\":\"Тверская область\",\"parent_id\":9},{\"value\":69,\"label\":\"Томская область\",\"parent_id\":13},{\"value\":70,\"label\":\"Тульская область\",\"parent_id\":9},{\"value\":71,\"label\":\"Тыва\",\"parent_id\":13},{\"value\":72,\"label\":\"Тюменская область\",\"parent_id\":14},{\"value\":73,\"label\":\"Удмуртия\",\"parent_id\":15},{\"value\":74,\"label\":\"Ульяновская область\",\"parent_id\":15},{\"value\":75,\"label\":\"Хабаровский край\",\"parent_id\":12},{\"value\":76,\"label\":\"Хакасия\",\"parent_id\":13},{\"value\":77,\"label\":\"Ханты-Мансийский АО\",\"parent_id\":14},{\"value\":78,\"label\":\"Челябинская область\",\"parent_id\":14},{\"value\":79,\"label\":\"Чечня\",\"parent_id\":16},{\"value\":80,\"label\":\"Чувашия\",\"parent_id\":15},{\"value\":81,\"label\":\"Чукотский АО\",\"parent_id\":12},{\"value\":82,\"label\":\"Якутия\",\"parent_id\":12},{\"value\":83,\"label\":\"Ямало-Ненецкий АО\",\"parent_id\":14},{\"value\":84,\"label\":\"Ярославская область\",\"parent_id\":9}]' data-unique-name=\"regions\">\n",
      "<div class=\"completer-input-wrapper\">\n",
      "<input class=\"completer-input\" id=\"\" placeholder=\"Регион\" type=\"text\"/>\n",
      "<a class=\"bullet\" href=\"javascript:;\"></a>\n",
      "</div>\n",
      "<div class=\"items-wrapper\"></div>\n",
      "</div>\n",
      "<div class=\"g-multi-completer vertical no-bind js-cities-completer\" data-name=\"city_ids[]\" data-overflow=\"5\" data-overflow-i18n=\"pluralize.cities_completer\" data-selected=\"[]\" data-source='[{\"value\":490,\"label\":\"Москва\",\"parent_id\":42},{\"value\":781,\"label\":\"Санкт-Петербург\",\"parent_id\":59},{\"value\":1010,\"label\":\"Абаза\",\"parent_id\":76},{\"value\":1011,\"label\":\"Абакан\",\"parent_id\":76},{\"value\":646,\"label\":\"Абдулино\",\"parent_id\":50},{\"value\":370,\"label\":\"Абинск\",\"parent_id\":33},{\"value\":44,\"label\":\"Агидель\",\"parent_id\":8},{\"value\":911,\"label\":\"Агрыз\",\"parent_id\":67},{\"value\":1,\"label\":\"Адыгейск\",\"parent_id\":1},{\"value\":912,\"label\":\"Азнакаево\",\"parent_id\":67},{\"value\":727,\"label\":\"Азов\",\"parent_id\":56},{\"value\":981,\"label\":\"Ак-Довурак\",\"parent_id\":71},{\"value\":728,\"label\":\"Аксай\",\"parent_id\":56},{\"value\":863,\"label\":\"Алагир\",\"parent_id\":63},{\"value\":816,\"label\":\"Алапаевск\",\"parent_id\":62},{\"value\":1066,\"label\":\"Алатырь\",\"parent_id\":80},{\"value\":1078,\"label\":\"Алдан\",\"parent_id\":82},{\"value\":4,\"label\":\"Алейск\",\"parent_id\":3},{\"value\":98,\"label\":\"Александров\",\"parent_id\":12},{\"value\":676,\"label\":\"Александровск\",\"parent_id\":53},{\"value\":801,\"label\":\"Александровск-Сахалинский\",\"parent_id\":61},{\"value\":65,\"label\":\"Алексеевка\",\"parent_id\":9},{\"value\":962,\"label\":\"Алексин\",\"parent_id\":70},{\"value\":213,\"label\":\"Алзамай\",\"parent_id\":21},{\"value\":913,\"label\":\"Альметьевск\",\"parent_id\":67},{\"value\":1003,\"label\":\"Амурск\",\"parent_id\":75},{\"value\":1075,\"label\":\"Анадырь\",\"parent_id\":81},{\"value\":371,\"label\":\"Анапа\",\"parent_id\":33},{\"value\":214,\"label\":\"Ангарск\",\"parent_id\":21},{\"value\":933,\"label\":\"Андреаполь\",\"parent_id\":68},{\"value\":310,\"label\":\"Анжеро-Судженск\",\"parent_id\":29},{\"value\":802,\"label\":\"Анива\",\"parent_id\":61},{\"value\":571,\"label\":\"Апатиты\",\"parent_id\":44},{\"value\":491,\"label\":\"Апрелевка\",\"parent_id\":43},{\"value\":372,\"label\":\"Апшеронск\",\"parent_id\":33},{\"value\":817,\"label\":\"Арамиль\",\"parent_id\":62},{\"value\":1061,\"label\":\"Аргун\",\"parent_id\":79},{\"value\":483,\"label\":\"Ардатов\",\"parent_id\":41},{\"value\":864,\"label\":\"Ардон\",\"parent_id\":63},{\"value\":588,\"label\":\"Арзамас\",\"parent_id\":46},{\"value\":783,\"label\":\"Аркадак\",\"parent_id\":60},{\"value\":373,\"label\":\"Армавир\",\"parent_id\":33},{\"value\":701,\"label\":\"Арсеньев\",\"parent_id\":54},{\"value\":914,\"label\":\"Арск\",\"parent_id\":67},{\"value\":702,\"label\":\"Артём\",\"parent_id\":54},{\"value\":396,\"label\":\"Артёмовск\",\"parent_id\":34},{\"value\":818,\"label\":\"Артёмовский\",\"parent_id\":62},{\"value\":25,\"label\":\"Архангельск\",\"parent_id\":5},{\"value\":819,\"label\":\"Асбест\",\"parent_id\":62},{\"value\":956,\"label\":\"Асино\",\"parent_id\":69},{\"value\":38,\"label\":\"Астрахань\",\"parent_id\":7},{\"value\":784,\"label\":\"Аткарск\",\"parent_id\":60},{\"value\":39,\"label\":\"Ахтубинск\",\"parent_id\":7},{\"value\":397,\"label\":\"Ачинск\",\"parent_id\":34},{\"value\":1031,\"label\":\"Аша\",\"parent_id\":78},{\"value\":140,\"label\":\"Бабаево\",\"parent_id\":14},{\"value\":92,\"label\":\"Бабушкин\",\"parent_id\":11},{\"value\":915,\"label\":\"Бавлы\",\"parent_id\":67},{\"value\":243,\"label\":\"Багратионовск\",\"parent_id\":23},{\"value\":215,\"label\":\"Байкальск\",\"parent_id\":21},{\"value\":45,\"label\":\"Баймак\",\"parent_id\":8},{\"value\":1032,\"label\":\"Бакал\",\"parent_id\":78},{\"value\":235,\"label\":\"Баксан\",\"parent_id\":22},{\"value\":268,\"label\":\"Балабаново\",\"parent_id\":25},{\"value\":785,\"label\":\"Балаково\",\"parent_id\":60},{\"value\":589,\"label\":\"Балахна\",\"parent_id\":46},{\"value\":492,\"label\":\"Балашиха\",\"parent_id\":43},{\"value\":786,\"label\":\"Балашов\",\"parent_id\":60},{\"value\":182,\"label\":\"Балей\",\"parent_id\":18},{\"value\":244,\"label\":\"Балтийск\",\"parent_id\":23},{\"value\":626,\"label\":\"Барабинск\",\"parent_id\":48},{\"value\":5,\"label\":\"Барнаул\",\"parent_id\":3},{\"value\":997,\"label\":\"Барыш\",\"parent_id\":74},{\"value\":729,\"label\":\"Батайск\",\"parent_id\":56},{\"value\":934,\"label\":\"Бежецк\",\"parent_id\":68},{\"value\":730,\"label\":\"Белая Калитва\",\"parent_id\":56},{\"value\":330,\"label\":\"Белая Холуница\",\"parent_id\":30},{\"value\":66,\"label\":\"Белгород\",\"parent_id\":9},{\"value\":46,\"label\":\"Белебей\",\"parent_id\":8},{\"value\":665,\"label\":\"Белинский\",\"parent_id\":52},{\"value\":311,\"label\":\"Белово\",\"parent_id\":29},{\"value\":16,\"label\":\"Белогорск\",\"parent_id\":4},{\"value\":141,\"label\":\"Белозерск\",\"parent_id\":14},{\"value\":6,\"label\":\"Белокуриха\",\"parent_id\":3},{\"value\":297,\"label\":\"Беломорск\",\"parent_id\":28},{\"value\":47,\"label\":\"Белорецк\",\"parent_id\":8},{\"value\":374,\"label\":\"Белореченск\",\"parent_id\":33},{\"value\":269,\"label\":\"Белоусово\",\"parent_id\":25},{\"value\":1015,\"label\":\"Белоярский\",\"parent_id\":77},{\"value\":935,\"label\":\"Белый\",\"parent_id\":68},{\"value\":963,\"label\":\"Белёв\",\"parent_id\":70},{\"value\":627,\"label\":\"Бердск\",\"parent_id\":48},{\"value\":677,\"label\":\"Березники\",\"parent_id\":53},{\"value\":820,\"label\":\"Берёзовский\",\"parent_id\":62},{\"value\":312,\"label\":\"Берёзовский\",\"parent_id\":29},{\"value\":865,\"label\":\"Беслан\",\"parent_id\":63},{\"value\":7,\"label\":\"Бийск\",\"parent_id\":3},{\"value\":1004,\"label\":\"Бикин\",\"parent_id\":75},{\"value\":1076,\"label\":\"Билибино\",\"parent_id\":81},{\"value\":180,\"label\":\"Биробиджан\",\"parent_id\":17},{\"value\":48,\"label\":\"Бирск\",\"parent_id\":8},{\"value\":216,\"label\":\"Бирюсинск\",\"parent_id\":21},{\"value\":67,\"label\":\"Бирюч\",\"parent_id\":9},{\"value\":49,\"label\":\"Благовещенск\",\"parent_id\":8},{\"value\":17,\"label\":\"Благовещенск\",\"parent_id\":4},{\"value\":884,\"label\":\"Благодарный\",\"parent_id\":65},{\"value\":155,\"label\":\"Бобров\",\"parent_id\":15},{\"value\":821,\"label\":\"Богданович\",\"parent_id\":62},{\"value\":964,\"label\":\"Богородицк\",\"parent_id\":70},{\"value\":590,\"label\":\"Богородск\",\"parent_id\":46},{\"value\":398,\"label\":\"Боготол\",\"parent_id\":34},{\"value\":156,\"label\":\"Богучар\",\"parent_id\":15},{\"value\":217,\"label\":\"Бодайбо\",\"parent_id\":21},{\"value\":438,\"label\":\"Бокситогорск\",\"parent_id\":37},{\"value\":916,\"label\":\"Болгар\",\"parent_id\":67},{\"value\":936,\"label\":\"Бологое\",\"parent_id\":68},{\"value\":628,\"label\":\"Болотное\",\"parent_id\":48},{\"value\":965,\"label\":\"Болохово\",\"parent_id\":70},{\"value\":658,\"label\":\"Болхов\",\"parent_id\":51},{\"value\":703,\"label\":\"Большой Камень\",\"parent_id\":54},{\"value\":591,\"label\":\"Бор\",\"parent_id\":46},{\"value\":183,\"label\":\"Борзя\",\"parent_id\":18},{\"value\":157,\"label\":\"Борисоглебск\",\"parent_id\":15},{\"value\":616,\"label\":\"Боровичи\",\"parent_id\":47},{\"value\":270,\"label\":\"Боровск\",\"parent_id\":25},{\"value\":399,\"label\":\"Бородино\",\"parent_id\":34},{\"value\":218,\"label\":\"Братск\",\"parent_id\":21},{\"value\":493,\"label\":\"Бронницы\",\"parent_id\":43},{\"value\":76,\"label\":\"Брянск\",\"parent_id\":10},{\"value\":917,\"label\":\"Бугульма\",\"parent_id\":67},{\"value\":647,\"label\":\"Бугуруслан\",\"parent_id\":50},{\"value\":885,\"label\":\"Будённовск\",\"parent_id\":65},{\"value\":648,\"label\":\"Бузулук\",\"parent_id\":50},{\"value\":918,\"label\":\"Буинск\",\"parent_id\":67},{\"value\":358,\"label\":\"Буй\",\"parent_id\":32},{\"value\":170,\"label\":\"Буйнакск\",\"parent_id\":16},{\"value\":158,\"label\":\"Бутурлиновка\",\"parent_id\":15},{\"value\":617,\"label\":\"Валдай\",\"parent_id\":47},{\"value\":68,\"label\":\"Валуйки\",\"parent_id\":9},{\"value\":869,\"label\":\"Велиж\",\"parent_id\":64},{\"value\":713,\"label\":\"Великие Луки\",\"parent_id\":55},{\"value\":1110,\"label\":\"Великий Новгород\",\"parent_id\":47},{\"value\":142,\"label\":\"Великий Устюг\",\"parent_id\":14},{\"value\":26,\"label\":\"Вельск\",\"parent_id\":5},{\"value\":966,\"label\":\"Венёв\",\"parent_id\":70},{\"value\":678,\"label\":\"Верещагино\",\"parent_id\":53},{\"value\":494,\"label\":\"Верея\",\"parent_id\":43},{\"value\":1033,\"label\":\"Верхнеуральск\",\"parent_id\":78},{\"value\":822,\"label\":\"Верхний Тагил\",\"parent_id\":62},{\"value\":1034,\"label\":\"Верхний Уфалей\",\"parent_id\":78},{\"value\":823,\"label\":\"Верхняя Пышма\",\"parent_id\":62},{\"value\":824,\"label\":\"Верхняя Салда\",\"parent_id\":62},{\"value\":825,\"label\":\"Верхняя Тура\",\"parent_id\":62},{\"value\":826,\"label\":\"Верхотурье\",\"parent_id\":62},{\"value\":1079,\"label\":\"Верхоянск\",\"parent_id\":82},{\"value\":937,\"label\":\"Весьегонск\",\"parent_id\":68},{\"value\":592,\"label\":\"Ветлуга\",\"parent_id\":46},{\"value\":495,\"label\":\"Видное\",\"parent_id\":43},{\"value\":1080,\"label\":\"Вилюйск\",\"parent_id\":82},{\"value\":290,\"label\":\"Вилючинск\",\"parent_id\":26},{\"value\":219,\"label\":\"Вихоревка\",\"parent_id\":21},{\"value\":192,\"label\":\"Вичуга\",\"parent_id\":19},{\"value\":704,\"label\":\"Владивосток\",\"parent_id\":54},{\"value\":866,\"label\":\"Владикавказ\",\"parent_id\":63},{\"value\":99,\"label\":\"Владимир\",\"parent_id\":12},{\"value\":121,\"label\":\"Волгоград\",\"parent_id\":13},{\"value\":731,\"label\":\"Волгодонск\",\"parent_id\":56},{\"value\":359,\"label\":\"Волгореченск\",\"parent_id\":32},{\"value\":479,\"label\":\"Волжск\",\"parent_id\":40},{\"value\":122,\"label\":\"Волжский\",\"parent_id\":13},{\"value\":143,\"label\":\"Вологда\",\"parent_id\":14},{\"value\":593,\"label\":\"Володарск\",\"parent_id\":46},{\"value\":496,\"label\":\"Волоколамск\",\"parent_id\":43},{\"value\":439,\"label\":\"Волосово\",\"parent_id\":37},{\"value\":440,\"label\":\"Волхов\",\"parent_id\":37},{\"value\":827,\"label\":\"Волчанск\",\"parent_id\":62},{\"value\":787,\"label\":\"Вольск\",\"parent_id\":60},{\"value\":348,\"label\":\"Воркута\",\"parent_id\":31},{\"value\":159,\"label\":\"Воронеж\",\"parent_id\":15},{\"value\":594,\"label\":\"Ворсма\",\"parent_id\":46},{\"value\":497,\"label\":\"Воскресенск\",\"parent_id\":43},{\"value\":991,\"label\":\"Воткинск\",\"parent_id\":73},{\"value\":441,\"label\":\"Всеволожск\",\"parent_id\":37},{\"value\":349,\"label\":\"Вуктыл\",\"parent_id\":31},{\"value\":442,\"label\":\"Выборг\",\"parent_id\":37},{\"value\":595,\"label\":\"Выкса\",\"parent_id\":46},{\"value\":498,\"label\":\"Высоковск\",\"parent_id\":43},{\"value\":443,\"label\":\"Высоцк\",\"parent_id\":37},{\"value\":144,\"label\":\"Вытегра\",\"parent_id\":14},{\"value\":938,\"label\":\"Вышний Волочёк\",\"parent_id\":68},{\"value\":1005,\"label\":\"Вяземский\",\"parent_id\":75},{\"value\":100,\"label\":\"Вязники\",\"parent_id\":12},{\"value\":870,\"label\":\"Вязьма\",\"parent_id\":64},{\"value\":331,\"label\":\"Вятские Поляны\",\"parent_id\":30},{\"value\":193,\"label\":\"Гаврилов Посад\",\"parent_id\":19},{\"value\":1099,\"label\":\"Гаврилов-Ям\",\"parent_id\":84},{\"value\":871,\"label\":\"Гагарин\",\"parent_id\":64},{\"value\":572,\"label\":\"Гаджиево\",\"parent_id\":44},{\"value\":649,\"label\":\"Гай\",\"parent_id\":50},{\"value\":360,\"label\":\"Галич\",\"parent_id\":32},{\"value\":444,\"label\":\"Гатчина\",\"parent_id\":37},{\"value\":245,\"label\":\"Гвардейск\",\"parent_id\":23},{\"value\":714,\"label\":\"Гдов\",\"parent_id\":55},{\"value\":375,\"label\":\"Геленджик\",\"parent_id\":33},{\"value\":886,\"label\":\"Георгиевск\",\"parent_id\":65},{\"value\":992,\"label\":\"Глазов\",\"parent_id\":73},{\"value\":499,\"label\":\"Голицыно\",\"parent_id\":43},{\"value\":596,\"label\":\"Горбатов\",\"parent_id\":46},{\"value\":3,\"label\":\"Горно-Алтайск\",\"parent_id\":2},{\"value\":679,\"label\":\"Горнозаводск\",\"parent_id\":53},{\"value\":8,\"label\":\"Горняк\",\"parent_id\":3},{\"value\":597,\"label\":\"Городец\",\"parent_id\":46},{\"value\":666,\"label\":\"Городище\",\"parent_id\":52},{\"value\":265,\"label\":\"Городовиковск\",\"parent_id\":24},{\"value\":101,\"label\":\"Гороховец\",\"parent_id\":12},{\"value\":376,\"label\":\"Горячий Ключ\",\"parent_id\":33},{\"value\":69,\"label\":\"Грайворон\",\"parent_id\":9},{\"value\":680,\"label\":\"Гремячинск\",\"parent_id\":53},{\"value\":1062,\"label\":\"Грозный\",\"parent_id\":79},{\"value\":469,\"label\":\"Грязи\",\"parent_id\":38},{\"value\":145,\"label\":\"Грязовец\",\"parent_id\":14},{\"value\":681,\"label\":\"Губаха\",\"parent_id\":53},{\"value\":70,\"label\":\"Губкин\",\"parent_id\":9},{\"value\":1091,\"label\":\"Губкинский\",\"parent_id\":83},{\"value\":1063,\"label\":\"Гудермес\",\"parent_id\":79},{\"value\":732,\"label\":\"Гуково\",\"parent_id\":56},{\"value\":377,\"label\":\"Гулькевичи\",\"parent_id\":33},{\"value\":313,\"label\":\"Гурьевск\",\"parent_id\":29},{\"value\":246,\"label\":\"Гурьевск\",\"parent_id\":23},{\"value\":247,\"label\":\"Гусев\",\"parent_id\":23},{\"value\":93,\"label\":\"Гусиноозёрск\",\"parent_id\":11},{\"value\":102,\"label\":\"Гусь-Хрустальный\",\"parent_id\":12},{\"value\":50,\"label\":\"Давлеканово\",\"parent_id\":8},{\"value\":171,\"label\":\"Дагестанские Огни\",\"parent_id\":16},{\"value\":419,\"label\":\"Далматово\",\"parent_id\":35},{\"value\":705,\"label\":\"Дальнегорск\",\"parent_id\":54},{\"value\":706,\"label\":\"Дальнереченск\",\"parent_id\":54},{\"value\":1100,\"label\":\"Данилов\",\"parent_id\":84},{\"value\":470,\"label\":\"Данков\",\"parent_id\":38},{\"value\":828,\"label\":\"Дегтярск\",\"parent_id\":62},{\"value\":500,\"label\":\"Дедовск\",\"parent_id\":43},{\"value\":872,\"label\":\"Демидов\",\"parent_id\":64},{\"value\":172,\"label\":\"Дербент\",\"parent_id\":16},{\"value\":873,\"label\":\"Десногорск\",\"parent_id\":64},{\"value\":598,\"label\":\"Дзержинск\",\"parent_id\":46},{\"value\":501,\"label\":\"Дзержинский\",\"parent_id\":43},{\"value\":400,\"label\":\"Дивногорск\",\"parent_id\":34},{\"value\":867,\"label\":\"Дигора\",\"parent_id\":63},{\"value\":998,\"label\":\"Димитровград\",\"parent_id\":74},{\"value\":428,\"label\":\"Дмитриев\",\"parent_id\":36},{\"value\":502,\"label\":\"Дмитров\",\"parent_id\":43},{\"value\":659,\"label\":\"Дмитровск\",\"parent_id\":51},{\"value\":715,\"label\":\"Дно\",\"parent_id\":55},{\"value\":682,\"label\":\"Добрянка\",\"parent_id\":53},{\"value\":503,\"label\":\"Долгопрудный\",\"parent_id\":43},{\"value\":803,\"label\":\"Долинск\",\"parent_id\":61},{\"value\":504,\"label\":\"Домодедово\",\"parent_id\":43},{\"value\":733,\"label\":\"Донецк\",\"parent_id\":56},{\"value\":967,\"label\":\"Донской\",\"parent_id\":70},{\"value\":874,\"label\":\"Дорогобуж\",\"parent_id\":64},{\"value\":505,\"label\":\"Дрезна\",\"parent_id\":43},{\"value\":506,\"label\":\"Дубна\",\"parent_id\":43},{\"value\":123,\"label\":\"Дубовка\",\"parent_id\":13},{\"value\":401,\"label\":\"Дудинка\",\"parent_id\":34},{\"value\":875,\"label\":\"Духовщина\",\"parent_id\":64},{\"value\":51,\"label\":\"Дюртюли\",\"parent_id\":8},{\"value\":77,\"label\":\"Дятьково\",\"parent_id\":10},{\"value\":507,\"label\":\"Егорьевск\",\"parent_id\":43},{\"value\":378,\"label\":\"Ейск\",\"parent_id\":33},{\"value\":829,\"label\":\"Екатеринбург\",\"parent_id\":62},{\"value\":919,\"label\":\"Елабуга\",\"parent_id\":67},{\"value\":471,\"label\":\"Елец\",\"parent_id\":38},{\"value\":291,\"label\":\"Елизово\",\"parent_id\":26},{\"value\":876,\"label\":\"Ельня\",\"parent_id\":64},{\"value\":1035,\"label\":\"Еманжелинск\",\"parent_id\":78},{\"value\":350,\"label\":\"Емва\",\"parent_id\":31},{\"value\":402,\"label\":\"Енисейск\",\"parent_id\":34},{\"value\":271,\"label\":\"Ермолино\",\"parent_id\":25},{\"value\":788,\"label\":\"Ершов\",\"parent_id\":60},{\"value\":887,\"label\":\"Ессентуки\",\"parent_id\":65},{\"value\":968,\"label\":\"Ефремов\",\"parent_id\":70},{\"value\":888,\"label\":\"Железноводск\",\"parent_id\":65},{\"value\":403,\"label\":\"Железногорск\",\"parent_id\":34},{\"value\":429,\"label\":\"Железногорск\",\"parent_id\":36},{\"value\":220,\"label\":\"Железногорск-Илимский\",\"parent_id\":21},{\"value\":508,\"label\":\"Железнодорожный\",\"parent_id\":43},{\"value\":903,\"label\":\"Жердевка\",\"parent_id\":66},{\"value\":762,\"label\":\"Жигулёвск\",\"parent_id\":58},{\"value\":272,\"label\":\"Жиздра\",\"parent_id\":25},{\"value\":124,\"label\":\"Жирновск\",\"parent_id\":13},{\"value\":273,\"label\":\"Жуков\",\"parent_id\":25},{\"value\":78,\"label\":\"Жуковка\",\"parent_id\":10},{\"value\":509,\"label\":\"Жуковский\",\"parent_id\":43},{\"value\":18,\"label\":\"Завитинск\",\"parent_id\":4},{\"value\":986,\"label\":\"Заводоуковск\",\"parent_id\":72},{\"value\":194,\"label\":\"Заволжск\",\"parent_id\":19},{\"value\":599,\"label\":\"Заволжье\",\"parent_id\":46},{\"value\":472,\"label\":\"Задонск\",\"parent_id\":38},{\"value\":920,\"label\":\"Заинск\",\"parent_id\":67},{\"value\":94,\"label\":\"Закаменск\",\"parent_id\":11},{\"value\":404,\"label\":\"Заозёрный\",\"parent_id\":34},{\"value\":573,\"label\":\"Заозёрск\",\"parent_id\":44},{\"value\":939,\"label\":\"Западная Двина\",\"parent_id\":68},{\"value\":574,\"label\":\"Заполярный\",\"parent_id\":44},{\"value\":510,\"label\":\"Зарайск\",\"parent_id\":43},{\"value\":667,\"label\":\"Заречный\",\"parent_id\":52},{\"value\":830,\"label\":\"Заречный\",\"parent_id\":62},{\"value\":9,\"label\":\"Заринск\",\"parent_id\":3},{\"value\":480,\"label\":\"Звенигово\",\"parent_id\":40},{\"value\":511,\"label\":\"Звенигород\",\"parent_id\":43},{\"value\":734,\"label\":\"Зверево\",\"parent_id\":56},{\"value\":405,\"label\":\"Зеленогорск\",\"parent_id\":34},{\"value\":773,\"label\":\"Зеленогорск\",\"parent_id\":59},{\"value\":1112,\"label\":\"Зеленоград\",\"parent_id\":42},{\"value\":248,\"label\":\"Зеленоградск\",\"parent_id\":23},{\"value\":921,\"label\":\"Зеленодольск\",\"parent_id\":67},{\"value\":889,\"label\":\"Зеленокумск\",\"parent_id\":65},{\"value\":735,\"label\":\"Зерноград\",\"parent_id\":56},{\"value\":19,\"label\":\"Зея\",\"parent_id\":4},{\"value\":221,\"label\":\"Зима\",\"parent_id\":21},{\"value\":1036,\"label\":\"Златоуст\",\"parent_id\":78},{\"value\":79,\"label\":\"Злынка\",\"parent_id\":10},{\"value\":10,\"label\":\"Змеиногорск\",\"parent_id\":3},{\"value\":40,\"label\":\"Знаменск\",\"parent_id\":7},{\"value\":940,\"label\":\"Зубцов\",\"parent_id\":68},{\"value\":332,\"label\":\"Зуевка\",\"parent_id\":30},{\"value\":445,\"label\":\"Ивангород\",\"parent_id\":37},{\"value\":195,\"label\":\"Иваново\",\"parent_id\":19},{\"value\":512,\"label\":\"Ивантеевка\",\"parent_id\":43},{\"value\":831,\"label\":\"Ивдель\",\"parent_id\":62},{\"value\":406,\"label\":\"Игарка\",\"parent_id\":34},{\"value\":993,\"label\":\"Ижевск\",\"parent_id\":73},{\"value\":173,\"label\":\"Избербаш\",\"parent_id\":16},{\"value\":890,\"label\":\"Изобильный\",\"parent_id\":65},{\"value\":407,\"label\":\"Иланский\",\"parent_id\":34},{\"value\":999,\"label\":\"Инза\",\"parent_id\":74},{\"value\":484,\"label\":\"Инсар\",\"parent_id\":41},{\"value\":351,\"label\":\"Инта\",\"parent_id\":31},{\"value\":891,\"label\":\"Ипатово\",\"parent_id\":65},{\"value\":832,\"label\":\"Ирбит\",\"parent_id\":62},{\"value\":222,\"label\":\"Иркутск\",\"parent_id\":21},{\"value\":640,\"label\":\"Исилькуль\",\"parent_id\":49},{\"value\":629,\"label\":\"Искитим\",\"parent_id\":48},{\"value\":513,\"label\":\"Истра\",\"parent_id\":43},{\"value\":987,\"label\":\"Ишим\",\"parent_id\":72},{\"value\":52,\"label\":\"Ишимбай\",\"parent_id\":8},{\"value\":481,\"label\":\"Йошкар-Ола\",\"parent_id\":40},{\"value\":146,\"label\":\"Кадников\",\"parent_id\":14},{\"value\":922,\"label\":\"Казань\",\"parent_id\":67},{\"value\":160,\"label\":\"Калач\",\"parent_id\":15},{\"value\":125,\"label\":\"Калач-на-Дону\",\"parent_id\":13},{\"value\":641,\"label\":\"Калачинск\",\"parent_id\":49},{\"value\":249,\"label\":\"Калининград\",\"parent_id\":23},{\"value\":789,\"label\":\"Калининск\",\"parent_id\":60},{\"value\":314,\"label\":\"Калтан\",\"parent_id\":29},{\"value\":274,\"label\":\"Калуга\",\"parent_id\":25},{\"value\":941,\"label\":\"Калязин\",\"parent_id\":68},{\"value\":994,\"label\":\"Камбарка\",\"parent_id\":73},{\"value\":668,\"label\":\"Каменка\",\"parent_id\":52},{\"value\":446,\"label\":\"Каменногорск\",\"parent_id\":37},{\"value\":833,\"label\":\"Каменск-Уральский\",\"parent_id\":62},{\"value\":736,\"label\":\"Каменск-Шахтинский\",\"parent_id\":56},{\"value\":11,\"label\":\"Камень-на-Оби\",\"parent_id\":3},{\"value\":103,\"label\":\"Камешково\",\"parent_id\":12},{\"value\":41,\"label\":\"Камызяк\",\"parent_id\":7},{\"value\":126,\"label\":\"Камышин\",\"parent_id\":13},{\"value\":834,\"label\":\"Камышлов\",\"parent_id\":62},{\"value\":1067,\"label\":\"Канаш\",\"parent_id\":80},{\"value\":575,\"label\":\"Кандалакша\",\"parent_id\":44},{\"value\":408,\"label\":\"Канск\",\"parent_id\":34},{\"value\":104,\"label\":\"Карабаново\",\"parent_id\":12},{\"value\":1037,\"label\":\"Карабаш\",\"parent_id\":78},{\"value\":209,\"label\":\"Карабулак\",\"parent_id\":20},{\"value\":630,\"label\":\"Карасук\",\"parent_id\":48},{\"value\":293,\"label\":\"Карачаевск\",\"parent_id\":27},{\"value\":80,\"label\":\"Карачев\",\"parent_id\":10},{\"value\":631,\"label\":\"Каргат\",\"parent_id\":48},{\"value\":27,\"label\":\"Каргополь\",\"parent_id\":5},{\"value\":835,\"label\":\"Карпинск\",\"parent_id\":62},{\"value\":1038,\"label\":\"Карталы\",\"parent_id\":78},{\"value\":750,\"label\":\"Касимов\",\"parent_id\":57},{\"value\":1039,\"label\":\"Касли\",\"parent_id\":78},{\"value\":174,\"label\":\"Каспийск\",\"parent_id\":16},{\"value\":1040,\"label\":\"Катав-Ивановск\",\"parent_id\":78},{\"value\":420,\"label\":\"Катайск\",\"parent_id\":35},{\"value\":836,\"label\":\"Качканар\",\"parent_id\":62},{\"value\":942,\"label\":\"Кашин\",\"parent_id\":68},{\"value\":514,\"label\":\"Кашира\",\"parent_id\":43},{\"value\":957,\"label\":\"Кедровый\",\"parent_id\":69},{\"value\":315,\"label\":\"Кемерово\",\"parent_id\":29},{\"value\":298,\"label\":\"Кемь\",\"parent_id\":28},{\"value\":683,\"label\":\"Кизел\",\"parent_id\":53},{\"value\":175,\"label\":\"Кизилюрт\",\"parent_id\":16},{\"value\":176,\"label\":\"Кизляр\",\"parent_id\":16},{\"value\":969,\"label\":\"Кимовск\",\"parent_id\":70},{\"value\":943,\"label\":\"Кимры\",\"parent_id\":68},{\"value\":447,\"label\":\"Кингисепп\",\"parent_id\":37},{\"value\":763,\"label\":\"Кинель\",\"parent_id\":58},{\"value\":196,\"label\":\"Кинешма\",\"parent_id\":19},{\"value\":970,\"label\":\"Киреевск\",\"parent_id\":70},{\"value\":223,\"label\":\"Киренск\",\"parent_id\":21},{\"value\":105,\"label\":\"Киржач\",\"parent_id\":12},{\"value\":147,\"label\":\"Кириллов\",\"parent_id\":14},{\"value\":448,\"label\":\"Кириши\",\"parent_id\":37},{\"value\":333,\"label\":\"Киров\",\"parent_id\":30},{\"value\":275,\"label\":\"Киров\",\"parent_id\":25},{\"value\":837,\"label\":\"Кировград\",\"parent_id\":62},{\"value\":334,\"label\":\"Кирово-Чепецк\",\"parent_id\":30},{\"value\":576,\"label\":\"Кировск\",\"parent_id\":44},{\"value\":449,\"label\":\"Кировск\",\"parent_id\":37},{\"value\":335,\"label\":\"Кирс\",\"parent_id\":30},{\"value\":904,\"label\":\"Кирсанов\",\"parent_id\":66},{\"value\":316,\"label\":\"Киселёвск\",\"parent_id\":29},{\"value\":892,\"label\":\"Кисловодск\",\"parent_id\":65},{\"value\":515,\"label\":\"Климовск\",\"parent_id\":43},{\"value\":516,\"label\":\"Клин\",\"parent_id\":43},{\"value\":81,\"label\":\"Клинцы\",\"parent_id\":10},{\"value\":600,\"label\":\"Княгинино\",\"parent_id\":46},{\"value\":577,\"label\":\"Ковдор\",\"parent_id\":44},{\"value\":106,\"label\":\"Ковров\",\"parent_id\":12},{\"value\":485,\"label\":\"Ковылкино\",\"parent_id\":41},{\"value\":1016,\"label\":\"Когалым\",\"parent_id\":77},{\"value\":409,\"label\":\"Кодинск\",\"parent_id\":34},{\"value\":276,\"label\":\"Козельск\",\"parent_id\":25},{\"value\":1068,\"label\":\"Козловка\",\"parent_id\":80},{\"value\":482,\"label\":\"Козьмодемьянск\",\"parent_id\":40},{\"value\":578,\"label\":\"Кола\",\"parent_id\":44},{\"value\":361,\"label\":\"Кологрив\",\"parent_id\":32},{\"value\":517,\"label\":\"Коломна\",\"parent_id\":43},{\"value\":958,\"label\":\"Колпашево\",\"parent_id\":69},{\"value\":774,\"label\":\"Колпино\",\"parent_id\":59},{\"value\":1111,\"label\":\"Кольцово\",\"parent_id\":48},{\"value\":107,\"label\":\"Кольчугино\",\"parent_id\":12},{\"value\":450,\"label\":\"Коммунар\",\"parent_id\":37},{\"value\":197,\"label\":\"Комсомольск\",\"parent_id\":19},{\"value\":1006,\"label\":\"Комсомольск-на-Амуре\",\"parent_id\":75},{\"value\":944,\"label\":\"Конаково\",\"parent_id\":68},{\"value\":299,\"label\":\"Кондопога\",\"parent_id\":28},{\"value\":277,\"label\":\"Кондрово\",\"parent_id\":25},{\"value\":737,\"label\":\"Константиновск\",\"parent_id\":56},{\"value\":1041,\"label\":\"Копейск\",\"parent_id\":78},{\"value\":751,\"label\":\"Кораблино\",\"parent_id\":57},{\"value\":379,\"label\":\"Кореновск\",\"parent_id\":33},{\"value\":1042,\"label\":\"Коркино\",\"parent_id\":78},{\"value\":519,\"label\":\"Королёв\",\"parent_id\":43},{\"value\":71,\"label\":\"Короча\",\"parent_id\":9},{\"value\":804,\"label\":\"Корсаков\",\"parent_id\":61},{\"value\":28,\"label\":\"Коряжма\",\"parent_id\":5},{\"value\":108,\"label\":\"Костерёво\",\"parent_id\":12},{\"value\":300,\"label\":\"Костомукша\",\"parent_id\":28},{\"value\":362,\"label\":\"Кострома\",\"parent_id\":32},{\"value\":518,\"label\":\"Котельники\",\"parent_id\":43},{\"value\":127,\"label\":\"Котельниково\",\"parent_id\":13},{\"value\":336,\"label\":\"Котельнич\",\"parent_id\":30},{\"value\":29,\"label\":\"Котлас\",\"parent_id\":5},{\"value\":128,\"label\":\"Котово\",\"parent_id\":13},{\"value\":905,\"label\":\"Котовск\",\"parent_id\":66},{\"value\":198,\"label\":\"Кохма\",\"parent_id\":19},{\"value\":148,\"label\":\"Красавино\",\"parent_id\":14},{\"value\":520,\"label\":\"Красноармейск\",\"parent_id\":43},{\"value\":790,\"label\":\"Красноармейск\",\"parent_id\":60},{\"value\":684,\"label\":\"Красновишерск\",\"parent_id\":53},{\"value\":521,\"label\":\"Красногорск\",\"parent_id\":43},{\"value\":380,\"label\":\"Краснодар\",\"parent_id\":33},{\"value\":775,\"label\":\"Красное Село\",\"parent_id\":59},{\"value\":522,\"label\":\"Краснозаводск\",\"parent_id\":43},{\"value\":250,\"label\":\"Краснознаменск\",\"parent_id\":23},{\"value\":523,\"label\":\"Краснознаменск\",\"parent_id\":43},{\"value\":184,\"label\":\"Краснокаменск\",\"parent_id\":18},{\"value\":685,\"label\":\"Краснокамск\",\"parent_id\":53},{\"value\":129,\"label\":\"Краснослободск\",\"parent_id\":13},{\"value\":486,\"label\":\"Краснослободск\",\"parent_id\":41},{\"value\":838,\"label\":\"Краснотурьинск\",\"parent_id\":62},{\"value\":839,\"label\":\"Красноуральск\",\"parent_id\":62},{\"value\":840,\"label\":\"Красноуфимск\",\"parent_id\":62},{\"value\":410,\"label\":\"Красноярск\",\"parent_id\":34},{\"value\":791,\"label\":\"Красный Кут\",\"parent_id\":60},{\"value\":738,\"label\":\"Красный Сулин\",\"parent_id\":56},{\"value\":945,\"label\":\"Красный Холм\",\"parent_id\":68},{\"value\":278,\"label\":\"Кремёнки\",\"parent_id\":25},{\"value\":776,\"label\":\"Кронштадт\",\"parent_id\":59},{\"value\":381,\"label\":\"Кропоткин\",\"parent_id\":33},{\"value\":382,\"label\":\"Крымск\",\"parent_id\":33},{\"value\":601,\"label\":\"Кстово\",\"parent_id\":46},{\"value\":524,\"label\":\"Кубинка\",\"parent_id\":43},{\"value\":650,\"label\":\"Кувандык\",\"parent_id\":50},{\"value\":946,\"label\":\"Кувшиново\",\"parent_id\":68},{\"value\":686,\"label\":\"Кудымкар\",\"parent_id\":53},{\"value\":669,\"label\":\"Кузнецк\",\"parent_id\":52},{\"value\":632,\"label\":\"Куйбышев\",\"parent_id\":48},{\"value\":602,\"label\":\"Кулебаки\",\"parent_id\":46},{\"value\":53,\"label\":\"Кумертау\",\"parent_id\":8},{\"value\":687,\"label\":\"Кунгур\",\"parent_id\":53},{\"value\":633,\"label\":\"Купино\",\"parent_id\":48},{\"value\":421,\"label\":\"Курган\",\"parent_id\":35},{\"value\":383,\"label\":\"Курганинск\",\"parent_id\":33},{\"value\":805,\"label\":\"Курильск\",\"parent_id\":61},{\"value\":109,\"label\":\"Курлово\",\"parent_id\":12},{\"value\":525,\"label\":\"Куровское\",\"parent_id\":43},{\"value\":430,\"label\":\"Курск\",\"parent_id\":36},{\"value\":422,\"label\":\"Куртамыш\",\"parent_id\":35},{\"value\":431,\"label\":\"Курчатов\",\"parent_id\":36},{\"value\":1043,\"label\":\"Куса\",\"parent_id\":78},{\"value\":841,\"label\":\"Кушва\",\"parent_id\":62},{\"value\":982,\"label\":\"Кызыл\",\"parent_id\":71},{\"value\":1044,\"label\":\"Кыштым\",\"parent_id\":78},{\"value\":95,\"label\":\"Кяхта\",\"parent_id\":11},{\"value\":384,\"label\":\"Лабинск\",\"parent_id\":33},{\"value\":1092,\"label\":\"Лабытнанги\",\"parent_id\":83},{\"value\":266,\"label\":\"Лагань\",\"parent_id\":24},{\"value\":251,\"label\":\"Ладушкин\",\"parent_id\":23},{\"value\":923,\"label\":\"Лаишево\",\"parent_id\":67},{\"value\":110,\"label\":\"Лакинск\",\"parent_id\":12},{\"value\":1017,\"label\":\"Лангепас\",\"parent_id\":77},{\"value\":301,\"label\":\"Лахденпохья\",\"parent_id\":28},{\"value\":473,\"label\":\"Лебедянь\",\"parent_id\":38},{\"value\":924,\"label\":\"Лениногорск\",\"parent_id\":67},{\"value\":130,\"label\":\"Ленинск\",\"parent_id\":13},{\"value\":317,\"label\":\"Ленинск-Кузнецкий\",\"parent_id\":29},{\"value\":1081,\"label\":\"Ленск\",\"parent_id\":82},{\"value\":893,\"label\":\"Лермонтов\",\"parent_id\":65},{\"value\":842,\"label\":\"Лесной\",\"parent_id\":62},{\"value\":707,\"label\":\"Лесозаводск\",\"parent_id\":54},{\"value\":411,\"label\":\"Лесосибирск\",\"parent_id\":34},{\"value\":660,\"label\":\"Ливны\",\"parent_id\":51},{\"value\":526,\"label\":\"Ликино-Дулёво\",\"parent_id\":43},{\"value\":474,\"label\":\"Липецк\",\"parent_id\":38},{\"value\":971,\"label\":\"Липки\",\"parent_id\":70},{\"value\":161,\"label\":\"Лиски\",\"parent_id\":15},{\"value\":947,\"label\":\"Лихославль\",\"parent_id\":68},{\"value\":527,\"label\":\"Лобня\",\"parent_id\":43},{\"value\":451,\"label\":\"Лодейное Поле\",\"parent_id\":37},{\"value\":777,\"label\":\"Ломоносов\",\"parent_id\":59},{\"value\":528,\"label\":\"Лосино-Петровский\",\"parent_id\":43},{\"value\":452,\"label\":\"Луга\",\"parent_id\":37},{\"value\":337,\"label\":\"Луза\",\"parent_id\":30},{\"value\":603,\"label\":\"Лукоянов\",\"parent_id\":46},{\"value\":529,\"label\":\"Луховицы\",\"parent_id\":43},{\"value\":604,\"label\":\"Лысково\",\"parent_id\":46},{\"value\":688,\"label\":\"Лысьва\",\"parent_id\":53},{\"value\":530,\"label\":\"Лыткарино\",\"parent_id\":43},{\"value\":432,\"label\":\"Льгов\",\"parent_id\":36},{\"value\":453,\"label\":\"Любань\",\"parent_id\":37},{\"value\":531,\"label\":\"Люберцы\",\"parent_id\":43},{\"value\":1101,\"label\":\"Любим\",\"parent_id\":84},{\"value\":279,\"label\":\"Людиново\",\"parent_id\":25},{\"value\":1018,\"label\":\"Лянтор\",\"parent_id\":77},{\"value\":477,\"label\":\"Магадан\",\"parent_id\":39},{\"value\":210,\"label\":\"Магас\",\"parent_id\":20},{\"value\":1045,\"label\":\"Магнитогорск\",\"parent_id\":78},{\"value\":2,\"label\":\"Майкоп\",\"parent_id\":1},{\"value\":236,\"label\":\"Майский\",\"parent_id\":22},{\"value\":806,\"label\":\"Макаров\",\"parent_id\":61},{\"value\":363,\"label\":\"Макарьев\",\"parent_id\":32},{\"value\":423,\"label\":\"Макушино\",\"parent_id\":35},{\"value\":619,\"label\":\"Малая Вишера\",\"parent_id\":47},{\"value\":211,\"label\":\"Малгобек\",\"parent_id\":20},{\"value\":338,\"label\":\"Малмыж\",\"parent_id\":30},{\"value\":661,\"label\":\"Малоархангельск\",\"parent_id\":51},{\"value\":280,\"label\":\"Малоярославец\",\"parent_id\":25},{\"value\":925,\"label\":\"Мамадыш\",\"parent_id\":67},{\"value\":252,\"label\":\"Мамоново\",\"parent_id\":23},{\"value\":364,\"label\":\"Мантурово\",\"parent_id\":32},{\"value\":318,\"label\":\"Мариинск\",\"parent_id\":29},{\"value\":1069,\"label\":\"Мариинский Посад\",\"parent_id\":80},{\"value\":792,\"label\":\"Маркс\",\"parent_id\":60},{\"value\":177,\"label\":\"Махачкала\",\"parent_id\":16},{\"value\":82,\"label\":\"Мглин\",\"parent_id\":10},{\"value\":1019,\"label\":\"Мегион\",\"parent_id\":77},{\"value\":302,\"label\":\"Медвежьегорск\",\"parent_id\":28},{\"value\":651,\"label\":\"Медногорск\",\"parent_id\":50},{\"value\":281,\"label\":\"Медынь\",\"parent_id\":25},{\"value\":54,\"label\":\"Межгорье\",\"parent_id\":8},{\"value\":319,\"label\":\"Междуреченск\",\"parent_id\":29},{\"value\":30,\"label\":\"Мезень\",\"parent_id\":5},{\"value\":111,\"label\":\"Меленки\",\"parent_id\":12},{\"value\":55,\"label\":\"Мелеуз\",\"parent_id\":8},{\"value\":926,\"label\":\"Менделеевск\",\"parent_id\":67},{\"value\":927,\"label\":\"Мензелинск\",\"parent_id\":67},{\"value\":282,\"label\":\"Мещовск\",\"parent_id\":25},{\"value\":1046,\"label\":\"Миасс\",\"parent_id\":78},{\"value\":352,\"label\":\"Микунь\",\"parent_id\":31},{\"value\":739,\"label\":\"Миллерово\",\"parent_id\":56},{\"value\":894,\"label\":\"Минеральные Воды\",\"parent_id\":65},{\"value\":412,\"label\":\"Минусинск\",\"parent_id\":34},{\"value\":1047,\"label\":\"Миньяр\",\"parent_id\":78},{\"value\":31,\"label\":\"Мирный\",\"parent_id\":5},{\"value\":1082,\"label\":\"Мирный\",\"parent_id\":82},{\"value\":752,\"label\":\"Михайлов\",\"parent_id\":57},{\"value\":131,\"label\":\"Михайловка\",\"parent_id\":13},{\"value\":895,\"label\":\"Михайловск\",\"parent_id\":65},{\"value\":843,\"label\":\"Михайловск\",\"parent_id\":62},{\"value\":906,\"label\":\"Мичуринск\",\"parent_id\":66},{\"value\":185,\"label\":\"Могоча\",\"parent_id\":18},{\"value\":532,\"label\":\"Можайск\",\"parent_id\":43},{\"value\":995,\"label\":\"Можга\",\"parent_id\":73},{\"value\":868,\"label\":\"Моздок\",\"parent_id\":63},{\"value\":579,\"label\":\"Мончегорск\",\"parent_id\":44},{\"value\":740,\"label\":\"Морозовск\",\"parent_id\":56},{\"value\":907,\"label\":\"Моршанск\",\"parent_id\":66},{\"value\":283,\"label\":\"Мосальск\",\"parent_id\":25},{\"value\":1117,\"label\":\"Московский\",\"parent_id\":42},{\"value\":1093,\"label\":\"Муравленко\",\"parent_id\":83},{\"value\":339,\"label\":\"Мураши\",\"parent_id\":30},{\"value\":580,\"label\":\"Мурманск\",\"parent_id\":44},{\"value\":112,\"label\":\"Муром\",\"parent_id\":12},{\"value\":662,\"label\":\"Мценск\",\"parent_id\":51},{\"value\":320,\"label\":\"Мыски\",\"parent_id\":29},{\"value\":534,\"label\":\"Мытищи\",\"parent_id\":43},{\"value\":1102,\"label\":\"Мышкин\",\"parent_id\":84},{\"value\":928,\"label\":\"Набережные Челны\",\"parent_id\":67},{\"value\":605,\"label\":\"Навашино\",\"parent_id\":46},{\"value\":199,\"label\":\"Наволоки\",\"parent_id\":19},{\"value\":1094,\"label\":\"Надым\",\"parent_id\":83},{\"value\":413,\"label\":\"Назарово\",\"parent_id\":34},{\"value\":212,\"label\":\"Назрань\",\"parent_id\":20},{\"value\":642,\"label\":\"Называевск\",\"parent_id\":49},{\"value\":237,\"label\":\"Нальчик\",\"parent_id\":22},{\"value\":42,\"label\":\"Нариманов\",\"parent_id\":7},{\"value\":535,\"label\":\"Наро-Фоминск\",\"parent_id\":43},{\"value\":238,\"label\":\"Нарткала\",\"parent_id\":22},{\"value\":587,\"label\":\"Нарьян-Мар\",\"parent_id\":45},{\"value\":708,\"label\":\"Находка\",\"parent_id\":54},{\"value\":716,\"label\":\"Невель\",\"parent_id\":55},{\"value\":807,\"label\":\"Невельск\",\"parent_id\":61},{\"value\":896,\"label\":\"Невинномысск\",\"parent_id\":65},{\"value\":844,\"label\":\"Невьянск\",\"parent_id\":62},{\"value\":948,\"label\":\"Нелидово\",\"parent_id\":68},{\"value\":253,\"label\":\"Неман\",\"parent_id\":23},{\"value\":365,\"label\":\"Нерехта\",\"parent_id\":32},{\"value\":186,\"label\":\"Нерчинск\",\"parent_id\":18},{\"value\":1083,\"label\":\"Нерюнгри\",\"parent_id\":82},{\"value\":254,\"label\":\"Нестеров\",\"parent_id\":23},{\"value\":764,\"label\":\"Нефтегорск\",\"parent_id\":58},{\"value\":56,\"label\":\"Нефтекамск\",\"parent_id\":8},{\"value\":897,\"label\":\"Нефтекумск\",\"parent_id\":65},{\"value\":1020,\"label\":\"Нефтеюганск\",\"parent_id\":77},{\"value\":366,\"label\":\"Нея\",\"parent_id\":32},{\"value\":1021,\"label\":\"Нижневартовск\",\"parent_id\":77},{\"value\":929,\"label\":\"Нижнекамск\",\"parent_id\":67},{\"value\":224,\"label\":\"Нижнеудинск\",\"parent_id\":21},{\"value\":845,\"label\":\"Нижние Серги\",\"parent_id\":62},{\"value\":670,\"label\":\"Нижний Ломов\",\"parent_id\":52},{\"value\":606,\"label\":\"Нижний Новгород\",\"parent_id\":46},{\"value\":846,\"label\":\"Нижний Тагил\",\"parent_id\":62},{\"value\":847,\"label\":\"Нижняя Салда\",\"parent_id\":62},{\"value\":848,\"label\":\"Нижняя Тура\",\"parent_id\":62},{\"value\":132,\"label\":\"Николаевск\",\"parent_id\":13},{\"value\":1007,\"label\":\"Николаевск-на-Амуре\",\"parent_id\":75},{\"value\":671,\"label\":\"Никольск\",\"parent_id\":52},{\"value\":149,\"label\":\"Никольск\",\"parent_id\":14},{\"value\":454,\"label\":\"Никольское\",\"parent_id\":37},{\"value\":455,\"label\":\"Новая Ладога\",\"parent_id\":37},{\"value\":849,\"label\":\"Новая Ляля\",\"parent_id\":62},{\"value\":898,\"label\":\"Новоалександровск\",\"parent_id\":65},{\"value\":12,\"label\":\"Новоалтайск\",\"parent_id\":3},{\"value\":133,\"label\":\"Новоаннинский\",\"parent_id\":13},{\"value\":162,\"label\":\"Нововоронеж\",\"parent_id\":15},{\"value\":32,\"label\":\"Новодвинск\",\"parent_id\":5},{\"value\":83,\"label\":\"Новозыбков\",\"parent_id\":10},{\"value\":385,\"label\":\"Новокубанск\",\"parent_id\":33},{\"value\":321,\"label\":\"Новокузнецк\",\"parent_id\":29},{\"value\":765,\"label\":\"Новокуйбышевск\",\"parent_id\":58},{\"value\":753,\"label\":\"Новомичуринск\",\"parent_id\":57},{\"value\":972,\"label\":\"Новомосковск\",\"parent_id\":70},{\"value\":899,\"label\":\"Новопавловск\",\"parent_id\":65},{\"value\":717,\"label\":\"Новоржев\",\"parent_id\":55},{\"value\":386,\"label\":\"Новороссийск\",\"parent_id\":33},{\"value\":634,\"label\":\"Новосибирск\",\"parent_id\":48},{\"value\":663,\"label\":\"Новосиль\",\"parent_id\":51},{\"value\":718,\"label\":\"Новосокольники\",\"parent_id\":55},{\"value\":652,\"label\":\"Новотроицк\",\"parent_id\":50},{\"value\":793,\"label\":\"Новоузенск\",\"parent_id\":60},{\"value\":1000,\"label\":\"Новоульяновск\",\"parent_id\":74},{\"value\":850,\"label\":\"Новоуральск\",\"parent_id\":62},{\"value\":1119,\"label\":\"Новоуткинск\",\"parent_id\":62},{\"value\":163,\"label\":\"Новохопёрск\",\"parent_id\":15},{\"value\":1070,\"label\":\"Новочебоксарск\",\"parent_id\":80},{\"value\":741,\"label\":\"Новочеркасск\",\"parent_id\":56},{\"value\":742,\"label\":\"Новошахтинск\",\"parent_id\":56},{\"value\":72,\"label\":\"Новый Оскол\",\"parent_id\":9},{\"value\":1095,\"label\":\"Новый Уренгой\",\"parent_id\":83},{\"value\":536,\"label\":\"Ногинск\",\"parent_id\":43},{\"value\":340,\"label\":\"Нолинск\",\"parent_id\":30},{\"value\":414,\"label\":\"Норильск\",\"parent_id\":34},{\"value\":1096,\"label\":\"Ноябрьск\",\"parent_id\":83},{\"value\":930,\"label\":\"Нурлат\",\"parent_id\":67},{\"value\":689,\"label\":\"Нытва\",\"parent_id\":53},{\"value\":1084,\"label\":\"Нюрба\",\"parent_id\":82},{\"value\":1022,\"label\":\"Нягань\",\"parent_id\":77},{\"value\":1048,\"label\":\"Нязепетровск\",\"parent_id\":78},{\"value\":181,\"label\":\"Облучье\",\"parent_id\":17},{\"value\":284,\"label\":\"Обнинск\",\"parent_id\":25},{\"value\":433,\"label\":\"Обоянь\",\"parent_id\":36},{\"value\":635,\"label\":\"Обь\",\"parent_id\":48},{\"value\":537,\"label\":\"Одинцово\",\"parent_id\":43},{\"value\":538,\"label\":\"Ожерелье\",\"parent_id\":43},{\"value\":1049,\"label\":\"Озёрск\",\"parent_id\":78},{\"value\":255,\"label\":\"Озёрск\",\"parent_id\":23},{\"value\":539,\"label\":\"Озёры\",\"parent_id\":43},{\"value\":766,\"label\":\"Октябрьск\",\"parent_id\":58},{\"value\":57,\"label\":\"Октябрьский\",\"parent_id\":8},{\"value\":620,\"label\":\"Окуловка\",\"parent_id\":47},{\"value\":581,\"label\":\"Оленегорск\",\"parent_id\":44},{\"value\":303,\"label\":\"Олонец\",\"parent_id\":28},{\"value\":1085,\"label\":\"Олёкминск\",\"parent_id\":82},{\"value\":643,\"label\":\"Омск\",\"parent_id\":49},{\"value\":341,\"label\":\"Омутнинск\",\"parent_id\":30},{\"value\":34,\"label\":\"Онега\",\"parent_id\":5},{\"value\":719,\"label\":\"Опочка\",\"parent_id\":55},{\"value\":653,\"label\":\"Оренбург\",\"parent_id\":50},{\"value\":540,\"label\":\"Орехово-Зуево\",\"parent_id\":43},{\"value\":342,\"label\":\"Орлов\",\"parent_id\":30},{\"value\":654,\"label\":\"Орск\",\"parent_id\":50},{\"value\":664,\"label\":\"Орёл\",\"parent_id\":51},{\"value\":690,\"label\":\"Оса\",\"parent_id\":53},{\"value\":322,\"label\":\"Осинники\",\"parent_id\":29},{\"value\":949,\"label\":\"Осташков\",\"parent_id\":68},{\"value\":720,\"label\":\"Остров\",\"parent_id\":55},{\"value\":582,\"label\":\"Островной\",\"parent_id\":44},{\"value\":164,\"label\":\"Острогожск\",\"parent_id\":15},{\"value\":456,\"label\":\"Отрадное\",\"parent_id\":37},{\"value\":767,\"label\":\"Отрадный\",\"parent_id\":58},{\"value\":808,\"label\":\"Оха\",\"parent_id\":61},{\"value\":691,\"label\":\"Оханск\",\"parent_id\":53},{\"value\":692,\"label\":\"Очёр\",\"parent_id\":53},{\"value\":607,\"label\":\"Павлово\",\"parent_id\":46},{\"value\":165,\"label\":\"Павловск\",\"parent_id\":15},{\"value\":778,\"label\":\"Павловск\",\"parent_id\":59},{\"value\":541,\"label\":\"Павловский Посад\",\"parent_id\":43},{\"value\":134,\"label\":\"Палласовка\",\"parent_id\":13},{\"value\":709,\"label\":\"Партизанск\",\"parent_id\":54},{\"value\":1077,\"label\":\"Певек\",\"parent_id\":81},{\"value\":672,\"label\":\"Пенза\",\"parent_id\":52},{\"value\":608,\"label\":\"Первомайск\",\"parent_id\":46},{\"value\":851,\"label\":\"Первоуральск\",\"parent_id\":62},{\"value\":609,\"label\":\"Перевоз\",\"parent_id\":46},{\"value\":542,\"label\":\"Пересвет\",\"parent_id\":43},{\"value\":1103,\"label\":\"Переславль-Залесский\",\"parent_id\":84},{\"value\":693,\"label\":\"Пермь\",\"parent_id\":53},{\"value\":621,\"label\":\"Пестово\",\"parent_id\":47},{\"value\":779,\"label\":\"Петергоф\",\"parent_id\":59},{\"value\":135,\"label\":\"Петров Вал\",\"parent_id\":13},{\"value\":794,\"label\":\"Петровск\",\"parent_id\":60},{\"value\":187,\"label\":\"Петровск-Забайкальский\",\"parent_id\":18},{\"value\":304,\"label\":\"Петрозаводск\",\"parent_id\":28},{\"value\":292,\"label\":\"Петропавловск-Камчатский\",\"parent_id\":26},{\"value\":424,\"label\":\"Петухово\",\"parent_id\":35},{\"value\":113,\"label\":\"Петушки\",\"parent_id\":12},{\"value\":353,\"label\":\"Печора\",\"parent_id\":31},{\"value\":721,\"label\":\"Печоры\",\"parent_id\":55},{\"value\":457,\"label\":\"Пикалёво\",\"parent_id\":37},{\"value\":256,\"label\":\"Пионерский\",\"parent_id\":23},{\"value\":305,\"label\":\"Питкяранта\",\"parent_id\":28},{\"value\":973,\"label\":\"Плавск\",\"parent_id\":70},{\"value\":1050,\"label\":\"Пласт\",\"parent_id\":78},{\"value\":200,\"label\":\"Плёс\",\"parent_id\":19},{\"value\":166,\"label\":\"Поворино\",\"parent_id\":15},{\"value\":543,\"label\":\"Подольск\",\"parent_id\":43},{\"value\":458,\"label\":\"Подпорожье\",\"parent_id\":37},{\"value\":1023,\"label\":\"Покачи\",\"parent_id\":77},{\"value\":114,\"label\":\"Покров\",\"parent_id\":12},{\"value\":1086,\"label\":\"Покровск\",\"parent_id\":82},{\"value\":852,\"label\":\"Полевской\",\"parent_id\":62},{\"value\":257,\"label\":\"Полесск\",\"parent_id\":23},{\"value\":323,\"label\":\"Полысаево\",\"parent_id\":29},{\"value\":583,\"label\":\"Полярные Зори\",\"parent_id\":44},{\"value\":584,\"label\":\"Полярный\",\"parent_id\":44},{\"value\":809,\"label\":\"Поронайск\",\"parent_id\":61},{\"value\":722,\"label\":\"Порхов\",\"parent_id\":55},{\"value\":768,\"label\":\"Похвистнево\",\"parent_id\":58},{\"value\":84,\"label\":\"Почеп\",\"parent_id\":10},{\"value\":877,\"label\":\"Починок\",\"parent_id\":64},{\"value\":1104,\"label\":\"Пошехонье\",\"parent_id\":84},{\"value\":258,\"label\":\"Правдинск\",\"parent_id\":23},{\"value\":201,\"label\":\"Приволжск\",\"parent_id\":19},{\"value\":264,\"label\":\"Приморск\",\"parent_id\":23},{\"value\":459,\"label\":\"Приморск\",\"parent_id\":37},{\"value\":387,\"label\":\"Приморско-Ахтарск\",\"parent_id\":33},{\"value\":460,\"label\":\"Приозерск\",\"parent_id\":37},{\"value\":324,\"label\":\"Прокопьевск\",\"parent_id\":29},{\"value\":743,\"label\":\"Пролетарск\",\"parent_id\":56},{\"value\":544,\"label\":\"Протвино\",\"parent_id\":43},{\"value\":239,\"label\":\"Прохладный\",\"parent_id\":22},{\"value\":723,\"label\":\"Псков\",\"parent_id\":55},{\"value\":795,\"label\":\"Пугачёв\",\"parent_id\":60},{\"value\":306,\"label\":\"Пудож\",\"parent_id\":28},{\"value\":724,\"label\":\"Пустошка\",\"parent_id\":55},{\"value\":202,\"label\":\"Пучеж\",\"parent_id\":19},{\"value\":780,\"label\":\"Пушкин\",\"parent_id\":59},{\"value\":545,\"label\":\"Пушкино\",\"parent_id\":43},{\"value\":546,\"label\":\"Пущино\",\"parent_id\":43},{\"value\":725,\"label\":\"Пыталово\",\"parent_id\":55},{\"value\":1024,\"label\":\"Пыть-Ях\",\"parent_id\":77},{\"value\":900,\"label\":\"Пятигорск\",\"parent_id\":65},{\"value\":115,\"label\":\"Радужный\",\"parent_id\":12},{\"value\":1025,\"label\":\"Радужный\",\"parent_id\":77},{\"value\":20,\"label\":\"Райчихинск\",\"parent_id\":4},{\"value\":547,\"label\":\"Раменское\",\"parent_id\":43},{\"value\":908,\"label\":\"Рассказово\",\"parent_id\":66},{\"value\":853,\"label\":\"Ревда\",\"parent_id\":62},{\"value\":854,\"label\":\"Реж\",\"parent_id\":62},{\"value\":548,\"label\":\"Реутов\",\"parent_id\":43},{\"value\":950,\"label\":\"Ржев\",\"parent_id\":68},{\"value\":203,\"label\":\"Родники\",\"parent_id\":19},{\"value\":878,\"label\":\"Рославль\",\"parent_id\":64},{\"value\":167,\"label\":\"Россошь\",\"parent_id\":15},{\"value\":1105,\"label\":\"Ростов\",\"parent_id\":84},{\"value\":744,\"label\":\"Ростов-на-Дону\",\"parent_id\":56},{\"value\":549,\"label\":\"Рошаль\",\"parent_id\":43},{\"value\":796,\"label\":\"Ртищево\",\"parent_id\":60},{\"value\":13,\"label\":\"Рубцовск\",\"parent_id\":3},{\"value\":879,\"label\":\"Рудня\",\"parent_id\":64},{\"value\":550,\"label\":\"Руза\",\"parent_id\":43},{\"value\":487,\"label\":\"Рузаевка\",\"parent_id\":41},{\"value\":1106,\"label\":\"Рыбинск\",\"parent_id\":84},{\"value\":754,\"label\":\"Рыбное\",\"parent_id\":57},{\"value\":434,\"label\":\"Рыльск\",\"parent_id\":36},{\"value\":755,\"label\":\"Ряжск\",\"parent_id\":57},{\"value\":756,\"label\":\"Рязань\",\"parent_id\":57},{\"value\":58,\"label\":\"Салават\",\"parent_id\":8},{\"value\":325,\"label\":\"Салаир\",\"parent_id\":29},{\"value\":1097,\"label\":\"Салехард\",\"parent_id\":83},{\"value\":745,\"label\":\"Сальск\",\"parent_id\":56},{\"value\":769,\"label\":\"Самара\",\"parent_id\":58},{\"value\":488,\"label\":\"Саранск\",\"parent_id\":41},{\"value\":996,\"label\":\"Сарапул\",\"parent_id\":73},{\"value\":797,\"label\":\"Саратов\",\"parent_id\":60},{\"value\":610,\"label\":\"Саров\",\"parent_id\":46},{\"value\":757,\"label\":\"Сасово\",\"parent_id\":57},{\"value\":1051,\"label\":\"Сатка\",\"parent_id\":78},{\"value\":880,\"label\":\"Сафоново\",\"parent_id\":64},{\"value\":1012,\"label\":\"Саяногорск\",\"parent_id\":76},{\"value\":225,\"label\":\"Саянск\",\"parent_id\":21},{\"value\":259,\"label\":\"Светлогорск\",\"parent_id\":23},{\"value\":901,\"label\":\"Светлоград\",\"parent_id\":65},{\"value\":260,\"label\":\"Светлый\",\"parent_id\":23},{\"value\":461,\"label\":\"Светогорск\",\"parent_id\":37},{\"value\":226,\"label\":\"Свирск\",\"parent_id\":21},{\"value\":21,\"label\":\"Свободный\",\"parent_id\":4},{\"value\":726,\"label\":\"Себеж\",\"parent_id\":55},{\"value\":810,\"label\":\"Северо-Курильск\",\"parent_id\":61},{\"value\":96,\"label\":\"Северобайкальск\",\"parent_id\":11},{\"value\":35,\"label\":\"Северодвинск\",\"parent_id\":5},{\"value\":585,\"label\":\"Североморск\",\"parent_id\":44},{\"value\":855,\"label\":\"Североуральск\",\"parent_id\":62},{\"value\":959,\"label\":\"Северск\",\"parent_id\":69},{\"value\":85,\"label\":\"Севск\",\"parent_id\":10},{\"value\":307,\"label\":\"Сегежа\",\"parent_id\":28},{\"value\":86,\"label\":\"Сельцо\",\"parent_id\":10},{\"value\":746,\"label\":\"Семикаракорск\",\"parent_id\":56},{\"value\":168,\"label\":\"Семилуки\",\"parent_id\":15},{\"value\":611,\"label\":\"Семёнов\",\"parent_id\":46},{\"value\":1001,\"label\":\"Сенгилей\",\"parent_id\":74},{\"value\":136,\"label\":\"Серафимович\",\"parent_id\":13},{\"value\":612,\"label\":\"Сергач\",\"parent_id\":46},{\"value\":551,\"label\":\"Сергиев Посад\",\"parent_id\":43},{\"value\":673,\"label\":\"Сердобск\",\"parent_id\":52},{\"value\":856,\"label\":\"Серов\",\"parent_id\":62},{\"value\":552,\"label\":\"Серпухов\",\"parent_id\":43},{\"value\":462,\"label\":\"Сертолово\",\"parent_id\":37},{\"value\":782,\"label\":\"Сестрорецк\",\"parent_id\":59},{\"value\":59,\"label\":\"Сибай\",\"parent_id\":8},{\"value\":1052,\"label\":\"Сим\",\"parent_id\":78},{\"value\":22,\"label\":\"Сковородино\",\"parent_id\":4},{\"value\":758,\"label\":\"Скопин\",\"parent_id\":57},{\"value\":14,\"label\":\"Славгород\",\"parent_id\":3},{\"value\":261,\"label\":\"Славск\",\"parent_id\":23},{\"value\":388,\"label\":\"Славянск-на-Кубани\",\"parent_id\":33},{\"value\":463,\"label\":\"Сланцы\",\"parent_id\":37},{\"value\":343,\"label\":\"Слободской\",\"parent_id\":30},{\"value\":227,\"label\":\"Слюдянка\",\"parent_id\":21},{\"value\":881,\"label\":\"Смоленск\",\"parent_id\":64},{\"value\":1053,\"label\":\"Снежинск\",\"parent_id\":78},{\"value\":586,\"label\":\"Снежногорск\",\"parent_id\":44},{\"value\":116,\"label\":\"Собинка\",\"parent_id\":12},{\"value\":980,\"label\":\"Советск\",\"parent_id\":70},{\"value\":262,\"label\":\"Советск\",\"parent_id\":23},{\"value\":344,\"label\":\"Советск\",\"parent_id\":30},{\"value\":1008,\"label\":\"Советская Гавань\",\"parent_id\":75},{\"value\":1026,\"label\":\"Советский\",\"parent_id\":77},{\"value\":150,\"label\":\"Сокол\",\"parent_id\":14},{\"value\":367,\"label\":\"Солигалич\",\"parent_id\":32},{\"value\":694,\"label\":\"Соликамск\",\"parent_id\":53},{\"value\":553,\"label\":\"Солнечногорск\",\"parent_id\":43},{\"value\":655,\"label\":\"Соль-Илецк\",\"parent_id\":50},{\"value\":36,\"label\":\"Сольвычегодск\",\"parent_id\":5},{\"value\":622,\"label\":\"Сольцы\",\"parent_id\":47},{\"value\":656,\"label\":\"Сорочинск\",\"parent_id\":50},{\"value\":1013,\"label\":\"Сорск\",\"parent_id\":76},{\"value\":308,\"label\":\"Сортавала\",\"parent_id\":28},{\"value\":285,\"label\":\"Сосенский\",\"parent_id\":25},{\"value\":345,\"label\":\"Сосновка\",\"parent_id\":30},{\"value\":415,\"label\":\"Сосновоборск\",\"parent_id\":34},{\"value\":464,\"label\":\"Сосновый Бор\",\"parent_id\":37},{\"value\":354,\"label\":\"Сосногорск\",\"parent_id\":31},{\"value\":389,\"label\":\"Сочи\",\"parent_id\":33},{\"value\":286,\"label\":\"Спас-Деменск\",\"parent_id\":25},{\"value\":759,\"label\":\"Спас-Клепики\",\"parent_id\":57},{\"value\":674,\"label\":\"Спасск\",\"parent_id\":52},{\"value\":710,\"label\":\"Спасск-Дальний\",\"parent_id\":54},{\"value\":760,\"label\":\"Спасск-Рязанский\",\"parent_id\":57},{\"value\":1087,\"label\":\"Среднеколымск\",\"parent_id\":82},{\"value\":857,\"label\":\"Среднеуральск\",\"parent_id\":62},{\"value\":188,\"label\":\"Сретенск\",\"parent_id\":18},{\"value\":902,\"label\":\"Ставрополь\",\"parent_id\":65},{\"value\":554,\"label\":\"Старая Купавна\",\"parent_id\":43},{\"value\":623,\"label\":\"Старая Русса\",\"parent_id\":47},{\"value\":951,\"label\":\"Старица\",\"parent_id\":68},{\"value\":87,\"label\":\"Стародуб\",\"parent_id\":10},{\"value\":73,\"label\":\"Старый Оскол\",\"parent_id\":9},{\"value\":60,\"label\":\"Стерлитамак\",\"parent_id\":8},{\"value\":960,\"label\":\"Стрежевой\",\"parent_id\":69},{\"value\":74,\"label\":\"Строитель\",\"parent_id\":9},{\"value\":117,\"label\":\"Струнино\",\"parent_id\":12},{\"value\":555,\"label\":\"Ступино\",\"parent_id\":43},{\"value\":974,\"label\":\"Суворов\",\"parent_id\":70},{\"value\":435,\"label\":\"Суджа\",\"parent_id\":36},{\"value\":118,\"label\":\"Судогда\",\"parent_id\":12},{\"value\":119,\"label\":\"Суздаль\",\"parent_id\":12},{\"value\":309,\"label\":\"Суоярви\",\"parent_id\":28},{\"value\":88,\"label\":\"Сураж\",\"parent_id\":10},{\"value\":1027,\"label\":\"Сургут\",\"parent_id\":77},{\"value\":137,\"label\":\"Суровикино\",\"parent_id\":13},{\"value\":675,\"label\":\"Сурск\",\"parent_id\":52},{\"value\":478,\"label\":\"Сусуман\",\"parent_id\":39},{\"value\":287,\"label\":\"Сухиничи\",\"parent_id\":25},{\"value\":858,\"label\":\"Сухой Лог\",\"parent_id\":62},{\"value\":770,\"label\":\"Сызрань\",\"parent_id\":58},{\"value\":355,\"label\":\"Сыктывкар\",\"parent_id\":31},{\"value\":859,\"label\":\"Сысерть\",\"parent_id\":62},{\"value\":882,\"label\":\"Сычёвка\",\"parent_id\":64},{\"value\":465,\"label\":\"Сясьстрой\",\"parent_id\":37},{\"value\":860,\"label\":\"Тавда\",\"parent_id\":62},{\"value\":747,\"label\":\"Таганрог\",\"parent_id\":56},{\"value\":326,\"label\":\"Тайга\",\"parent_id\":29},{\"value\":228,\"label\":\"Тайшет\",\"parent_id\":21},{\"value\":556,\"label\":\"Талдом\",\"parent_id\":43},{\"value\":861,\"label\":\"Талица\",\"parent_id\":62},{\"value\":909,\"label\":\"Тамбов\",\"parent_id\":66},{\"value\":644,\"label\":\"Тара\",\"parent_id\":49},{\"value\":1098,\"label\":\"Тарко-Сале\",\"parent_id\":83},{\"value\":288,\"label\":\"Таруса\",\"parent_id\":25},{\"value\":636,\"label\":\"Татарск\",\"parent_id\":48},{\"value\":327,\"label\":\"Таштагол\",\"parent_id\":29},{\"value\":952,\"label\":\"Тверь\",\"parent_id\":68},{\"value\":294,\"label\":\"Теберда\",\"parent_id\":27},{\"value\":204,\"label\":\"Тейково\",\"parent_id\":19},{\"value\":489,\"label\":\"Темников\",\"parent_id\":41},{\"value\":390,\"label\":\"Темрюк\",\"parent_id\":33},{\"value\":240,\"label\":\"Терек\",\"parent_id\":22},{\"value\":931,\"label\":\"Тетюши\",\"parent_id\":67},{\"value\":391,\"label\":\"Тимашёвск\",\"parent_id\":33},{\"value\":466,\"label\":\"Тихвин\",\"parent_id\":37},{\"value\":392,\"label\":\"Тихорецк\",\"parent_id\":33},{\"value\":988,\"label\":\"Тобольск\",\"parent_id\":72},{\"value\":637,\"label\":\"Тогучин\",\"parent_id\":48},{\"value\":771,\"label\":\"Тольятти\",\"parent_id\":58},{\"value\":811,\"label\":\"Томари\",\"parent_id\":61},{\"value\":1088,\"label\":\"Томмот\",\"parent_id\":82},{\"value\":961,\"label\":\"Томск\",\"parent_id\":69},{\"value\":328,\"label\":\"Топки\",\"parent_id\":29},{\"value\":953,\"label\":\"Торжок\",\"parent_id\":68},{\"value\":954,\"label\":\"Торопец\",\"parent_id\":68},{\"value\":467,\"label\":\"Тосно\",\"parent_id\":37},{\"value\":151,\"label\":\"Тотьма\",\"parent_id\":14},{\"value\":1055,\"label\":\"Троицк\",\"parent_id\":78},{\"value\":1116,\"label\":\"Троицк\",\"parent_id\":42},{\"value\":89,\"label\":\"Трубчевск\",\"parent_id\":10},{\"value\":1054,\"label\":\"Трёхгорный\",\"parent_id\":78},{\"value\":393,\"label\":\"Туапсе\",\"parent_id\":33},{\"value\":61,\"label\":\"Туймазы\",\"parent_id\":8},{\"value\":975,\"label\":\"Тула\",\"parent_id\":70},{\"value\":229,\"label\":\"Тулун\",\"parent_id\":21},{\"value\":983,\"label\":\"Туран\",\"parent_id\":71},{\"value\":862,\"label\":\"Туринск\",\"parent_id\":62},{\"value\":1107,\"label\":\"Тутаев\",\"parent_id\":84},{\"value\":23,\"label\":\"Тында\",\"parent_id\":4},{\"value\":241,\"label\":\"Тырныауз\",\"parent_id\":22},{\"value\":645,\"label\":\"Тюкалинск\",\"parent_id\":49},{\"value\":989,\"label\":\"Тюмень\",\"parent_id\":72},{\"value\":910,\"label\":\"Уварово\",\"parent_id\":66},{\"value\":812,\"label\":\"Углегорск\",\"parent_id\":61},{\"value\":1108,\"label\":\"Углич\",\"parent_id\":84},{\"value\":1089,\"label\":\"Удачный\",\"parent_id\":82},{\"value\":955,\"label\":\"Удомля\",\"parent_id\":68},{\"value\":416,\"label\":\"Ужур\",\"parent_id\":34},{\"value\":976,\"label\":\"Узловая\",\"parent_id\":70},{\"value\":97,\"label\":\"Улан-Удэ\",\"parent_id\":11},{\"value\":1002,\"label\":\"Ульяновск\",\"parent_id\":74},{\"value\":90,\"label\":\"Унеча\",\"parent_id\":10},{\"value\":1028,\"label\":\"Урай\",\"parent_id\":77},{\"value\":613,\"label\":\"Урень\",\"parent_id\":46},{\"value\":346,\"label\":\"Уржум\",\"parent_id\":30},{\"value\":1064,\"label\":\"Урус-Мартан\",\"parent_id\":79},{\"value\":138,\"label\":\"Урюпинск\",\"parent_id\":13},{\"value\":356,\"label\":\"Усинск\",\"parent_id\":31},{\"value\":475,\"label\":\"Усмань\",\"parent_id\":38},{\"value\":695,\"label\":\"Усолье\",\"parent_id\":53},{\"value\":230,\"label\":\"Усолье-Сибирское\",\"parent_id\":21},{\"value\":711,\"label\":\"Уссурийск\",\"parent_id\":54},{\"value\":295,\"label\":\"Усть-Джегута\",\"parent_id\":27},{\"value\":231,\"label\":\"Усть-Илимск\",\"parent_id\":21},{\"value\":1056,\"label\":\"Усть-Катав\",\"parent_id\":78},{\"value\":232,\"label\":\"Усть-Кут\",\"parent_id\":21},{\"value\":394,\"label\":\"Усть-Лабинск\",\"parent_id\":33},{\"value\":152,\"label\":\"Устюжна\",\"parent_id\":14},{\"value\":62,\"label\":\"Уфа\",\"parent_id\":8},{\"value\":357,\"label\":\"Ухта\",\"parent_id\":31},{\"value\":63,\"label\":\"Учалы\",\"parent_id\":8},{\"value\":417,\"label\":\"Уяр\",\"parent_id\":34},{\"value\":436,\"label\":\"Фатеж\",\"parent_id\":36},{\"value\":91,\"label\":\"Фокино\",\"parent_id\":10},{\"value\":712,\"label\":\"Фокино\",\"parent_id\":54},{\"value\":139,\"label\":\"Фролово\",\"parent_id\":13},{\"value\":558,\"label\":\"Фрязино\",\"parent_id\":43},{\"value\":205,\"label\":\"Фурманов\",\"parent_id\":19},{\"value\":1009,\"label\":\"Хабаровск\",\"parent_id\":75},{\"value\":395,\"label\":\"Хадыженск\",\"parent_id\":33},{\"value\":1029,\"label\":\"Ханты-Мансийск\",\"parent_id\":77},{\"value\":43,\"label\":\"Харабали\",\"parent_id\":7},{\"value\":153,\"label\":\"Харовск\",\"parent_id\":14},{\"value\":178,\"label\":\"Хасавюрт\",\"parent_id\":16},{\"value\":798,\"label\":\"Хвалынск\",\"parent_id\":60},{\"value\":189,\"label\":\"Хилок\",\"parent_id\":18},{\"value\":559,\"label\":\"Химки\",\"parent_id\":43},{\"value\":624,\"label\":\"Холм\",\"parent_id\":47},{\"value\":813,\"label\":\"Холмск\",\"parent_id\":61},{\"value\":560,\"label\":\"Хотьково\",\"parent_id\":43},{\"value\":1071,\"label\":\"Цивильск\",\"parent_id\":80},{\"value\":748,\"label\":\"Цимлянск\",\"parent_id\":56},{\"value\":984,\"label\":\"Чадан\",\"parent_id\":71},{\"value\":696,\"label\":\"Чайковский\",\"parent_id\":53},{\"value\":772,\"label\":\"Чапаевск\",\"parent_id\":58},{\"value\":476,\"label\":\"Чаплыгин\",\"parent_id\":38},{\"value\":1057,\"label\":\"Чебаркуль\",\"parent_id\":78},{\"value\":1072,\"label\":\"Чебоксары\",\"parent_id\":80},{\"value\":242,\"label\":\"Чегем\",\"parent_id\":22},{\"value\":977,\"label\":\"Чекалин\",\"parent_id\":70},{\"value\":1058,\"label\":\"Челябинск\",\"parent_id\":78},{\"value\":697,\"label\":\"Чердынь\",\"parent_id\":53},{\"value\":233,\"label\":\"Черемхово\",\"parent_id\":21},{\"value\":638,\"label\":\"Черепаново\",\"parent_id\":48},{\"value\":154,\"label\":\"Череповец\",\"parent_id\":14},{\"value\":296,\"label\":\"Черкесск\",\"parent_id\":27},{\"value\":561,\"label\":\"Черноголовка\",\"parent_id\":43},{\"value\":1014,\"label\":\"Черногорск\",\"parent_id\":76},{\"value\":699,\"label\":\"Чернушка\",\"parent_id\":53},{\"value\":263,\"label\":\"Черняховск\",\"parent_id\":23},{\"value\":562,\"label\":\"Чехов\",\"parent_id\":43},{\"value\":932,\"label\":\"Чистополь\",\"parent_id\":67},{\"value\":190,\"label\":\"Чита\",\"parent_id\":18},{\"value\":614,\"label\":\"Чкаловск\",\"parent_id\":46},{\"value\":625,\"label\":\"Чудово\",\"parent_id\":47},{\"value\":639,\"label\":\"Чулым\",\"parent_id\":48},{\"value\":700,\"label\":\"Чусовой\",\"parent_id\":53},{\"value\":368,\"label\":\"Чухлома\",\"parent_id\":32},{\"value\":698,\"label\":\"Чёрмоз\",\"parent_id\":53},{\"value\":985,\"label\":\"Шагонар\",\"parent_id\":71},{\"value\":425,\"label\":\"Шадринск\",\"parent_id\":35},{\"value\":1065,\"label\":\"Шали\",\"parent_id\":79},{\"value\":418,\"label\":\"Шарыпово\",\"parent_id\":34},{\"value\":369,\"label\":\"Шарья\",\"parent_id\":32},{\"value\":563,\"label\":\"Шатура\",\"parent_id\":43},{\"value\":749,\"label\":\"Шахты\",\"parent_id\":56},{\"value\":814,\"label\":\"Шахтёрск\",\"parent_id\":61},{\"value\":615,\"label\":\"Шахунья\",\"parent_id\":46},{\"value\":761,\"label\":\"Шацк\",\"parent_id\":57},{\"value\":75,\"label\":\"Шебекино\",\"parent_id\":9},{\"value\":234,\"label\":\"Шелехов\",\"parent_id\":21},{\"value\":37,\"label\":\"Шенкурск\",\"parent_id\":5},{\"value\":191,\"label\":\"Шилка\",\"parent_id\":18},{\"value\":24,\"label\":\"Шимановск\",\"parent_id\":4},{\"value\":799,\"label\":\"Шиханы\",\"parent_id\":60},{\"value\":468,\"label\":\"Шлиссельбург\",\"parent_id\":37},{\"value\":1073,\"label\":\"Шумерля\",\"parent_id\":80},{\"value\":426,\"label\":\"Шумиха\",\"parent_id\":35},{\"value\":206,\"label\":\"Шуя\",\"parent_id\":19},{\"value\":1118,\"label\":\"Щербинка\",\"parent_id\":42},{\"value\":437,\"label\":\"Щигры\",\"parent_id\":36},{\"value\":427,\"label\":\"Щучье\",\"parent_id\":35},{\"value\":978,\"label\":\"Щёкино\",\"parent_id\":70},{\"value\":564,\"label\":\"Щёлково\",\"parent_id\":43},{\"value\":566,\"label\":\"Электрогорск\",\"parent_id\":43},{\"value\":567,\"label\":\"Электросталь\",\"parent_id\":43},{\"value\":568,\"label\":\"Электроугли\",\"parent_id\":43},{\"value\":267,\"label\":\"Элиста\",\"parent_id\":24},{\"value\":800,\"label\":\"Энгельс\",\"parent_id\":60},{\"value\":169,\"label\":\"Эртиль\",\"parent_id\":15},{\"value\":569,\"label\":\"Юбилейный\",\"parent_id\":43},{\"value\":1030,\"label\":\"Югорск\",\"parent_id\":77},{\"value\":207,\"label\":\"Южа\",\"parent_id\":19},{\"value\":815,\"label\":\"Южно-Сахалинск\",\"parent_id\":61},{\"value\":179,\"label\":\"Южно-Сухокумск\",\"parent_id\":16},{\"value\":1059,\"label\":\"Южноуральск\",\"parent_id\":78},{\"value\":329,\"label\":\"Юрга\",\"parent_id\":29},{\"value\":120,\"label\":\"Юрьев-Польский\",\"parent_id\":12},{\"value\":208,\"label\":\"Юрьевец\",\"parent_id\":19},{\"value\":1060,\"label\":\"Юрюзань\",\"parent_id\":78},{\"value\":289,\"label\":\"Юхнов\",\"parent_id\":25},{\"value\":1074,\"label\":\"Ядрин\",\"parent_id\":80},{\"value\":1090,\"label\":\"Якутск\",\"parent_id\":82},{\"value\":990,\"label\":\"Ялуторовск\",\"parent_id\":72},{\"value\":64,\"label\":\"Янаул\",\"parent_id\":8},{\"value\":347,\"label\":\"Яранск\",\"parent_id\":30},{\"value\":15,\"label\":\"Яровое\",\"parent_id\":3},{\"value\":1109,\"label\":\"Ярославль\",\"parent_id\":84},{\"value\":883,\"label\":\"Ярцево\",\"parent_id\":64},{\"value\":979,\"label\":\"Ясногорск\",\"parent_id\":70},{\"value\":657,\"label\":\"Ясный\",\"parent_id\":50},{\"value\":570,\"label\":\"Яхрома\",\"parent_id\":43}]' data-unique-name=\"cities\">\n",
      "<div class=\"completer-input-wrapper\">\n",
      "<input class=\"completer-input\" id=\"\" placeholder=\"Город\" type=\"text\"/>\n",
      "<a class=\"bullet\" href=\"javascript:;\"></a>\n",
      "</div>\n",
      "<div class=\"items-wrapper\">\n",
      "</div>\n",
      "</div>\n",
      "<div class=\"g-multi-completer vertical\" data-deep-cache=\"true\" data-name=\"social_group_ids[]\" data-selected=\"[]\" data-single-item=\"\" data-source='[{\"value\":2,\"label\":\"Ребенок (0-11 лет)\"},{\"value\":4,\"label\":\"Подросток (12-17 лет)\"},{\"value\":5,\"label\":\"Взрослый (18-59 лет)\"},{\"value\":6,\"label\":\"Пожилой (старше 60 лет)\"},{\"value\":10,\"label\":\"Инвалид\"},{\"value\":8,\"label\":\"Сирота\"},{\"value\":12,\"label\":\"Беженец/мигрант\"},{\"value\":15,\"label\":\"Малоимущий/безработный/многодетная семья\"},{\"value\":13,\"label\":\"Бездомный\"},{\"value\":7,\"label\":\"Военнослужащие/семьи погибших\"},{\"value\":14,\"label\":\"Заключенный/бывший заключенный\"},{\"value\":16,\"label\":\"Пострадавший от стихийных бедствий/катастроф/войн\"}]' data-unique-name=\"social_groups\">\n",
      "<div class=\"completer-input-wrapper\">\n",
      "<input class=\"completer-input\" id=\"\" placeholder=\"Кому помогают\" type=\"text\"/>\n",
      "<a class=\"bullet\" href=\"javascript:;\"></a>\n",
      "</div>\n",
      "<div class=\"items-wrapper\">\n",
      "</div>\n",
      "</div>\n",
      "<div class=\"g-multi-completer vertical\" data-deep-cache=\"true\" data-name=\"category_ids[]\" data-selected=\"[]\" data-single-item=\"\" data-source='[{\"value\":1,\"label\":\"Лечение заболеваний\",\"parent\":null,\"level\":0},{\"value\":7,\"label\":\"Сахарный диабет\",\"parent\":1,\"level\":1},{\"value\":8,\"label\":\"СПИД/ВИЧ/Гепатит\",\"parent\":1,\"level\":1},{\"value\":9,\"label\":\"Зависимость\",\"parent\":1,\"level\":1},{\"value\":10,\"label\":\"Неврологические и психоневрологические заболевания\",\"parent\":1,\"level\":1},{\"value\":11,\"label\":\"Гематологические заболевания\",\"parent\":1,\"level\":1},{\"value\":12,\"label\":\"Онкологические заболевания\",\"parent\":1,\"level\":1},{\"value\":13,\"label\":\"Наследственные/генетические заболевания\",\"parent\":1,\"level\":1},{\"value\":31,\"label\":\"Сердечно-сосудистые заболевания\",\"parent\":1,\"level\":1},{\"value\":34,\"label\":\"Заболевания опорно-двигательного аппарата\",\"parent\":1,\"level\":1},{\"value\":35,\"label\":\"Другие заболевания органов и систем (дыхания, пищеварения, слуха, зрения, мочеполовой системы, печени, кожи, инфекционные заболевания, ожоги, дефекты внешности)\",\"parent\":1,\"level\":1},{\"value\":38,\"label\":\"Паллиативная помощь\",\"parent\":1,\"level\":1},{\"value\":45,\"label\":\"Редкие (орфанные) заболевания\",\"parent\":1,\"level\":1},{\"value\":4,\"label\":\"Социальная помощь\",\"parent\":null,\"level\":0},{\"value\":6,\"label\":\"Правовая поддержка\",\"parent\":4,\"level\":1},{\"value\":20,\"label\":\"Психологическая помощь\",\"parent\":4,\"level\":1},{\"value\":32,\"label\":\"Реабилитация и адаптация\",\"parent\":4,\"level\":1},{\"value\":33,\"label\":\"Волонтерская помощь\",\"parent\":4,\"level\":1},{\"value\":36,\"label\":\"Нужен донор\",\"parent\":4,\"level\":1},{\"value\":37,\"label\":\"Помощь в тяжелой жизненной ситуации\",\"parent\":4,\"level\":1},{\"value\":41,\"label\":\"Нефинансовая/гуманитарная помощь\",\"parent\":4,\"level\":1},{\"value\":43,\"label\":\"Поддержка НКО\",\"parent\":null,\"level\":0},{\"value\":44,\"label\":\"Консалтинг в области филантропии для социально ответственного бизнеса\",\"parent\":43,\"level\":1}]' data-unique-name=\"categories\">\n",
      "<div class=\"completer-input-wrapper\">\n",
      "<input class=\"completer-input\" id=\"\" placeholder=\"Тип проблемы\" type=\"text\"/>\n",
      "<a class=\"bullet\" href=\"javascript:;\"></a>\n",
      "</div>\n",
      "<div class=\"items-wrapper\">\n",
      "</div>\n",
      "</div>\n",
      "</div>\n",
      "<div class=\"sort-line\">\n",
      "Сортировать по\n",
      "<input class=\"g-checkbox form-field\" id=\"sort_name\" name=\"sort\" type=\"radio\" value=\"name\"/>\n",
      "<label class=\"radio-label\" for=\"sort_name\">названию</label>\n",
      "<input class=\"g-checkbox form-field\" id=\"sort_local\" name=\"sort\" type=\"radio\" value=\"local\"/>\n",
      "<label class=\"radio-label\" for=\"sort_local\">городу</label>\n",
      "<input class=\"g-checkbox form-field\" id=\"sort_new\" name=\"sort\" type=\"radio\" value=\"new\"/>\n",
      "<label class=\"radio-label\" for=\"sort_new\">новизне</label>\n",
      "</div>\n",
      "<input class=\"filter-reset\" disabled=\"disabled\" type=\"reset\" value=\"Сбросить\"/>\n",
      "</form>\n",
      "<div class=\"js-lazy-loader b-foundations-list\" data-autoload=\"false\" data-current-page=\"5\" data-json=\"true\" data-pull=\"null\" data-total-pages=\"32\"><div class=\"foundations-row js-lazy-content\">\n",
      "<div class=\"foundation b-foundations-card default\" id=\"foundation_452\"><img alt=\"\" class=\"logo\" src=\"/uploads/foundation/logo/452/small_thumb_279c0315-e25d-462f-97e8-ea95d0f5a3ed.png\"/>\n",
      "<div class=\"info-wrapper\">\n",
      "<a class=\"link\" href=\"/foundations/452\" title=\"Подсолнух\"><span class=\"name\">Подсолнух</span>\n",
      "</a><div class=\"engage\">\n",
      "<a class=\"dashed js-popover-trigger\" href=\"javascript:;\">Подробнее</a>\n",
      "<div class=\"g-popover center text\">Оказание комплексной помощи детям до 18 лет, страдающих опасными для жизни заболеваниями иммунной системы (первичный иммунодефицит, тяжелая комбинированная иммунная недостаточность, синдром Вискотта-Олдрича и др.).</div>\n",
      "</div>\n",
      "</div>\n",
      "<div class=\"region\">Москва</div>\n",
      "</div><div class=\"foundation b-foundations-card default\" id=\"foundation_150\"><img alt=\"\" class=\"logo\" src=\"/uploads/foundation/logo/150/small_thumb_Pomogi_org.png\"/>\n",
      "<div class=\"info-wrapper\">\n",
      "<a class=\"link\" href=\"/foundations/150\" title=\"Помоги.Орг\"><span class=\"name\">Помоги.Орг</span>\n",
      "</a><div class=\"engage\">\n",
      "<a class=\"dashed js-popover-trigger\" href=\"javascript:;\">Подробнее</a>\n",
      "<div class=\"g-popover center text\">Помощь детям, больным муковисцидозом, ДЦП, детям с ВПС (врожденный порок сердца), поддержка отличников из многодетных семей</div>\n",
      "</div>\n",
      "</div>\n",
      "<div class=\"region\">Москва</div>\n",
      "</div><div class=\"foundation b-foundations-card default\" id=\"foundation_560\"><img alt=\"\" class=\"logo\" src=\"/uploads/foundation/logo/560/small_thumb_25f5e6c0-2076-4722-aa42-16e4a2398b82.jpg\"/>\n",
      "<div class=\"info-wrapper\">\n",
      "<a class=\"link\" href=\"/foundations/560\" title='Православная служба помощи \"Милосердие\"'><span class=\"name\">Православная служба помощи \"Милосердие\"</span>\n",
      "</a></div>\n",
      "<div class=\"region\">Москва</div>\n",
      "</div><div class=\"foundation b-foundations-card default\" id=\"foundation_526\"><img alt=\"\" class=\"logo\" src=\"/uploads/foundation/logo/526/small_thumb_perspektiva_rus.png\"/>\n",
      "<div class=\"info-wrapper\">\n",
      "<a class=\"link\" href=\"/foundations/526\" title='РООИ \"Перспектива\"'><span class=\"name\">РООИ \"Перспектива\"</span>\n",
      "</a><div class=\"engage\">\n",
      "<a class=\"dashed js-popover-trigger\" href=\"javascript:;\">Подробнее</a>\n",
      "<div class=\"g-popover center text\">Наша миссия – добиться полного включения людей с инвалидностью во все сферы жизни общества и улучшить качество их жизни.</div>\n",
      "</div>\n",
      "</div>\n",
      "<div class=\"region\">Москва</div>\n",
      "</div>\n",
      "</div>\n",
      "<div class=\"foundations-row js-lazy-content\">\n",
      "<div class=\"foundation b-foundations-card default\" id=\"foundation_352\"><img alt=\"\" class=\"logo\" src=\"/uploads/foundation/logo/352/small_thumb_schastliviy_mir.png\"/>\n",
      "<div class=\"info-wrapper\">\n",
      "<a class=\"link\" href=\"/foundations/352\" title=\"Счастливый мир\"><span class=\"name\">Счастливый мир</span>\n",
      "</a><div class=\"engage\">\n",
      "<a class=\"dashed js-popover-trigger\" href=\"javascript:;\">Подробнее</a>\n",
      "<div class=\"g-popover center text\">Время и опыт деятельности скорректировали миссию фонда: сегодня мы помогаем детям с разными тяжелыми болезнями (не только с онкологией).</div>\n",
      "</div>\n",
      "</div>\n",
      "<div class=\"region\">Москва</div>\n",
      "</div><div class=\"foundation b-foundations-card default\" id=\"foundation_425\"><img alt=\"\" class=\"logo\" src=\"/uploads/foundation/logo/425/small_thumb_Logo_ORBI.png\"/>\n",
      "<div class=\"info-wrapper\">\n",
      "<a class=\"link\" href=\"/foundations/425\" title='Фонд \"ОРБИ\"'><span class=\"name\">Фонд \"ОРБИ\"</span>\n",
      "</a><div class=\"engage\">\n",
      "<a class=\"dashed js-popover-trigger\" href=\"javascript:;\">Подробнее</a>\n",
      "<div class=\"g-popover center text\">Фонд \"ОРБИ\" – первый и единственный межрегиональный фонд помощи больным, перенесшим инсульт, и их родственникам.</div>\n",
      "</div>\n",
      "</div>\n",
      "<div class=\"region\">Москва</div>\n",
      "</div><div class=\"foundation b-foundations-card default\" id=\"foundation_521\"><img alt=\"\" class=\"logo\" src=\"/uploads/foundation/logo/521/small_thumb_392eeead-93bc-427f-a94a-8d3c6afefba9.jpg\"/>\n",
      "<div class=\"info-wrapper\">\n",
      "<a class=\"link\" href=\"/foundations/521\" title='Фонд \"Созидание\"'><span class=\"name\">Фонд \"Созидание\"</span>\n",
      "</a><div class=\"engage\">\n",
      "<a class=\"dashed js-popover-trigger\" href=\"javascript:;\">Подробнее</a>\n",
      "<div class=\"g-popover center text\">Оказание регулярной помощи малообеспеченным и многодетным семьям, семьям с приемными детьми, семьям с детьми-инвалидами, а также семьям, где детей воспитывают бабушки и дедушки.</div>\n",
      "</div>\n",
      "</div>\n",
      "<div class=\"region\">Москва</div>\n",
      "</div><div class=\"foundation b-foundations-card default\" id=\"foundation_596\"><img alt=\"\" class=\"logo\" src=\"/uploads/foundation/logo/596/small_thumb_e4b6e521-92ed-40c5-9d1c-76dc69d41549.jpg\"/>\n",
      "<div class=\"info-wrapper\">\n",
      "<a class=\"link\" href=\"/foundations/596\" title='Фонд поддержки слепоглухих \"Со-единение\"'><span class=\"name\">Фонд поддержки слепоглухих \"Со-единение\"</span>\n",
      "</a><div class=\"engage\">\n",
      "<a class=\"dashed js-popover-trigger\" href=\"javascript:;\">Подробнее</a>\n",
      "<div class=\"g-popover center text\">Миссия фонда – стать проводником между миром слепоглухих и зрячеслышащих, разработать и объединить успешные решения и практики, дающие слепоглухим людям возможность самореализации, развития и интеграции в общество.</div>\n",
      "</div>\n",
      "</div>\n",
      "<div class=\"region\">Москва</div>\n",
      "</div>\n",
      "</div>\n",
      "<div class=\"foundations-row js-lazy-content\">\n",
      "<div class=\"foundation b-foundations-card default\" id=\"foundation_565\"><img alt=\"\" class=\"logo\" src=\"/uploads/foundation/logo/565/small_thumb_db012110-61d2-4422-a38c-45e5a2350022.png\"/>\n",
      "<div class=\"info-wrapper\">\n",
      "<a class=\"link\" href=\"/foundations/565\" title='Фонд продовольствия \"Русь\"'><span class=\"name\">Фонд продовольствия \"Русь\"</span>\n",
      "</a><div class=\"engage\">\n",
      "<a class=\"dashed js-popover-trigger\" href=\"javascript:;\">Подробнее</a>\n",
      "<div class=\"g-popover center text\">\"Фонд продовольствия \"Русь\" - это всероссийский благотворительный фонд , который передает еду социально незащищенным категориям населения во всех регионах Российской Федерации.</div>\n",
      "</div>\n",
      "</div>\n",
      "<div class=\"region\">Москва</div>\n",
      "</div><div class=\"foundation b-foundations-card default\" id=\"foundation_446\"><img alt=\"\" class=\"logo\" src=\"/uploads/foundation/logo/446/small_thumb_logo_thumb.png\"/>\n",
      "<div class=\"info-wrapper\">\n",
      "<a class=\"link\" href=\"/foundations/446\" title='\"Милосердие - детям\"'><span class=\"name\">\"Милосердие - детям\"</span>\n",
      "</a><div class=\"engage\">\n",
      "<a class=\"dashed js-popover-trigger\" href=\"javascript:;\">Подробнее</a>\n",
      "<div class=\"g-popover center text\">Оказание содействия медицинским учреждениям РФ в комплексном решении основных насущных медицинских проблем высокотехнологичного дорогостоящего лечения и реабилитации больных детей до 18-летнего возраста.</div>\n",
      "</div>\n",
      "</div>\n",
      "<div class=\"region\">Москва</div>\n",
      "</div><div class=\"foundation b-foundations-card default\" id=\"foundation_622\"><img alt=\"\" class=\"logo\" src=\"/uploads/foundation/logo/622/small_thumb_6fd179fd-dddb-4bc6-a3ad-744e0c7a957e.jpg\"/>\n",
      "<div class=\"info-wrapper\">\n",
      "<a class=\"link\" href=\"/foundations/622\" title='\"Милосердие\"'><span class=\"name\">\"Милосердие\"</span>\n",
      "</a><div class=\"engage\">\n",
      "<a class=\"dashed js-popover-trigger\" href=\"javascript:;\">Подробнее</a>\n",
      "<div class=\"g-popover center text\">Помощь семьям попавшим в трудную жизненную ситуацию\r\n",
      "Помощь семьям, имеющим пятерых и более детей\r\n",
      "Центр мобильной помощи погорельцам\r\n",
      "Помощь детям в областной больнице\r\n",
      "Помощь престарелым людям и инвалидам\r\n",
      "</div>\n",
      "</div>\n",
      "</div>\n",
      "<div class=\"region\">miloserdie-kaluga.ru</div>\n",
      "</div><div class=\"foundation b-foundations-card default\" id=\"foundation_154\"><img alt=\"\" class=\"logo\" src=\"/uploads/foundation/logo/154/small_thumb_logo_thumb.png\"/>\n",
      "<div class=\"info-wrapper\">\n",
      "<a class=\"link\" href=\"/foundations/154\" title=\"CAF Россия\"><span class=\"name\">CAF Россия</span>\n",
      "</a><div class=\"engage\">\n",
      "<a class=\"dashed js-popover-trigger\" href=\"javascript:;\">Подробнее</a>\n",
      "<div class=\"g-popover center text\">Реализация грантовых программ для НКО, консультирование частных и корпоративных доноров</div>\n",
      "</div>\n",
      "</div>\n",
      "<div class=\"region\">Москва</div>\n",
      "</div>\n",
      "</div>\n",
      "<div class=\"foundations-row js-lazy-content\">\n",
      "<div class=\"foundation b-foundations-card default\" id=\"foundation_623\"><img alt=\"\" class=\"logo\" src=\"/uploads/foundation/logo/623/small_thumb_f65a74f7-10af-4378-9a35-780755cb4e6b.jpg\"/>\n",
      "<div class=\"info-wrapper\">\n",
      "<a class=\"link\" href=\"/foundations/623\" title='АНО \"Во благо\"'><span class=\"name\">АНО \"Во благо\"</span>\n",
      "</a><div class=\"engage\">\n",
      "<a class=\"dashed js-popover-trigger\" href=\"javascript:;\">Подробнее</a>\n",
      "<div class=\"g-popover center text\">АВТОНОМНАЯ НЕКОММЕРЧЕСКАЯ ОРГАНИЗАЦИЯ ПО РЕАЛИЗАЦИИ СОЦИАЛЬНО-ЗНАЧИМЫХ ПРОГРАММ И ПРОЕКТОВ \"ВО БЛАГО\"</div>\n",
      "</div>\n",
      "</div>\n",
      "<div class=\"region\">http://voblago.moscow</div>\n",
      "</div><div class=\"foundation b-foundations-card default\" id=\"foundation_447\"><img alt=\"\" class=\"logo\" src=\"/uploads/foundation/logo/447/small_thumb_logo_thumb.png\"/>\n",
      "<div class=\"info-wrapper\">\n",
      "<a class=\"link\" href=\"/foundations/447\" title='АНО \"Инватур\"'><span class=\"name\">АНО \"Инватур\"</span>\n",
      "</a><div class=\"engage\">\n",
      "<a class=\"dashed js-popover-trigger\" href=\"javascript:;\">Подробнее</a>\n",
      "<div class=\"g-popover center text\">Социальная адаптация и реабилитация инвалидов с помощью экскурсионного туризма, содействие интеграции инвалидов в общество и оказание помощи в реализации индивидуального потенциала человека с инвалидностью.</div>\n",
      "</div>\n",
      "</div>\n",
      "<div class=\"region\">Москва</div>\n",
      "</div><div class=\"foundation b-foundations-card default\" id=\"foundation_517\"><img alt=\"\" class=\"logo\" src=\"/assets/fallback/logo_small_thumb-4032d22ed856b94c6626853a67a9d50d.png\"/>\n",
      "<div class=\"info-wrapper\">\n",
      "<a class=\"link\" href=\"/foundations/517\" title='АНО \"ЦСИ \"Гражданский Вызов\"'><span class=\"name\">АНО \"ЦСИ \"Гражданский Вызов\"</span>\n",
      "</a><div class=\"engage\">\n",
      "<a class=\"dashed js-popover-trigger\" href=\"javascript:;\">Подробнее</a>\n",
      "<div class=\"g-popover center text\">Оказание помощи людям, попавшим в наркотическую или алкогольную зависимость. Социальная реабилитация зависимых.</div>\n",
      "</div>\n",
      "</div>\n",
      "<div class=\"region\">Дзержинский</div>\n",
      "</div><div class=\"foundation b-foundations-card default\" id=\"foundation_466\"><img alt=\"\" class=\"logo\" src=\"/assets/fallback/logo_small_thumb-4032d22ed856b94c6626853a67a9d50d.png\"/>\n",
      "<div class=\"info-wrapper\">\n",
      "<a class=\"link\" href=\"/foundations/466\" title='АНО Благотворительный фонд \"Независимость\"'><span class=\"name\">АНО Благотворительный фонд \"Независимость\"</span>\n",
      "</a><div class=\"engage\">\n",
      "<a class=\"dashed js-popover-trigger\" href=\"javascript:;\">Подробнее</a>\n",
      "<div class=\"g-popover center text\">Оказание разносторонней помощи инвалидам, в т.ч. в приобретении реабилитационного оборудования и прохождении реабилитации.</div>\n",
      "</div>\n",
      "</div>\n",
      "<div class=\"region\">Москва</div>\n",
      "</div>\n",
      "</div>\n",
      "<nav class=\"pagination\">\n",
      "<span class=\"first\">\n",
      "<a href=\"/foundations?search_by=name\">« Первая</a>\n",
      "</span>\n",
      "<span class=\"prev\">\n",
      "<a href=\"/foundations?page=4&amp;search_by=name\" rel=\"prev\">‹ Пред.</a>\n",
      "</span>\n",
      "<span class=\"page\">\n",
      "<a href=\"/foundations?search_by=name\">1</a>\n",
      "</span>\n",
      "<span class=\"page\">\n",
      "<a href=\"/foundations?page=2&amp;search_by=name\">2</a>\n",
      "</span>\n",
      "<span class=\"page\">\n",
      "<a href=\"/foundations?page=3&amp;search_by=name\">3</a>\n",
      "</span>\n",
      "<span class=\"page\">\n",
      "<a href=\"/foundations?page=4&amp;search_by=name\" rel=\"prev\">4</a>\n",
      "</span>\n",
      "<span class=\"page current\">\n",
      "5\n",
      "</span>\n",
      "<span class=\"page\">\n",
      "<a href=\"/foundations?page=6&amp;search_by=name\" rel=\"next\">6</a>\n",
      "</span>\n",
      "<span class=\"page\">\n",
      "<a href=\"/foundations?page=7&amp;search_by=name\">7</a>\n",
      "</span>\n",
      "<span class=\"page\">\n",
      "<a href=\"/foundations?page=8&amp;search_by=name\">8</a>\n",
      "</span>\n",
      "<span class=\"page\">\n",
      "<a href=\"/foundations?page=9&amp;search_by=name\">9</a>\n",
      "</span>\n",
      "<span class=\"page gap\">\n",
      "…\n",
      "</span>\n",
      "<span class=\"next\">\n",
      "<a href=\"/foundations?page=6&amp;search_by=name\" rel=\"next\">След. ›</a>\n",
      "</span>\n",
      "<span class=\"last\">\n",
      "<a href=\"/foundations?page=32&amp;search_by=name\">Последняя »</a>\n",
      "</span>\n",
      "</nav>\n",
      "</div>\n",
      "</div>\n",
      "</section>\n",
      "<footer class=\"l-page___footer\">\n",
      "<div class=\"l-page__container\">\n",
      "<nav class=\"g-navigation\">\n",
      "<a class=\"link\" href=\"/events\">Архив акций</a>\n",
      "<a class=\"link\" href=\"/documents\">Документы</a>\n",
      "<a class=\"link\" href=\"/instructions\">Инструкции</a>\n",
      "<a class=\"link\" href=\"/partners\">Партнёры</a>\n",
      "<a class=\"link\" href=\"/contacts\">Контакты</a>\n",
      "<a class=\"link\" href=\"/useful_links\">Полезные ссылки</a>\n",
      "<a class=\"link\" href=\"/sitemap\">Карта сайта</a>\n",
      "</nav>\n",
      "<div class=\"b-partner-logos\">\n",
      "<a class=\"logo partner-0\" href=\"http://planeta.ru/\" rel=\"nofollow\" target=\"_blank\" title=\"Planeta.ru\"><img alt=\"Planeta.ru\" class=\"logo-image\" src=\"/assets/layout/footer/planeta_ru-063462f8eb330f4b75cb8c420245d63f.svg\"/>\n",
      "</a><a class=\"logo partner-2\" href=\"http://www.unitedway.ru/\" rel=\"nofollow\" target=\"_blank\" title=\"UnitedWay.ru\"><img alt=\"UnitedWay.ru\" class=\"logo-image\" src=\"/assets/layout/footer/united-way-46cdfc11172ce3b8a3ec2b71d3be4303.svg\"/>\n",
      "</a><a class=\"logo partner-1\" href=\"http://blago.ru/\" rel=\"nofollow\" target=\"_blank\" title=\"Blago.ru\"><img alt=\"Blago.ru\" class=\"logo-image\" src=\"/assets/layout/footer/blago_ru-6b46c1f04f5db3444b7884f7f26bac5d.svg\"/>\n",
      "</a><a class=\"logo partner-3\" href=\"http://boomstarter.ru/\" rel=\"nofollow\" target=\"_blank\" title=\"Boomstarter.ru\"><img alt=\"Boomstarter.ru\" class=\"logo-image\" src=\"/assets/layout/footer/boom-6647add313a4b0f1da91d035e9f77be7.svg\"/>\n",
      "</a><a class=\"logo partner-4\" href=\"http://kos.mos.ru/\" rel=\"nofollow\" target=\"_blank\" title=\"KosMos.ru\"><img alt=\"KosMos.ru\" class=\"logo-image\" src=\"/assets/layout/footer/kos_mos-15a2a3c7f25bbef1d6af5c16b53c69e7.svg\"/>\n",
      "</a></div>\n",
      "<div class=\"information\">\n",
      "<div class=\"info-block description\">© 2015 «Некоммерческое партнерство оказания помощи людям в затруднительных жизненных обстоятельствах.»</div>\n",
      "<div class=\"info-block address\">\n",
      "<p class=\"line\">Юридический адрес: Москва, ул. Плющиха, дом 9 стр. 2</p>\n",
      "<p class=\"line\">+7 (968) 419-99-90</p>\n",
      "<p class=\"line uppercase\"><a href=\"mailto:info@ivsezaodnogo.ru\">info@ivsezaodnogo.ru</a></p>\n",
      "</div>\n",
      "<div class=\"info-block footer-social\">\n",
      "<a class=\"social-link fb\" href=\"https://www.facebook.com/ivsezaodnogo\" rel=\"nofollow\" target=\"_blank\" title=\"Мы на Facebook\"></a>\n",
      "<a class=\"social-link vk\" href=\"http://vk.com/ivsezaodnogo\" rel=\"nofollow\" target=\"_blank\" title=\"Мы Вконтакте\"></a>\n",
      "</div>\n",
      "<div class=\"info-block copyrights\">\n",
      "<a class=\"developed\" href=\"http://evrone.ru/\" rel=\"nofollow\" target=\"_blank\"><span class=\"by\">Разработано в</span>\n",
      "<span class=\"evrone\" title=\"Evrone.ru\"></span>\n",
      "</a></div>\n",
      "</div>\n",
      "</div>\n",
      "</footer>\n",
      "<!-- Yandex.Metrika counter -->\n",
      "<script type=\"text/javascript\">\n",
      "  (function (d, w, c) {\n",
      "    (w[c] = w[c] || []).push(function() {\n",
      "      try {\n",
      "        w.yaCounter24627122 = new Ya.Metrika({id:24627122,\n",
      "          webvisor:true,\n",
      "          clickmap:true,\n",
      "          trackLinks:true,\n",
      "          accurateTrackBounce:true});\n",
      "      } catch(e) { }\n",
      "    });\n",
      "\n",
      "    var n = d.getElementsByTagName(\"script\")[0],\n",
      "            s = d.createElement(\"script\"),\n",
      "            f = function () { n.parentNode.insertBefore(s, n); };\n",
      "    s.type = \"text/javascript\";\n",
      "    s.async = true;\n",
      "    s.src = (d.location.protocol == \"https:\" ? \"https:\" : \"http:\") + \"//mc.yandex.ru/metrika/watch.js\";\n",
      "\n",
      "    if (w.opera == \"[object Opera]\") {\n",
      "      d.addEventListener(\"DOMContentLoaded\", f, false);\n",
      "    } else { f(); }\n",
      "  })(document, window, \"yandex_metrika_callbacks\");\n",
      "</script>\n",
      "<noscript><div><img alt=\"\" src=\"//mc.yandex.ru/watch/24627122\" style=\"position:absolute; left:-9999px;\"/></div></noscript>\n",
      "<!-- /Yandex.Metrika counter -->\n",
      "</div>\n",
      "</body>\n",
      "</html>\n",
      "\n"
     ]
    }
   ],
   "source": [
    "print(soup)"
   ]
  },
  {
   "cell_type": "markdown",
   "metadata": {},
   "source": [
    "## А теперь вытащим с текущей страницы все url, ведущие на страницы НКО"
   ]
  },
  {
   "cell_type": "code",
   "execution_count": 37,
   "metadata": {
    "collapsed": false
   },
   "outputs": [],
   "source": [
    "urls_block = soup.find('div', attrs={'class':'js-lazy-loader b-foundations-list'}).findAll('a', attrs={'class':'link'})"
   ]
  },
  {
   "cell_type": "code",
   "execution_count": 38,
   "metadata": {
    "collapsed": false
   },
   "outputs": [
    {
     "data": {
      "text/plain": [
       "[<a class=\"link\" href=\"/foundations/452\" title=\"Подсолнух\"><span class=\"name\">Подсолнух</span>\n",
       " </a>,\n",
       " <a class=\"link\" href=\"/foundations/150\" title=\"Помоги.Орг\"><span class=\"name\">Помоги.Орг</span>\n",
       " </a>,\n",
       " <a class=\"link\" href=\"/foundations/560\" title='Православная служба помощи \"Милосердие\"'><span class=\"name\">Православная служба помощи \"Милосердие\"</span>\n",
       " </a>]"
      ]
     },
     "execution_count": 38,
     "metadata": {},
     "output_type": "execute_result"
    }
   ],
   "source": [
    "urls_block[0:3]"
   ]
  },
  {
   "cell_type": "markdown",
   "metadata": {},
   "source": [
    "Отсюда нужно вытащить только цифры, так как у нас уже есть формат ссылки для перехода на страницу НКО. Воспользуемся регулярными выражениями!"
   ]
  },
  {
   "cell_type": "code",
   "execution_count": 39,
   "metadata": {
    "collapsed": false
   },
   "outputs": [
    {
     "data": {
      "text/plain": [
       "['452',\n",
       " '150',\n",
       " '560',\n",
       " '526',\n",
       " '352',\n",
       " '425',\n",
       " '521',\n",
       " '596',\n",
       " '565',\n",
       " '446',\n",
       " '622',\n",
       " '154',\n",
       " '623',\n",
       " '447',\n",
       " '517',\n",
       " '466']"
      ]
     },
     "execution_count": 39,
     "metadata": {},
     "output_type": "execute_result"
    }
   ],
   "source": [
    "nko_urls = re.findall(r'\\d+', str(urls_block))\n",
    "nko_urls"
   ]
  },
  {
   "cell_type": "markdown",
   "metadata": {},
   "source": [
    "Осталось собрать всё сделанное в красивую функцию, принимающую на вход номер страницы и возвращающу список ссылок"
   ]
  },
  {
   "cell_type": "code",
   "execution_count": 40,
   "metadata": {
    "collapsed": true
   },
   "outputs": [],
   "source": [
    "def getUrls(page):\n",
    "    req = Request(main_url.format(page), headers={'User-Agent': generate_user_agent()})\n",
    "    webpage = urlopen(req).read()\n",
    "    soup = BeautifulSoup(webpage, \"lxml\")\n",
    "    urls_block = soup.find('div', attrs={'class':'js-lazy-loader b-foundations-list'}).findAll('a', attrs={'class':'link'})\n",
    "    nko_urls = re.findall(r'\\d+', str(urls_block))\n",
    "    return nko_urls"
   ]
  },
  {
   "cell_type": "code",
   "execution_count": 41,
   "metadata": {
    "collapsed": false
   },
   "outputs": [
    {
     "data": {
      "text/plain": [
       "['452',\n",
       " '150',\n",
       " '560',\n",
       " '526',\n",
       " '352',\n",
       " '425',\n",
       " '521',\n",
       " '596',\n",
       " '565',\n",
       " '446',\n",
       " '622',\n",
       " '154',\n",
       " '623',\n",
       " '447',\n",
       " '517',\n",
       " '466']"
      ]
     },
     "execution_count": 41,
     "metadata": {},
     "output_type": "execute_result"
    }
   ],
   "source": [
    "getUrls(5)"
   ]
  },
  {
   "cell_type": "code",
   "execution_count": 42,
   "metadata": {
    "collapsed": true
   },
   "outputs": [],
   "source": [
    "def html_stripper(text):\n",
    "    # очищает строку от всех html-тэгов\n",
    "    return re.sub('<[^<]+?>', '', str(text))"
   ]
  },
  {
   "cell_type": "markdown",
   "metadata": {},
   "source": [
    "## Теперь мы можем получить ссылки на все НКО, перечисленные на сайты, осталось научиться переходить на их страницы, чтобы оттуда всё достать"
   ]
  },
  {
   "cell_type": "code",
   "execution_count": 43,
   "metadata": {
    "collapsed": false
   },
   "outputs": [
    {
     "data": {
      "text/plain": [
       "'http://ivsezaodnogo.ru/foundations/452'"
      ]
     },
     "execution_count": 43,
     "metadata": {},
     "output_type": "execute_result"
    }
   ],
   "source": [
    "sub_url.format(452)"
   ]
  },
  {
   "cell_type": "code",
   "execution_count": 44,
   "metadata": {
    "collapsed": true
   },
   "outputs": [],
   "source": [
    "def getPage(page):\n",
    "    # Возвращает страницу с НКО\n",
    "    req = Request(sub_url.format(page), headers={'User-Agent': generate_user_agent()})\n",
    "    webpage = urlopen(req).read()\n",
    "    soup = BeautifulSoup(webpage, \"lxml\")\n",
    "    return soup"
   ]
  },
  {
   "cell_type": "code",
   "execution_count": 45,
   "metadata": {
    "collapsed": true
   },
   "outputs": [],
   "source": [
    "page = getPage(452)"
   ]
  },
  {
   "cell_type": "code",
   "execution_count": 46,
   "metadata": {
    "collapsed": false
   },
   "outputs": [
    {
     "data": {
      "text/plain": [
       "'<!DOCTYPE html>\\n<html lang=\"ru-RU\">\\n<head>\\n<meta charset=\"utf-8\"/>\\n<title>\\nБлаготворительный фонд \"Фонд помощи детям с нарушениями иммунитета \"Подсолнух\" / И все за одного\\n</title>\\n<meta content=\"Благ'"
      ]
     },
     "execution_count": 46,
     "metadata": {},
     "output_type": "execute_result"
    }
   ],
   "source": [
    "str(page)[0:200]"
   ]
  },
  {
   "cell_type": "code",
   "execution_count": 47,
   "metadata": {
    "collapsed": true
   },
   "outputs": [],
   "source": [
    "organization_name = html_stripper(page.find(\"h1\"))"
   ]
  },
  {
   "cell_type": "code",
   "execution_count": 48,
   "metadata": {
    "collapsed": false
   },
   "outputs": [
    {
     "data": {
      "text/plain": [
       "'Благотворительный фонд \"Фонд помощи детям с нарушениями иммунитета \"Подсолнух\"'"
      ]
     },
     "execution_count": 48,
     "metadata": {},
     "output_type": "execute_result"
    }
   ],
   "source": [
    "organization_name"
   ]
  },
  {
   "cell_type": "code",
   "execution_count": 49,
   "metadata": {
    "collapsed": true
   },
   "outputs": [],
   "source": [
    "information = page.find(\"div\", attrs={'class':'groups'})\n",
    "information = re.split(\"Решает проблемы|Кому оказывается помощь\", str(information))\n",
    "    "
   ]
  },
  {
   "cell_type": "code",
   "execution_count": 50,
   "metadata": {
    "collapsed": false
   },
   "outputs": [
    {
     "data": {
      "text/plain": [
       "['<div class=\"groups\">\\n<div class=\"column float-right\">\\n<h3 class=\"sub-title\">',\n",
       " '</h3>\\n<div class=\"js-expandable\">\\n<div class=\"description-wrapper\">\\n<ul class=\"list description\" data-height-from-children=\"4\">\\n<li class=\"bold\">Лечение заболеваний</li>\\n<li>Наследственные/генетические заболевания</li>\\n<li>Редкие (орфанные) заболевания</li>\\n</ul>\\n</div>\\n<div class=\"toggler-wrapper\">\\n<a class=\"dashed js-toggler more\" href=\"javascript:;\">показать все</a>\\n<a class=\"dashed js-toggler rollup\" href=\"javascript:;\">свернуть ↑</a>\\n</div>\\n</div>\\n</div>\\n<div class=\"column float-left\">\\n<h3 class=\"sub-title\">',\n",
       " '</h3>\\n<ul class=\"list\">\\n<li>Ребенок (0-11 лет)</li>\\n<li>Подросток (12-17 лет)</li>\\n</ul>\\n</div>\\n</div>']"
      ]
     },
     "execution_count": 50,
     "metadata": {},
     "output_type": "execute_result"
    }
   ],
   "source": [
    "information"
   ]
  },
  {
   "cell_type": "code",
   "execution_count": 51,
   "metadata": {
    "collapsed": true
   },
   "outputs": [],
   "source": [
    "def getInformation(page):\n",
    "    #### Organization name\n",
    "    organization_name = html_stripper(page.find(\"h1\"))\n",
    "    \n",
    "    information = page.find(\"div\", attrs={'class':'groups'})\n",
    "    information = re.split(\"Решает проблемы|Кому оказывается помощь\", str(information))\n",
    "    \n",
    "    #### Problems\n",
    "    problems_solving = html_stripper(information[1]).split('\\n')\n",
    "    problems_solving = [x for x in problems_solving if x] # удаляем пустые значения\n",
    "    problems_solving = list(set(problems_solving)) # удаляем дубликаты\n",
    "    problems_solving.remove(\"показать все\")\n",
    "    problems_solving.remove('свернуть ↑')\n",
    "    \n",
    "    #### Target audience\n",
    "    audience = html_stripper(information[2]).split('\\n')\n",
    "    audience = [x for x in audience if x]\n",
    "    \n",
    "    #### Description\n",
    "    description = html_stripper(page.find(\"div\", attrs={\"class\":\"description\"}))\n",
    "    \n",
    "    return {'name':organization_name, \n",
    "            'problems_solving':problems_solving, \n",
    "            'audience':audience, \n",
    "            'description':description}"
   ]
  },
  {
   "cell_type": "code",
   "execution_count": 52,
   "metadata": {
    "collapsed": false
   },
   "outputs": [
    {
     "data": {
      "text/plain": [
       "{'audience': ['Ребенок (0-11 лет)', 'Подросток (12-17 лет)'],\n",
       " 'description': '\\nОписание благотворительной организации\\nБлаготворительный фонд \"Фонд помощи детям с нарушениями иммунитета \"Подсолнух\" был создан в 2006 году усилиями неравнодушных людей и работает, чтобы спасти жизни младенцев и детей, больных врожденным иммунодефицитом и аутоиммунными заболеваниями.\\nКому помогает фонд? \\nСегодня мы помогаем находить средства на покупку дорогостоящих препаратов для лечения детей в возрасте до 18 лет, страдающих опасными для жизни заболеваниями иммунной системы:\\n• первичный иммунодефицит;\\n• тяжелая комбинированная иммунная недостаточность (ТКИН);\\n• синдром Вискотта-Олдрича и др.\\nОплата лечения происходит только по официальному запросу врачей по конкретной истории болезни. Денежные средства, поступающие на счета фонда, используются на лечение каждого ребенка только адресно.\\nФонд проводит еженедельные творческие занятия с детьми, проходящими курс лечения в отделении иммунологии РДКБ и организует праздники и концерты для детей, проходящих лечение в больнице.\\nКому удалось помочь?\\nЗа время своего существования Фонду \"Подсолнух\" удалось оказать реальную помощь и поддержку сотням маленьких малышей, благодаря усилиям российских компаний и совершенно обычных людей разных профессий, возрастов и социального статуса. Каждый день они находят время для того, чтобы внести свой посильный вклад в организацию самой разнообразной помощи тем детям, кому она действительно необходима.\\n',\n",
       " 'name': 'Благотворительный фонд \"Фонд помощи детям с нарушениями иммунитета \"Подсолнух\"',\n",
       " 'problems_solving': ['Лечение заболеваний',\n",
       "  'Редкие (орфанные) заболевания',\n",
       "  'Наследственные/генетические заболевания']}"
      ]
     },
     "execution_count": 52,
     "metadata": {},
     "output_type": "execute_result"
    }
   ],
   "source": [
    "getInformation(page)"
   ]
  },
  {
   "cell_type": "markdown",
   "metadata": {},
   "source": [
    "## Координаты можно получить из яндекс карт"
   ]
  },
  {
   "cell_type": "code",
   "execution_count": 53,
   "metadata": {
    "collapsed": true
   },
   "outputs": [],
   "source": [
    "contacts = page.find(\"div\", attrs={\"class\":\"contacts js-donate-block\"})\n",
    "yandex_url = re.findall('http[s]?://(?:[a-zA-Z]|[0-9]|[$-_@.&+]|[!*\\(\\),]|(?:%[0-9a-fA-F][0-9a-fA-F]))+', str(contacts))[0]"
   ]
  },
  {
   "cell_type": "code",
   "execution_count": 54,
   "metadata": {
    "collapsed": false
   },
   "outputs": [
    {
     "data": {
      "text/plain": [
       "'http://maps.yandex.ru/?text=119285,%20%D0%9C%D0%BE%D1%81%D0%BA%D0%B2%D0%B0,%20%D1%83%D0%BB.%20%D0%9F%D1%8B%D1%80%D1%8C%D0%B5%D0%B2%D0%B0,%20%D0%B4.%209,%20%D0%BA%D0%BE%D1%80%D0%BF.%202'"
      ]
     },
     "execution_count": 54,
     "metadata": {},
     "output_type": "execute_result"
    }
   ],
   "source": [
    "yandex_url"
   ]
  },
  {
   "cell_type": "code",
   "execution_count": 55,
   "metadata": {
    "collapsed": true
   },
   "outputs": [],
   "source": [
    "def getCoordinatesFromYandex(yandex_url):\n",
    "    try:\n",
    "        req = Request(yandex_url, headers={'User-Agent': generate_user_agent()})\n",
    "        webpage = urlopen(req).read()\n",
    "        soup = BeautifulSoup(webpage, \"lxml\")\n",
    "        soup.find(\"div\", attrs={\"class\":\"toponym-card-view__coordinates-deg\"})\n",
    "        coordinates = re.split(\"coordinates\", str(soup))[-2]\n",
    "        coordinates = re.findall(r'\\d+[\\.]?\\d*', coordinates)[0:2]\n",
    "    except:\n",
    "        coordinates=[np.NaN, np.NaN]\n",
    "    return coordinates"
   ]
  },
  {
   "cell_type": "code",
   "execution_count": 56,
   "metadata": {
    "collapsed": false
   },
   "outputs": [
    {
     "data": {
      "text/plain": [
       "['37.524201', '55.72709']"
      ]
     },
     "execution_count": 56,
     "metadata": {},
     "output_type": "execute_result"
    }
   ],
   "source": [
    "getCoordinatesFromYandex(yandex_url)"
   ]
  },
  {
   "cell_type": "code",
   "execution_count": 57,
   "metadata": {
    "collapsed": true
   },
   "outputs": [],
   "source": [
    "def getContacts(page):\n",
    "    contacts = page.find(\"div\", attrs={\"class\":\"contacts js-donate-block\"})\n",
    "    yandex_url = re.findall('http[s]?://(?:[a-zA-Z]|[0-9]|[$-_@.&+]|[!*\\(\\),]|(?:%[0-9a-fA-F][0-9a-fA-F]))+', str(contacts))[0]\n",
    "    \n",
    "    longtitude, latitude = getCoordinatesFromYandex(yandex_url)\n",
    "    \n",
    "    address = html_stripper(contacts.find(\"a\",attrs={'class':\"info-line address\"}))\n",
    "    telephone = html_stripper(contacts.find(\"div\", attrs={\"class\":\"info-line phone\"}))\n",
    "    email = html_stripper(contacts.find(\"div\", attrs={\"class\":\"info-line email\"}))\n",
    "    website = html_stripper(contacts.find(\"div\", attrs={\"class\":\"info-line web\"}))\n",
    "    return {'longtitude':float(longtitude),\n",
    "            \"latitude\":float(latitude), \n",
    "            'address':address, \n",
    "            'telephone':telephone, \n",
    "            'email':email, \n",
    "            'website':website}"
   ]
  },
  {
   "cell_type": "code",
   "execution_count": 58,
   "metadata": {
    "collapsed": false
   },
   "outputs": [
    {
     "data": {
      "text/plain": [
       "{'address': '119285, Москва, ул. Пырьева, д. 9, корп. 2',\n",
       " 'email': 'fond@fondpodsolnuh.ru',\n",
       " 'latitude': 55.72709,\n",
       " 'longtitude': 37.524201,\n",
       " 'telephone': '8(495)767-73-38',\n",
       " 'website': 'http://www.fondpodsolnuh.ru/'}"
      ]
     },
     "execution_count": 58,
     "metadata": {},
     "output_type": "execute_result"
    }
   ],
   "source": [
    "getContacts(page)"
   ]
  },
  {
   "cell_type": "markdown",
   "metadata": {},
   "source": [
    "## Итак, все поля собраны, осталось пройтись по всем страницам поиска, чтобы собрать полный список ссылок и затем перейти на каждую из них"
   ]
  },
  {
   "cell_type": "code",
   "execution_count": 59,
   "metadata": {
    "collapsed": true
   },
   "outputs": [],
   "source": [
    "def getAllUrls(last_page=50):\n",
    "    nko_urls = set()\n",
    "    \n",
    "    for i in range(1,last_page):\n",
    "        urls = getUrls(i)\n",
    "        time.sleep(0.3)\n",
    "        if len(urls)!=0:\n",
    "            nko_urls.update(urls)\n",
    "        else:\n",
    "            break\n",
    "    nko_urls = list(nko_urls)\n",
    "    return nko_urls"
   ]
  },
  {
   "cell_type": "code",
   "execution_count": 60,
   "metadata": {
    "collapsed": false
   },
   "outputs": [
    {
     "ename": "KeyboardInterrupt",
     "evalue": "",
     "output_type": "error",
     "traceback": [
      "\u001b[0;31m---------------------------------------------------------------------------\u001b[0m",
      "\u001b[0;31mKeyboardInterrupt\u001b[0m                         Traceback (most recent call last)",
      "\u001b[0;32m<ipython-input-60-3a7acc430099>\u001b[0m in \u001b[0;36m<module>\u001b[0;34m()\u001b[0m\n\u001b[0;32m----> 1\u001b[0;31m \u001b[0mnko_urls\u001b[0m \u001b[0;34m=\u001b[0m \u001b[0mgetAllUrls\u001b[0m\u001b[0;34m(\u001b[0m\u001b[0;34m)\u001b[0m\u001b[0;34m\u001b[0m\u001b[0m\n\u001b[0m",
      "\u001b[0;32m<ipython-input-59-3ea8c9fe9b03>\u001b[0m in \u001b[0;36mgetAllUrls\u001b[0;34m(last_page)\u001b[0m\n\u001b[1;32m      3\u001b[0m \u001b[0;34m\u001b[0m\u001b[0m\n\u001b[1;32m      4\u001b[0m     \u001b[0;32mfor\u001b[0m \u001b[0mi\u001b[0m \u001b[0;32min\u001b[0m \u001b[0mrange\u001b[0m\u001b[0;34m(\u001b[0m\u001b[0;36m1\u001b[0m\u001b[0;34m,\u001b[0m\u001b[0mlast_page\u001b[0m\u001b[0;34m)\u001b[0m\u001b[0;34m:\u001b[0m\u001b[0;34m\u001b[0m\u001b[0m\n\u001b[0;32m----> 5\u001b[0;31m         \u001b[0murls\u001b[0m \u001b[0;34m=\u001b[0m \u001b[0mgetUrls\u001b[0m\u001b[0;34m(\u001b[0m\u001b[0mi\u001b[0m\u001b[0;34m)\u001b[0m\u001b[0;34m\u001b[0m\u001b[0m\n\u001b[0m\u001b[1;32m      6\u001b[0m         \u001b[0mtime\u001b[0m\u001b[0;34m.\u001b[0m\u001b[0msleep\u001b[0m\u001b[0;34m(\u001b[0m\u001b[0;36m0.3\u001b[0m\u001b[0;34m)\u001b[0m\u001b[0;34m\u001b[0m\u001b[0m\n\u001b[1;32m      7\u001b[0m         \u001b[0;32mif\u001b[0m \u001b[0mlen\u001b[0m\u001b[0;34m(\u001b[0m\u001b[0murls\u001b[0m\u001b[0;34m)\u001b[0m\u001b[0;34m!=\u001b[0m\u001b[0;36m0\u001b[0m\u001b[0;34m:\u001b[0m\u001b[0;34m\u001b[0m\u001b[0m\n",
      "\u001b[0;32m<ipython-input-40-b6316f9ead4b>\u001b[0m in \u001b[0;36mgetUrls\u001b[0;34m(page)\u001b[0m\n\u001b[1;32m      1\u001b[0m \u001b[0;32mdef\u001b[0m \u001b[0mgetUrls\u001b[0m\u001b[0;34m(\u001b[0m\u001b[0mpage\u001b[0m\u001b[0;34m)\u001b[0m\u001b[0;34m:\u001b[0m\u001b[0;34m\u001b[0m\u001b[0m\n\u001b[1;32m      2\u001b[0m     \u001b[0mreq\u001b[0m \u001b[0;34m=\u001b[0m \u001b[0mRequest\u001b[0m\u001b[0;34m(\u001b[0m\u001b[0mmain_url\u001b[0m\u001b[0;34m.\u001b[0m\u001b[0mformat\u001b[0m\u001b[0;34m(\u001b[0m\u001b[0mpage\u001b[0m\u001b[0;34m)\u001b[0m\u001b[0;34m,\u001b[0m \u001b[0mheaders\u001b[0m\u001b[0;34m=\u001b[0m\u001b[0;34m{\u001b[0m\u001b[0;34m'User-Agent'\u001b[0m\u001b[0;34m:\u001b[0m \u001b[0mgenerate_user_agent\u001b[0m\u001b[0;34m(\u001b[0m\u001b[0;34m)\u001b[0m\u001b[0;34m}\u001b[0m\u001b[0;34m)\u001b[0m\u001b[0;34m\u001b[0m\u001b[0m\n\u001b[0;32m----> 3\u001b[0;31m     \u001b[0mwebpage\u001b[0m \u001b[0;34m=\u001b[0m \u001b[0murlopen\u001b[0m\u001b[0;34m(\u001b[0m\u001b[0mreq\u001b[0m\u001b[0;34m)\u001b[0m\u001b[0;34m.\u001b[0m\u001b[0mread\u001b[0m\u001b[0;34m(\u001b[0m\u001b[0;34m)\u001b[0m\u001b[0;34m\u001b[0m\u001b[0m\n\u001b[0m\u001b[1;32m      4\u001b[0m     \u001b[0msoup\u001b[0m \u001b[0;34m=\u001b[0m \u001b[0mBeautifulSoup\u001b[0m\u001b[0;34m(\u001b[0m\u001b[0mwebpage\u001b[0m\u001b[0;34m,\u001b[0m \u001b[0;34m\"lxml\"\u001b[0m\u001b[0;34m)\u001b[0m\u001b[0;34m\u001b[0m\u001b[0m\n\u001b[1;32m      5\u001b[0m     \u001b[0murls_block\u001b[0m \u001b[0;34m=\u001b[0m \u001b[0msoup\u001b[0m\u001b[0;34m.\u001b[0m\u001b[0mfind\u001b[0m\u001b[0;34m(\u001b[0m\u001b[0;34m'div'\u001b[0m\u001b[0;34m,\u001b[0m \u001b[0mattrs\u001b[0m\u001b[0;34m=\u001b[0m\u001b[0;34m{\u001b[0m\u001b[0;34m'class'\u001b[0m\u001b[0;34m:\u001b[0m\u001b[0;34m'js-lazy-loader b-foundations-list'\u001b[0m\u001b[0;34m}\u001b[0m\u001b[0;34m)\u001b[0m\u001b[0;34m.\u001b[0m\u001b[0mfindAll\u001b[0m\u001b[0;34m(\u001b[0m\u001b[0;34m'a'\u001b[0m\u001b[0;34m,\u001b[0m \u001b[0mattrs\u001b[0m\u001b[0;34m=\u001b[0m\u001b[0;34m{\u001b[0m\u001b[0;34m'class'\u001b[0m\u001b[0;34m:\u001b[0m\u001b[0;34m'link'\u001b[0m\u001b[0;34m}\u001b[0m\u001b[0;34m)\u001b[0m\u001b[0;34m\u001b[0m\u001b[0m\n",
      "\u001b[0;32m/Users/dmitrys/anaconda2/envs/py3k/lib/python3.6/urllib/request.py\u001b[0m in \u001b[0;36murlopen\u001b[0;34m(url, data, timeout, cafile, capath, cadefault, context)\u001b[0m\n\u001b[1;32m    221\u001b[0m     \u001b[0;32melse\u001b[0m\u001b[0;34m:\u001b[0m\u001b[0;34m\u001b[0m\u001b[0m\n\u001b[1;32m    222\u001b[0m         \u001b[0mopener\u001b[0m \u001b[0;34m=\u001b[0m \u001b[0m_opener\u001b[0m\u001b[0;34m\u001b[0m\u001b[0m\n\u001b[0;32m--> 223\u001b[0;31m     \u001b[0;32mreturn\u001b[0m \u001b[0mopener\u001b[0m\u001b[0;34m.\u001b[0m\u001b[0mopen\u001b[0m\u001b[0;34m(\u001b[0m\u001b[0murl\u001b[0m\u001b[0;34m,\u001b[0m \u001b[0mdata\u001b[0m\u001b[0;34m,\u001b[0m \u001b[0mtimeout\u001b[0m\u001b[0;34m)\u001b[0m\u001b[0;34m\u001b[0m\u001b[0m\n\u001b[0m\u001b[1;32m    224\u001b[0m \u001b[0;34m\u001b[0m\u001b[0m\n\u001b[1;32m    225\u001b[0m \u001b[0;32mdef\u001b[0m \u001b[0minstall_opener\u001b[0m\u001b[0;34m(\u001b[0m\u001b[0mopener\u001b[0m\u001b[0;34m)\u001b[0m\u001b[0;34m:\u001b[0m\u001b[0;34m\u001b[0m\u001b[0m\n",
      "\u001b[0;32m/Users/dmitrys/anaconda2/envs/py3k/lib/python3.6/urllib/request.py\u001b[0m in \u001b[0;36mopen\u001b[0;34m(self, fullurl, data, timeout)\u001b[0m\n\u001b[1;32m    524\u001b[0m             \u001b[0mreq\u001b[0m \u001b[0;34m=\u001b[0m \u001b[0mmeth\u001b[0m\u001b[0;34m(\u001b[0m\u001b[0mreq\u001b[0m\u001b[0;34m)\u001b[0m\u001b[0;34m\u001b[0m\u001b[0m\n\u001b[1;32m    525\u001b[0m \u001b[0;34m\u001b[0m\u001b[0m\n\u001b[0;32m--> 526\u001b[0;31m         \u001b[0mresponse\u001b[0m \u001b[0;34m=\u001b[0m \u001b[0mself\u001b[0m\u001b[0;34m.\u001b[0m\u001b[0m_open\u001b[0m\u001b[0;34m(\u001b[0m\u001b[0mreq\u001b[0m\u001b[0;34m,\u001b[0m \u001b[0mdata\u001b[0m\u001b[0;34m)\u001b[0m\u001b[0;34m\u001b[0m\u001b[0m\n\u001b[0m\u001b[1;32m    527\u001b[0m \u001b[0;34m\u001b[0m\u001b[0m\n\u001b[1;32m    528\u001b[0m         \u001b[0;31m# post-process response\u001b[0m\u001b[0;34m\u001b[0m\u001b[0;34m\u001b[0m\u001b[0m\n",
      "\u001b[0;32m/Users/dmitrys/anaconda2/envs/py3k/lib/python3.6/urllib/request.py\u001b[0m in \u001b[0;36m_open\u001b[0;34m(self, req, data)\u001b[0m\n\u001b[1;32m    542\u001b[0m         \u001b[0mprotocol\u001b[0m \u001b[0;34m=\u001b[0m \u001b[0mreq\u001b[0m\u001b[0;34m.\u001b[0m\u001b[0mtype\u001b[0m\u001b[0;34m\u001b[0m\u001b[0m\n\u001b[1;32m    543\u001b[0m         result = self._call_chain(self.handle_open, protocol, protocol +\n\u001b[0;32m--> 544\u001b[0;31m                                   '_open', req)\n\u001b[0m\u001b[1;32m    545\u001b[0m         \u001b[0;32mif\u001b[0m \u001b[0mresult\u001b[0m\u001b[0;34m:\u001b[0m\u001b[0;34m\u001b[0m\u001b[0m\n\u001b[1;32m    546\u001b[0m             \u001b[0;32mreturn\u001b[0m \u001b[0mresult\u001b[0m\u001b[0;34m\u001b[0m\u001b[0m\n",
      "\u001b[0;32m/Users/dmitrys/anaconda2/envs/py3k/lib/python3.6/urllib/request.py\u001b[0m in \u001b[0;36m_call_chain\u001b[0;34m(self, chain, kind, meth_name, *args)\u001b[0m\n\u001b[1;32m    502\u001b[0m         \u001b[0;32mfor\u001b[0m \u001b[0mhandler\u001b[0m \u001b[0;32min\u001b[0m \u001b[0mhandlers\u001b[0m\u001b[0;34m:\u001b[0m\u001b[0;34m\u001b[0m\u001b[0m\n\u001b[1;32m    503\u001b[0m             \u001b[0mfunc\u001b[0m \u001b[0;34m=\u001b[0m \u001b[0mgetattr\u001b[0m\u001b[0;34m(\u001b[0m\u001b[0mhandler\u001b[0m\u001b[0;34m,\u001b[0m \u001b[0mmeth_name\u001b[0m\u001b[0;34m)\u001b[0m\u001b[0;34m\u001b[0m\u001b[0m\n\u001b[0;32m--> 504\u001b[0;31m             \u001b[0mresult\u001b[0m \u001b[0;34m=\u001b[0m \u001b[0mfunc\u001b[0m\u001b[0;34m(\u001b[0m\u001b[0;34m*\u001b[0m\u001b[0margs\u001b[0m\u001b[0;34m)\u001b[0m\u001b[0;34m\u001b[0m\u001b[0m\n\u001b[0m\u001b[1;32m    505\u001b[0m             \u001b[0;32mif\u001b[0m \u001b[0mresult\u001b[0m \u001b[0;32mis\u001b[0m \u001b[0;32mnot\u001b[0m \u001b[0;32mNone\u001b[0m\u001b[0;34m:\u001b[0m\u001b[0;34m\u001b[0m\u001b[0m\n\u001b[1;32m    506\u001b[0m                 \u001b[0;32mreturn\u001b[0m \u001b[0mresult\u001b[0m\u001b[0;34m\u001b[0m\u001b[0m\n",
      "\u001b[0;32m/Users/dmitrys/anaconda2/envs/py3k/lib/python3.6/urllib/request.py\u001b[0m in \u001b[0;36mhttp_open\u001b[0;34m(self, req)\u001b[0m\n\u001b[1;32m   1344\u001b[0m \u001b[0;34m\u001b[0m\u001b[0m\n\u001b[1;32m   1345\u001b[0m     \u001b[0;32mdef\u001b[0m \u001b[0mhttp_open\u001b[0m\u001b[0;34m(\u001b[0m\u001b[0mself\u001b[0m\u001b[0;34m,\u001b[0m \u001b[0mreq\u001b[0m\u001b[0;34m)\u001b[0m\u001b[0;34m:\u001b[0m\u001b[0;34m\u001b[0m\u001b[0m\n\u001b[0;32m-> 1346\u001b[0;31m         \u001b[0;32mreturn\u001b[0m \u001b[0mself\u001b[0m\u001b[0;34m.\u001b[0m\u001b[0mdo_open\u001b[0m\u001b[0;34m(\u001b[0m\u001b[0mhttp\u001b[0m\u001b[0;34m.\u001b[0m\u001b[0mclient\u001b[0m\u001b[0;34m.\u001b[0m\u001b[0mHTTPConnection\u001b[0m\u001b[0;34m,\u001b[0m \u001b[0mreq\u001b[0m\u001b[0;34m)\u001b[0m\u001b[0;34m\u001b[0m\u001b[0m\n\u001b[0m\u001b[1;32m   1347\u001b[0m \u001b[0;34m\u001b[0m\u001b[0m\n\u001b[1;32m   1348\u001b[0m     \u001b[0mhttp_request\u001b[0m \u001b[0;34m=\u001b[0m \u001b[0mAbstractHTTPHandler\u001b[0m\u001b[0;34m.\u001b[0m\u001b[0mdo_request_\u001b[0m\u001b[0;34m\u001b[0m\u001b[0m\n",
      "\u001b[0;32m/Users/dmitrys/anaconda2/envs/py3k/lib/python3.6/urllib/request.py\u001b[0m in \u001b[0;36mdo_open\u001b[0;34m(self, http_class, req, **http_conn_args)\u001b[0m\n\u001b[1;32m   1319\u001b[0m             \u001b[0;32mexcept\u001b[0m \u001b[0mOSError\u001b[0m \u001b[0;32mas\u001b[0m \u001b[0merr\u001b[0m\u001b[0;34m:\u001b[0m \u001b[0;31m# timeout error\u001b[0m\u001b[0;34m\u001b[0m\u001b[0m\n\u001b[1;32m   1320\u001b[0m                 \u001b[0;32mraise\u001b[0m \u001b[0mURLError\u001b[0m\u001b[0;34m(\u001b[0m\u001b[0merr\u001b[0m\u001b[0;34m)\u001b[0m\u001b[0;34m\u001b[0m\u001b[0m\n\u001b[0;32m-> 1321\u001b[0;31m             \u001b[0mr\u001b[0m \u001b[0;34m=\u001b[0m \u001b[0mh\u001b[0m\u001b[0;34m.\u001b[0m\u001b[0mgetresponse\u001b[0m\u001b[0;34m(\u001b[0m\u001b[0;34m)\u001b[0m\u001b[0;34m\u001b[0m\u001b[0m\n\u001b[0m\u001b[1;32m   1322\u001b[0m         \u001b[0;32mexcept\u001b[0m\u001b[0;34m:\u001b[0m\u001b[0;34m\u001b[0m\u001b[0m\n\u001b[1;32m   1323\u001b[0m             \u001b[0mh\u001b[0m\u001b[0;34m.\u001b[0m\u001b[0mclose\u001b[0m\u001b[0;34m(\u001b[0m\u001b[0;34m)\u001b[0m\u001b[0;34m\u001b[0m\u001b[0m\n",
      "\u001b[0;32m/Users/dmitrys/anaconda2/envs/py3k/lib/python3.6/http/client.py\u001b[0m in \u001b[0;36mgetresponse\u001b[0;34m(self)\u001b[0m\n\u001b[1;32m   1329\u001b[0m         \u001b[0;32mtry\u001b[0m\u001b[0;34m:\u001b[0m\u001b[0;34m\u001b[0m\u001b[0m\n\u001b[1;32m   1330\u001b[0m             \u001b[0;32mtry\u001b[0m\u001b[0;34m:\u001b[0m\u001b[0;34m\u001b[0m\u001b[0m\n\u001b[0;32m-> 1331\u001b[0;31m                 \u001b[0mresponse\u001b[0m\u001b[0;34m.\u001b[0m\u001b[0mbegin\u001b[0m\u001b[0;34m(\u001b[0m\u001b[0;34m)\u001b[0m\u001b[0;34m\u001b[0m\u001b[0m\n\u001b[0m\u001b[1;32m   1332\u001b[0m             \u001b[0;32mexcept\u001b[0m \u001b[0mConnectionError\u001b[0m\u001b[0;34m:\u001b[0m\u001b[0;34m\u001b[0m\u001b[0m\n\u001b[1;32m   1333\u001b[0m                 \u001b[0mself\u001b[0m\u001b[0;34m.\u001b[0m\u001b[0mclose\u001b[0m\u001b[0;34m(\u001b[0m\u001b[0;34m)\u001b[0m\u001b[0;34m\u001b[0m\u001b[0m\n",
      "\u001b[0;32m/Users/dmitrys/anaconda2/envs/py3k/lib/python3.6/http/client.py\u001b[0m in \u001b[0;36mbegin\u001b[0;34m(self)\u001b[0m\n\u001b[1;32m    295\u001b[0m         \u001b[0;31m# read until we get a non-100 response\u001b[0m\u001b[0;34m\u001b[0m\u001b[0;34m\u001b[0m\u001b[0m\n\u001b[1;32m    296\u001b[0m         \u001b[0;32mwhile\u001b[0m \u001b[0;32mTrue\u001b[0m\u001b[0;34m:\u001b[0m\u001b[0;34m\u001b[0m\u001b[0m\n\u001b[0;32m--> 297\u001b[0;31m             \u001b[0mversion\u001b[0m\u001b[0;34m,\u001b[0m \u001b[0mstatus\u001b[0m\u001b[0;34m,\u001b[0m \u001b[0mreason\u001b[0m \u001b[0;34m=\u001b[0m \u001b[0mself\u001b[0m\u001b[0;34m.\u001b[0m\u001b[0m_read_status\u001b[0m\u001b[0;34m(\u001b[0m\u001b[0;34m)\u001b[0m\u001b[0;34m\u001b[0m\u001b[0m\n\u001b[0m\u001b[1;32m    298\u001b[0m             \u001b[0;32mif\u001b[0m \u001b[0mstatus\u001b[0m \u001b[0;34m!=\u001b[0m \u001b[0mCONTINUE\u001b[0m\u001b[0;34m:\u001b[0m\u001b[0;34m\u001b[0m\u001b[0m\n\u001b[1;32m    299\u001b[0m                 \u001b[0;32mbreak\u001b[0m\u001b[0;34m\u001b[0m\u001b[0m\n",
      "\u001b[0;32m/Users/dmitrys/anaconda2/envs/py3k/lib/python3.6/http/client.py\u001b[0m in \u001b[0;36m_read_status\u001b[0;34m(self)\u001b[0m\n\u001b[1;32m    256\u001b[0m \u001b[0;34m\u001b[0m\u001b[0m\n\u001b[1;32m    257\u001b[0m     \u001b[0;32mdef\u001b[0m \u001b[0m_read_status\u001b[0m\u001b[0;34m(\u001b[0m\u001b[0mself\u001b[0m\u001b[0;34m)\u001b[0m\u001b[0;34m:\u001b[0m\u001b[0;34m\u001b[0m\u001b[0m\n\u001b[0;32m--> 258\u001b[0;31m         \u001b[0mline\u001b[0m \u001b[0;34m=\u001b[0m \u001b[0mstr\u001b[0m\u001b[0;34m(\u001b[0m\u001b[0mself\u001b[0m\u001b[0;34m.\u001b[0m\u001b[0mfp\u001b[0m\u001b[0;34m.\u001b[0m\u001b[0mreadline\u001b[0m\u001b[0;34m(\u001b[0m\u001b[0m_MAXLINE\u001b[0m \u001b[0;34m+\u001b[0m \u001b[0;36m1\u001b[0m\u001b[0;34m)\u001b[0m\u001b[0;34m,\u001b[0m \u001b[0;34m\"iso-8859-1\"\u001b[0m\u001b[0;34m)\u001b[0m\u001b[0;34m\u001b[0m\u001b[0m\n\u001b[0m\u001b[1;32m    259\u001b[0m         \u001b[0;32mif\u001b[0m \u001b[0mlen\u001b[0m\u001b[0;34m(\u001b[0m\u001b[0mline\u001b[0m\u001b[0;34m)\u001b[0m \u001b[0;34m>\u001b[0m \u001b[0m_MAXLINE\u001b[0m\u001b[0;34m:\u001b[0m\u001b[0;34m\u001b[0m\u001b[0m\n\u001b[1;32m    260\u001b[0m             \u001b[0;32mraise\u001b[0m \u001b[0mLineTooLong\u001b[0m\u001b[0;34m(\u001b[0m\u001b[0;34m\"status line\"\u001b[0m\u001b[0;34m)\u001b[0m\u001b[0;34m\u001b[0m\u001b[0m\n",
      "\u001b[0;32m/Users/dmitrys/anaconda2/envs/py3k/lib/python3.6/socket.py\u001b[0m in \u001b[0;36mreadinto\u001b[0;34m(self, b)\u001b[0m\n\u001b[1;32m    584\u001b[0m         \u001b[0;32mwhile\u001b[0m \u001b[0;32mTrue\u001b[0m\u001b[0;34m:\u001b[0m\u001b[0;34m\u001b[0m\u001b[0m\n\u001b[1;32m    585\u001b[0m             \u001b[0;32mtry\u001b[0m\u001b[0;34m:\u001b[0m\u001b[0;34m\u001b[0m\u001b[0m\n\u001b[0;32m--> 586\u001b[0;31m                 \u001b[0;32mreturn\u001b[0m \u001b[0mself\u001b[0m\u001b[0;34m.\u001b[0m\u001b[0m_sock\u001b[0m\u001b[0;34m.\u001b[0m\u001b[0mrecv_into\u001b[0m\u001b[0;34m(\u001b[0m\u001b[0mb\u001b[0m\u001b[0;34m)\u001b[0m\u001b[0;34m\u001b[0m\u001b[0m\n\u001b[0m\u001b[1;32m    587\u001b[0m             \u001b[0;32mexcept\u001b[0m \u001b[0mtimeout\u001b[0m\u001b[0;34m:\u001b[0m\u001b[0;34m\u001b[0m\u001b[0m\n\u001b[1;32m    588\u001b[0m                 \u001b[0mself\u001b[0m\u001b[0;34m.\u001b[0m\u001b[0m_timeout_occurred\u001b[0m \u001b[0;34m=\u001b[0m \u001b[0;32mTrue\u001b[0m\u001b[0;34m\u001b[0m\u001b[0m\n",
      "\u001b[0;31mKeyboardInterrupt\u001b[0m: "
     ]
    }
   ],
   "source": [
    "nko_urls = getAllUrls()"
   ]
  },
  {
   "cell_type": "code",
   "execution_count": null,
   "metadata": {
    "collapsed": false
   },
   "outputs": [],
   "source": [
    "nko_urls[0:10]"
   ]
  },
  {
   "cell_type": "code",
   "execution_count": null,
   "metadata": {
    "collapsed": false
   },
   "outputs": [],
   "source": [
    "len(nko_urls)"
   ]
  },
  {
   "cell_type": "markdown",
   "metadata": {},
   "source": [
    "Итого получили 511 ссылок на огранизации. Создадим датафрейм со всеми необходимыми полями"
   ]
  },
  {
   "cell_type": "code",
   "execution_count": null,
   "metadata": {
    "collapsed": true
   },
   "outputs": [],
   "source": [
    "FINAL = pd.DataFrame(columns=[\"name\",\n",
    "                             \"address\",\n",
    "                             \"longtitude\",\n",
    "                             \"latitude\",\n",
    "                             \"telephone\",\n",
    "                             \"email\",\n",
    "                             \"website\",\n",
    "                             \"problems_solving\", \n",
    "                             \"audience\", \n",
    "                             \"description\"])"
   ]
  },
  {
   "cell_type": "code",
   "execution_count": null,
   "metadata": {
    "collapsed": true
   },
   "outputs": [],
   "source": [
    "for number in nko_urls:\n",
    "    time.sleep(0.3)            # ограничим число запросов 3 в секунду, чтобы не нагружать сайт\n",
    "    page = getPage(number)     # выгружаем все данные со странички\n",
    "    FINAL = FINAL.append({**getContacts(page), **getInformation(page)}, ignore_index=True)\n",
    "    \n",
    "FINAL.to_csv(\"/Users/dmitrys/Desktop/DataProjects/OpenDataNKO/FINAL.csv\")"
   ]
  },
  {
   "cell_type": "markdown",
   "metadata": {},
   "source": [
    "# А теперь посмотрим, что выгрузилось :)"
   ]
  },
  {
   "cell_type": "code",
   "execution_count": 61,
   "metadata": {
    "collapsed": false
   },
   "outputs": [],
   "source": [
    "import matplotlib.pyplot as plt\n",
    "%matplotlib inline\n",
    "plt.style.use(\"ggplot\")\n",
    "import pandas as pd"
   ]
  },
  {
   "cell_type": "code",
   "execution_count": 62,
   "metadata": {
    "collapsed": false
   },
   "outputs": [],
   "source": [
    "data = pd.read_csv(\"FINAL.csv\")"
   ]
  },
  {
   "cell_type": "code",
   "execution_count": 63,
   "metadata": {
    "collapsed": false
   },
   "outputs": [
    {
     "data": {
      "text/plain": [
       "(511, 11)"
      ]
     },
     "execution_count": 63,
     "metadata": {},
     "output_type": "execute_result"
    }
   ],
   "source": [
    "data.shape"
   ]
  },
  {
   "cell_type": "code",
   "execution_count": 64,
   "metadata": {
    "collapsed": false
   },
   "outputs": [
    {
     "data": {
      "text/html": [
       "<div>\n",
       "<table border=\"1\" class=\"dataframe\">\n",
       "  <thead>\n",
       "    <tr style=\"text-align: right;\">\n",
       "      <th></th>\n",
       "      <th>Unnamed: 0</th>\n",
       "      <th>name</th>\n",
       "      <th>address</th>\n",
       "      <th>longtitude</th>\n",
       "      <th>latitude</th>\n",
       "      <th>telephone</th>\n",
       "      <th>email</th>\n",
       "      <th>website</th>\n",
       "      <th>problems_solving</th>\n",
       "      <th>audience</th>\n",
       "      <th>description</th>\n",
       "    </tr>\n",
       "  </thead>\n",
       "  <tbody>\n",
       "    <tr>\n",
       "      <th>0</th>\n",
       "      <td>0</td>\n",
       "      <td>Благотворительный фонд \"Фонд продовольствия \"Р...</td>\n",
       "      <td>127006, г. Москва, Старопименовский переулок, ...</td>\n",
       "      <td>37.604717</td>\n",
       "      <td>55.770097</td>\n",
       "      <td>8(495)212-14-92</td>\n",
       "      <td>info@foodbankrus.ru</td>\n",
       "      <td>http://foodbankrus.ru/</td>\n",
       "      <td>['Социальная помощь', 'Помощь в тяжелой жизнен...</td>\n",
       "      <td>['Ребенок (0-11 лет)', 'Подросток (12-17 лет)'...</td>\n",
       "      <td>\\nОписание благотворительной организации\\n«Фон...</td>\n",
       "    </tr>\n",
       "    <tr>\n",
       "      <th>1</th>\n",
       "      <td>1</td>\n",
       "      <td>Благотворительный фонд \"Помоги делом\"</td>\n",
       "      <td>185035, Республика Карелия, Петрозаводск, ул. ...</td>\n",
       "      <td>34.374448</td>\n",
       "      <td>61.789228</td>\n",
       "      <td>8(906)208-80-80</td>\n",
       "      <td>fond@pomogi-delom.ru</td>\n",
       "      <td>http://pomogi-delom.ru/</td>\n",
       "      <td>['Неврологические и психоневрологические забол...</td>\n",
       "      <td>['Ребенок (0-11 лет)', 'Подросток (12-17 лет)'...</td>\n",
       "      <td>\\nОписание благотворительной организации\\n28 д...</td>\n",
       "    </tr>\n",
       "  </tbody>\n",
       "</table>\n",
       "</div>"
      ],
      "text/plain": [
       "   Unnamed: 0                                               name  \\\n",
       "0           0  Благотворительный фонд \"Фонд продовольствия \"Р...   \n",
       "1           1              Благотворительный фонд \"Помоги делом\"   \n",
       "\n",
       "                                             address  longtitude   latitude  \\\n",
       "0  127006, г. Москва, Старопименовский переулок, ...   37.604717  55.770097   \n",
       "1  185035, Республика Карелия, Петрозаводск, ул. ...   34.374448  61.789228   \n",
       "\n",
       "         telephone                 email                  website  \\\n",
       "0  8(495)212-14-92   info@foodbankrus.ru   http://foodbankrus.ru/   \n",
       "1  8(906)208-80-80  fond@pomogi-delom.ru  http://pomogi-delom.ru/   \n",
       "\n",
       "                                    problems_solving  \\\n",
       "0  ['Социальная помощь', 'Помощь в тяжелой жизнен...   \n",
       "1  ['Неврологические и психоневрологические забол...   \n",
       "\n",
       "                                            audience  \\\n",
       "0  ['Ребенок (0-11 лет)', 'Подросток (12-17 лет)'...   \n",
       "1  ['Ребенок (0-11 лет)', 'Подросток (12-17 лет)'...   \n",
       "\n",
       "                                         description  \n",
       "0  \\nОписание благотворительной организации\\n«Фон...  \n",
       "1  \\nОписание благотворительной организации\\n28 д...  "
      ]
     },
     "execution_count": 64,
     "metadata": {},
     "output_type": "execute_result"
    }
   ],
   "source": [
    "data.head(2)"
   ]
  },
  {
   "cell_type": "code",
   "execution_count": 65,
   "metadata": {
    "collapsed": false
   },
   "outputs": [],
   "source": [
    "data.drop([\"Unnamed: 0\"], axis=1, inplace=True)"
   ]
  },
  {
   "cell_type": "code",
   "execution_count": 66,
   "metadata": {
    "collapsed": false
   },
   "outputs": [
    {
     "data": {
      "text/html": [
       "<div>\n",
       "<table border=\"1\" class=\"dataframe\">\n",
       "  <thead>\n",
       "    <tr style=\"text-align: right;\">\n",
       "      <th></th>\n",
       "      <th>name</th>\n",
       "      <th>address</th>\n",
       "      <th>longtitude</th>\n",
       "      <th>latitude</th>\n",
       "      <th>telephone</th>\n",
       "      <th>email</th>\n",
       "      <th>website</th>\n",
       "      <th>problems_solving</th>\n",
       "      <th>audience</th>\n",
       "      <th>description</th>\n",
       "    </tr>\n",
       "  </thead>\n",
       "  <tbody>\n",
       "    <tr>\n",
       "      <th>0</th>\n",
       "      <td>Благотворительный фонд \"Фонд продовольствия \"Р...</td>\n",
       "      <td>127006, г. Москва, Старопименовский переулок, ...</td>\n",
       "      <td>37.604717</td>\n",
       "      <td>55.770097</td>\n",
       "      <td>8(495)212-14-92</td>\n",
       "      <td>info@foodbankrus.ru</td>\n",
       "      <td>http://foodbankrus.ru/</td>\n",
       "      <td>['Социальная помощь', 'Помощь в тяжелой жизнен...</td>\n",
       "      <td>['Ребенок (0-11 лет)', 'Подросток (12-17 лет)'...</td>\n",
       "      <td>\\nОписание благотворительной организации\\n«Фон...</td>\n",
       "    </tr>\n",
       "    <tr>\n",
       "      <th>1</th>\n",
       "      <td>Благотворительный фонд \"Помоги делом\"</td>\n",
       "      <td>185035, Республика Карелия, Петрозаводск, ул. ...</td>\n",
       "      <td>34.374448</td>\n",
       "      <td>61.789228</td>\n",
       "      <td>8(906)208-80-80</td>\n",
       "      <td>fond@pomogi-delom.ru</td>\n",
       "      <td>http://pomogi-delom.ru/</td>\n",
       "      <td>['Неврологические и психоневрологические забол...</td>\n",
       "      <td>['Ребенок (0-11 лет)', 'Подросток (12-17 лет)'...</td>\n",
       "      <td>\\nОписание благотворительной организации\\n28 д...</td>\n",
       "    </tr>\n",
       "  </tbody>\n",
       "</table>\n",
       "</div>"
      ],
      "text/plain": [
       "                                                name  \\\n",
       "0  Благотворительный фонд \"Фонд продовольствия \"Р...   \n",
       "1              Благотворительный фонд \"Помоги делом\"   \n",
       "\n",
       "                                             address  longtitude   latitude  \\\n",
       "0  127006, г. Москва, Старопименовский переулок, ...   37.604717  55.770097   \n",
       "1  185035, Республика Карелия, Петрозаводск, ул. ...   34.374448  61.789228   \n",
       "\n",
       "         telephone                 email                  website  \\\n",
       "0  8(495)212-14-92   info@foodbankrus.ru   http://foodbankrus.ru/   \n",
       "1  8(906)208-80-80  fond@pomogi-delom.ru  http://pomogi-delom.ru/   \n",
       "\n",
       "                                    problems_solving  \\\n",
       "0  ['Социальная помощь', 'Помощь в тяжелой жизнен...   \n",
       "1  ['Неврологические и психоневрологические забол...   \n",
       "\n",
       "                                            audience  \\\n",
       "0  ['Ребенок (0-11 лет)', 'Подросток (12-17 лет)'...   \n",
       "1  ['Ребенок (0-11 лет)', 'Подросток (12-17 лет)'...   \n",
       "\n",
       "                                         description  \n",
       "0  \\nОписание благотворительной организации\\n«Фон...  \n",
       "1  \\nОписание благотворительной организации\\n28 д...  "
      ]
     },
     "execution_count": 66,
     "metadata": {},
     "output_type": "execute_result"
    }
   ],
   "source": [
    "data.head(2)"
   ]
  },
  {
   "cell_type": "code",
   "execution_count": 67,
   "metadata": {
    "collapsed": false
   },
   "outputs": [
    {
     "data": {
      "text/plain": [
       "\"['Социальная помощь', 'Помощь в тяжелой жизненной ситуации', 'Нефинансовая/гуманитарная помощь', 'Волонтерская помощь']\""
      ]
     },
     "execution_count": 67,
     "metadata": {},
     "output_type": "execute_result"
    }
   ],
   "source": [
    "data.problems_solving.loc[0]"
   ]
  },
  {
   "cell_type": "code",
   "execution_count": 68,
   "metadata": {
    "collapsed": false
   },
   "outputs": [],
   "source": [
    "import ast\n",
    "# Преобразуем строковые колонки с листами в непосредственный тип листа\n",
    "data.problems_solving = data.problems_solving.apply(ast.literal_eval)\n",
    "data.audience = data.audience.apply(ast.literal_eval)"
   ]
  },
  {
   "cell_type": "markdown",
   "metadata": {},
   "source": [
    "## Посмотрим на решаемые проблемы"
   ]
  },
  {
   "cell_type": "code",
   "execution_count": 69,
   "metadata": {
    "collapsed": false
   },
   "outputs": [
    {
     "data": {
      "text/plain": [
       "273"
      ]
     },
     "execution_count": 69,
     "metadata": {},
     "output_type": "execute_result"
    }
   ],
   "source": [
    "data.problems_solving.apply(len).idxmax() # ищем организацию с максимальным списков решаемых проблем"
   ]
  },
  {
   "cell_type": "code",
   "execution_count": 70,
   "metadata": {
    "collapsed": false
   },
   "outputs": [
    {
     "data": {
      "text/plain": [
       "name                 Международный благотворительный фонд \"Дети мира\"\n",
       "address                  109004, Москва, Пестовский пер., д. 12, к. 1\n",
       "longtitude                                                      37.66\n",
       "latitude                                                       55.746\n",
       "telephone                                             8(495)995-03-40\n",
       "email                                               info@deti-mira.ru\n",
       "website                                      http://www.deti-mira.ru/\n",
       "problems_solving    [Психологическая помощь, Сахарный диабет, Конс...\n",
       "audience            [Ребенок (0-11 лет), Подросток (12-17 лет), Си...\n",
       "description         \\nОписание благотворительной организации\\nМежд...\n",
       "Name: 273, dtype: object"
      ]
     },
     "execution_count": 70,
     "metadata": {},
     "output_type": "execute_result"
    }
   ],
   "source": [
    "data.loc[273]"
   ]
  },
  {
   "cell_type": "code",
   "execution_count": 71,
   "metadata": {
    "collapsed": true
   },
   "outputs": [],
   "source": [
    "columns = data.problems_solving.loc[data.problems_solving.apply(len).idxmax()]"
   ]
  },
  {
   "cell_type": "code",
   "execution_count": 72,
   "metadata": {
    "collapsed": false
   },
   "outputs": [
    {
     "name": "stdout",
     "output_type": "stream",
     "text": [
      "Психологическая помощь\n",
      "Сахарный диабет\n",
      "Консалтинг в области филантропии для социально ответственного бизнеса\n",
      "Нужен донор\n",
      "Социальная помощь\n",
      "Лечение заболеваний\n",
      "Правовая поддержка\n",
      "Волонтерская помощь\n",
      "Реабилитация и адаптация\n",
      "Онкологические заболевания\n",
      "Заболевания опорно-двигательного аппарата\n",
      "Поддержка НКО\n",
      "Наследственные/генетические заболевания\n",
      "Нефинансовая/гуманитарная помощь\n",
      "Паллиативная помощь\n",
      "Неврологические и психоневрологические заболевания\n",
      "Гематологические заболевания\n",
      "Сердечно-сосудистые заболевания\n",
      "Помощь в тяжелой жизненной ситуации\n",
      "Зависимость\n",
      "Редкие (орфанные) заболевания\n",
      "Другие заболевания органов и систем (дыхания, пищеварения, слуха, зрения, мочеполовой системы, печени, кожи, инфекционные заболевания, ожоги, дефекты внешности)\n",
      "СПИД/ВИЧ/Гепатит\n"
     ]
    }
   ],
   "source": [
    "for i in columns:\n",
    "    print(i)"
   ]
  },
  {
   "cell_type": "code",
   "execution_count": 73,
   "metadata": {
    "collapsed": false
   },
   "outputs": [],
   "source": [
    "def getProblems(row):\n",
    "    # преобразовываем в несколько колонок решаемые проблемы\n",
    "    encoded = []\n",
    "    for i in columns:\n",
    "        if i in data.problems_solving.loc[row]:\n",
    "            encoded.append(True)\n",
    "        else:\n",
    "            encoded.append(False)\n",
    "    return encoded"
   ]
  },
  {
   "cell_type": "code",
   "execution_count": 74,
   "metadata": {
    "collapsed": false
   },
   "outputs": [
    {
     "data": {
      "text/plain": [
       "[False,\n",
       " False,\n",
       " False,\n",
       " False,\n",
       " True,\n",
       " False,\n",
       " False,\n",
       " True,\n",
       " False,\n",
       " False,\n",
       " False,\n",
       " False,\n",
       " False,\n",
       " True,\n",
       " False,\n",
       " False,\n",
       " False,\n",
       " False,\n",
       " True,\n",
       " False,\n",
       " False,\n",
       " False,\n",
       " False]"
      ]
     },
     "execution_count": 74,
     "metadata": {},
     "output_type": "execute_result"
    }
   ],
   "source": [
    "getProblems(0)"
   ]
  },
  {
   "cell_type": "code",
   "execution_count": 75,
   "metadata": {
    "collapsed": true
   },
   "outputs": [],
   "source": [
    "problems = data.reset_index()['index'].apply(getProblems)\n",
    "problems_data = pd.DataFrame(problems.tolist(), columns=columns)"
   ]
  },
  {
   "cell_type": "code",
   "execution_count": 77,
   "metadata": {
    "collapsed": true
   },
   "outputs": [],
   "source": [
    "# переименуем колонку, чтобы название было покороче\n",
    "problems_data.rename(columns={\"Другие заболевания органов и систем (дыхания, пищеварения, слуха, зрения, мочеполовой системы, печени, кожи, инфекционные заболевания, ожоги, дефекты внешности)\":\n",
    "                              \"Другие заболевания органов и систем\"}, inplace=True)"
   ]
  },
  {
   "cell_type": "code",
   "execution_count": 78,
   "metadata": {
    "collapsed": false
   },
   "outputs": [
    {
     "data": {
      "text/html": [
       "<div>\n",
       "<table border=\"1\" class=\"dataframe\">\n",
       "  <thead>\n",
       "    <tr style=\"text-align: right;\">\n",
       "      <th></th>\n",
       "      <th>Психологическая помощь</th>\n",
       "      <th>Сахарный диабет</th>\n",
       "      <th>Консалтинг в области филантропии для социально ответственного бизнеса</th>\n",
       "      <th>Нужен донор</th>\n",
       "      <th>Социальная помощь</th>\n",
       "      <th>Лечение заболеваний</th>\n",
       "      <th>Правовая поддержка</th>\n",
       "      <th>Волонтерская помощь</th>\n",
       "      <th>Реабилитация и адаптация</th>\n",
       "      <th>Онкологические заболевания</th>\n",
       "      <th>...</th>\n",
       "      <th>Нефинансовая/гуманитарная помощь</th>\n",
       "      <th>Паллиативная помощь</th>\n",
       "      <th>Неврологические и психоневрологические заболевания</th>\n",
       "      <th>Гематологические заболевания</th>\n",
       "      <th>Сердечно-сосудистые заболевания</th>\n",
       "      <th>Помощь в тяжелой жизненной ситуации</th>\n",
       "      <th>Зависимость</th>\n",
       "      <th>Редкие (орфанные) заболевания</th>\n",
       "      <th>Другие заболевания органов и систем</th>\n",
       "      <th>СПИД/ВИЧ/Гепатит</th>\n",
       "    </tr>\n",
       "  </thead>\n",
       "  <tbody>\n",
       "    <tr>\n",
       "      <th>0</th>\n",
       "      <td>False</td>\n",
       "      <td>False</td>\n",
       "      <td>False</td>\n",
       "      <td>False</td>\n",
       "      <td>True</td>\n",
       "      <td>False</td>\n",
       "      <td>False</td>\n",
       "      <td>True</td>\n",
       "      <td>False</td>\n",
       "      <td>False</td>\n",
       "      <td>...</td>\n",
       "      <td>True</td>\n",
       "      <td>False</td>\n",
       "      <td>False</td>\n",
       "      <td>False</td>\n",
       "      <td>False</td>\n",
       "      <td>True</td>\n",
       "      <td>False</td>\n",
       "      <td>False</td>\n",
       "      <td>False</td>\n",
       "      <td>False</td>\n",
       "    </tr>\n",
       "    <tr>\n",
       "      <th>1</th>\n",
       "      <td>False</td>\n",
       "      <td>False</td>\n",
       "      <td>False</td>\n",
       "      <td>False</td>\n",
       "      <td>True</td>\n",
       "      <td>True</td>\n",
       "      <td>False</td>\n",
       "      <td>True</td>\n",
       "      <td>False</td>\n",
       "      <td>True</td>\n",
       "      <td>...</td>\n",
       "      <td>True</td>\n",
       "      <td>False</td>\n",
       "      <td>True</td>\n",
       "      <td>False</td>\n",
       "      <td>False</td>\n",
       "      <td>True</td>\n",
       "      <td>False</td>\n",
       "      <td>False</td>\n",
       "      <td>False</td>\n",
       "      <td>False</td>\n",
       "    </tr>\n",
       "  </tbody>\n",
       "</table>\n",
       "<p>2 rows × 23 columns</p>\n",
       "</div>"
      ],
      "text/plain": [
       "  Психологическая помощь Сахарный диабет  \\\n",
       "0                  False           False   \n",
       "1                  False           False   \n",
       "\n",
       "  Консалтинг в области филантропии для социально ответственного бизнеса  \\\n",
       "0                                              False                      \n",
       "1                                              False                      \n",
       "\n",
       "  Нужен донор Социальная помощь Лечение заболеваний Правовая поддержка  \\\n",
       "0       False              True               False              False   \n",
       "1       False              True                True              False   \n",
       "\n",
       "  Волонтерская помощь Реабилитация и адаптация Онкологические заболевания  \\\n",
       "0                True                    False                      False   \n",
       "1                True                    False                       True   \n",
       "\n",
       "        ...        Нефинансовая/гуманитарная помощь Паллиативная помощь  \\\n",
       "0       ...                                    True               False   \n",
       "1       ...                                    True               False   \n",
       "\n",
       "  Неврологические и психоневрологические заболевания  \\\n",
       "0                                              False   \n",
       "1                                               True   \n",
       "\n",
       "  Гематологические заболевания Сердечно-сосудистые заболевания  \\\n",
       "0                        False                           False   \n",
       "1                        False                           False   \n",
       "\n",
       "  Помощь в тяжелой жизненной ситуации Зависимость  \\\n",
       "0                                True       False   \n",
       "1                                True       False   \n",
       "\n",
       "  Редкие (орфанные) заболевания Другие заболевания органов и систем  \\\n",
       "0                         False                               False   \n",
       "1                         False                               False   \n",
       "\n",
       "  СПИД/ВИЧ/Гепатит  \n",
       "0            False  \n",
       "1            False  \n",
       "\n",
       "[2 rows x 23 columns]"
      ]
     },
     "execution_count": 78,
     "metadata": {},
     "output_type": "execute_result"
    }
   ],
   "source": [
    "problems_data.head(2)"
   ]
  },
  {
   "cell_type": "code",
   "execution_count": 79,
   "metadata": {
    "collapsed": false
   },
   "outputs": [
    {
     "data": {
      "image/png": "[encoded data removed]",
      "text/plain": [
       "<matplotlib.figure.Figure at 0x1100d4908>"
      ]
     },
     "metadata": {},
     "output_type": "display_data"
    }
   ],
   "source": [
    "plt.figure(figsize=(10, 10))\n",
    "problems_data.sum().sort_values().plot(kind=\"barh\");\n",
    "plt.title(\"Распределение решаемых проблем\");"
   ]
  },
  {
   "cell_type": "code",
   "execution_count": 80,
   "metadata": {
    "collapsed": false
   },
   "outputs": [],
   "source": [
    "data = pd.concat([data, problems_data], axis=1)"
   ]
  },
  {
   "cell_type": "code",
   "execution_count": 81,
   "metadata": {
    "collapsed": false
   },
   "outputs": [
    {
     "data": {
      "text/html": [
       "<div>\n",
       "<table border=\"1\" class=\"dataframe\">\n",
       "  <thead>\n",
       "    <tr style=\"text-align: right;\">\n",
       "      <th></th>\n",
       "      <th>name</th>\n",
       "      <th>address</th>\n",
       "      <th>longtitude</th>\n",
       "      <th>latitude</th>\n",
       "      <th>telephone</th>\n",
       "      <th>email</th>\n",
       "      <th>website</th>\n",
       "      <th>problems_solving</th>\n",
       "      <th>audience</th>\n",
       "      <th>description</th>\n",
       "      <th>...</th>\n",
       "      <th>Нефинансовая/гуманитарная помощь</th>\n",
       "      <th>Паллиативная помощь</th>\n",
       "      <th>Неврологические и психоневрологические заболевания</th>\n",
       "      <th>Гематологические заболевания</th>\n",
       "      <th>Сердечно-сосудистые заболевания</th>\n",
       "      <th>Помощь в тяжелой жизненной ситуации</th>\n",
       "      <th>Зависимость</th>\n",
       "      <th>Редкие (орфанные) заболевания</th>\n",
       "      <th>Другие заболевания органов и систем</th>\n",
       "      <th>СПИД/ВИЧ/Гепатит</th>\n",
       "    </tr>\n",
       "  </thead>\n",
       "  <tbody>\n",
       "    <tr>\n",
       "      <th>0</th>\n",
       "      <td>Благотворительный фонд \"Фонд продовольствия \"Р...</td>\n",
       "      <td>127006, г. Москва, Старопименовский переулок, ...</td>\n",
       "      <td>37.604717</td>\n",
       "      <td>55.770097</td>\n",
       "      <td>8(495)212-14-92</td>\n",
       "      <td>info@foodbankrus.ru</td>\n",
       "      <td>http://foodbankrus.ru/</td>\n",
       "      <td>[Социальная помощь, Помощь в тяжелой жизненной...</td>\n",
       "      <td>[Ребенок (0-11 лет), Подросток (12-17 лет), Вз...</td>\n",
       "      <td>\\nОписание благотворительной организации\\n«Фон...</td>\n",
       "      <td>...</td>\n",
       "      <td>True</td>\n",
       "      <td>False</td>\n",
       "      <td>False</td>\n",
       "      <td>False</td>\n",
       "      <td>False</td>\n",
       "      <td>True</td>\n",
       "      <td>False</td>\n",
       "      <td>False</td>\n",
       "      <td>False</td>\n",
       "      <td>False</td>\n",
       "    </tr>\n",
       "    <tr>\n",
       "      <th>1</th>\n",
       "      <td>Благотворительный фонд \"Помоги делом\"</td>\n",
       "      <td>185035, Республика Карелия, Петрозаводск, ул. ...</td>\n",
       "      <td>34.374448</td>\n",
       "      <td>61.789228</td>\n",
       "      <td>8(906)208-80-80</td>\n",
       "      <td>fond@pomogi-delom.ru</td>\n",
       "      <td>http://pomogi-delom.ru/</td>\n",
       "      <td>[Неврологические и психоневрологические заболе...</td>\n",
       "      <td>[Ребенок (0-11 лет), Подросток (12-17 лет), Вз...</td>\n",
       "      <td>\\nОписание благотворительной организации\\n28 д...</td>\n",
       "      <td>...</td>\n",
       "      <td>True</td>\n",
       "      <td>False</td>\n",
       "      <td>True</td>\n",
       "      <td>False</td>\n",
       "      <td>False</td>\n",
       "      <td>True</td>\n",
       "      <td>False</td>\n",
       "      <td>False</td>\n",
       "      <td>False</td>\n",
       "      <td>False</td>\n",
       "    </tr>\n",
       "  </tbody>\n",
       "</table>\n",
       "<p>2 rows × 33 columns</p>\n",
       "</div>"
      ],
      "text/plain": [
       "                                                name  \\\n",
       "0  Благотворительный фонд \"Фонд продовольствия \"Р...   \n",
       "1              Благотворительный фонд \"Помоги делом\"   \n",
       "\n",
       "                                             address  longtitude   latitude  \\\n",
       "0  127006, г. Москва, Старопименовский переулок, ...   37.604717  55.770097   \n",
       "1  185035, Республика Карелия, Петрозаводск, ул. ...   34.374448  61.789228   \n",
       "\n",
       "         telephone                 email                  website  \\\n",
       "0  8(495)212-14-92   info@foodbankrus.ru   http://foodbankrus.ru/   \n",
       "1  8(906)208-80-80  fond@pomogi-delom.ru  http://pomogi-delom.ru/   \n",
       "\n",
       "                                    problems_solving  \\\n",
       "0  [Социальная помощь, Помощь в тяжелой жизненной...   \n",
       "1  [Неврологические и психоневрологические заболе...   \n",
       "\n",
       "                                            audience  \\\n",
       "0  [Ребенок (0-11 лет), Подросток (12-17 лет), Вз...   \n",
       "1  [Ребенок (0-11 лет), Подросток (12-17 лет), Вз...   \n",
       "\n",
       "                                         description       ...         \\\n",
       "0  \\nОписание благотворительной организации\\n«Фон...       ...          \n",
       "1  \\nОписание благотворительной организации\\n28 д...       ...          \n",
       "\n",
       "  Нефинансовая/гуманитарная помощь Паллиативная помощь  \\\n",
       "0                             True               False   \n",
       "1                             True               False   \n",
       "\n",
       "  Неврологические и психоневрологические заболевания  \\\n",
       "0                                              False   \n",
       "1                                               True   \n",
       "\n",
       "  Гематологические заболевания Сердечно-сосудистые заболевания  \\\n",
       "0                        False                           False   \n",
       "1                        False                           False   \n",
       "\n",
       "  Помощь в тяжелой жизненной ситуации Зависимость  \\\n",
       "0                                True       False   \n",
       "1                                True       False   \n",
       "\n",
       "  Редкие (орфанные) заболевания Другие заболевания органов и систем  \\\n",
       "0                         False                               False   \n",
       "1                         False                               False   \n",
       "\n",
       "  СПИД/ВИЧ/Гепатит  \n",
       "0            False  \n",
       "1            False  \n",
       "\n",
       "[2 rows x 33 columns]"
      ]
     },
     "execution_count": 81,
     "metadata": {},
     "output_type": "execute_result"
    }
   ],
   "source": [
    "data.head(2)"
   ]
  },
  {
   "cell_type": "markdown",
   "metadata": {},
   "source": [
    "## Кому помогают"
   ]
  },
  {
   "cell_type": "code",
   "execution_count": 82,
   "metadata": {
    "collapsed": false
   },
   "outputs": [
    {
     "data": {
      "text/plain": [
       "389"
      ]
     },
     "execution_count": 82,
     "metadata": {},
     "output_type": "execute_result"
    }
   ],
   "source": [
    "data.audience.apply(len).idxmax()"
   ]
  },
  {
   "cell_type": "code",
   "execution_count": 83,
   "metadata": {
    "collapsed": true
   },
   "outputs": [],
   "source": [
    "columns = data.audience.loc[data.audience.apply(len).idxmax()]"
   ]
  },
  {
   "cell_type": "code",
   "execution_count": 84,
   "metadata": {
    "collapsed": false
   },
   "outputs": [
    {
     "data": {
      "text/plain": [
       "['Ребенок (0-11 лет)',\n",
       " 'Подросток (12-17 лет)',\n",
       " 'Взрослый (18-59 лет)',\n",
       " 'Пожилой (старше 60 лет)',\n",
       " 'Инвалид',\n",
       " 'Сирота',\n",
       " 'Беженец/мигрант',\n",
       " 'Малоимущий/безработный/многодетная семья',\n",
       " 'Бездомный',\n",
       " 'Военнослужащие/семьи погибших',\n",
       " 'Заключенный/бывший заключенный',\n",
       " 'Пострадавший от стихийных бедствий/катастроф/войн']"
      ]
     },
     "execution_count": 84,
     "metadata": {},
     "output_type": "execute_result"
    }
   ],
   "source": [
    "columns"
   ]
  },
  {
   "cell_type": "code",
   "execution_count": 85,
   "metadata": {
    "collapsed": true
   },
   "outputs": [],
   "source": [
    "def getAudience(row):\n",
    "    # преобразовываем в несколько колонок решаемые проблемы\n",
    "    encoded = []\n",
    "    for i in columns:\n",
    "        if i in data.audience.loc[row]:\n",
    "            encoded.append(True)\n",
    "        else:\n",
    "            encoded.append(False)\n",
    "    return encoded"
   ]
  },
  {
   "cell_type": "code",
   "execution_count": 86,
   "metadata": {
    "collapsed": false
   },
   "outputs": [
    {
     "data": {
      "text/plain": [
       "[True, True, True, True, True, False, True, True, True, False, False, True]"
      ]
     },
     "execution_count": 86,
     "metadata": {},
     "output_type": "execute_result"
    }
   ],
   "source": [
    "getAudience(0)"
   ]
  },
  {
   "cell_type": "code",
   "execution_count": 87,
   "metadata": {
    "collapsed": true
   },
   "outputs": [],
   "source": [
    "audience = data.reset_index()['index'].apply(getAudience)\n",
    "audience_data = pd.DataFrame(audience.tolist(), columns=columns)"
   ]
  },
  {
   "cell_type": "code",
   "execution_count": 88,
   "metadata": {
    "collapsed": false
   },
   "outputs": [
    {
     "data": {
      "text/html": [
       "<div>\n",
       "<table border=\"1\" class=\"dataframe\">\n",
       "  <thead>\n",
       "    <tr style=\"text-align: right;\">\n",
       "      <th></th>\n",
       "      <th>Ребенок (0-11 лет)</th>\n",
       "      <th>Подросток (12-17 лет)</th>\n",
       "      <th>Взрослый (18-59 лет)</th>\n",
       "      <th>Пожилой (старше 60 лет)</th>\n",
       "      <th>Инвалид</th>\n",
       "      <th>Сирота</th>\n",
       "      <th>Беженец/мигрант</th>\n",
       "      <th>Малоимущий/безработный/многодетная семья</th>\n",
       "      <th>Бездомный</th>\n",
       "      <th>Военнослужащие/семьи погибших</th>\n",
       "      <th>Заключенный/бывший заключенный</th>\n",
       "      <th>Пострадавший от стихийных бедствий/катастроф/войн</th>\n",
       "    </tr>\n",
       "  </thead>\n",
       "  <tbody>\n",
       "    <tr>\n",
       "      <th>0</th>\n",
       "      <td>True</td>\n",
       "      <td>True</td>\n",
       "      <td>True</td>\n",
       "      <td>True</td>\n",
       "      <td>True</td>\n",
       "      <td>False</td>\n",
       "      <td>True</td>\n",
       "      <td>True</td>\n",
       "      <td>True</td>\n",
       "      <td>False</td>\n",
       "      <td>False</td>\n",
       "      <td>True</td>\n",
       "    </tr>\n",
       "    <tr>\n",
       "      <th>1</th>\n",
       "      <td>True</td>\n",
       "      <td>True</td>\n",
       "      <td>True</td>\n",
       "      <td>False</td>\n",
       "      <td>True</td>\n",
       "      <td>False</td>\n",
       "      <td>False</td>\n",
       "      <td>True</td>\n",
       "      <td>False</td>\n",
       "      <td>False</td>\n",
       "      <td>False</td>\n",
       "      <td>False</td>\n",
       "    </tr>\n",
       "  </tbody>\n",
       "</table>\n",
       "</div>"
      ],
      "text/plain": [
       "  Ребенок (0-11 лет) Подросток (12-17 лет) Взрослый (18-59 лет)  \\\n",
       "0               True                  True                 True   \n",
       "1               True                  True                 True   \n",
       "\n",
       "  Пожилой (старше 60 лет) Инвалид Сирота Беженец/мигрант  \\\n",
       "0                    True    True  False            True   \n",
       "1                   False    True  False           False   \n",
       "\n",
       "  Малоимущий/безработный/многодетная семья Бездомный  \\\n",
       "0                                     True      True   \n",
       "1                                     True     False   \n",
       "\n",
       "  Военнослужащие/семьи погибших Заключенный/бывший заключенный  \\\n",
       "0                         False                          False   \n",
       "1                         False                          False   \n",
       "\n",
       "  Пострадавший от стихийных бедствий/катастроф/войн  \n",
       "0                                              True  \n",
       "1                                             False  "
      ]
     },
     "execution_count": 88,
     "metadata": {},
     "output_type": "execute_result"
    }
   ],
   "source": [
    "audience_data.head(2)"
   ]
  },
  {
   "cell_type": "code",
   "execution_count": 89,
   "metadata": {
    "collapsed": false
   },
   "outputs": [
    {
     "data": {
      "image/png": "[encoded data removed]",
      "text/plain": [
       "<matplotlib.figure.Figure at 0x113d570b8>"
      ]
     },
     "metadata": {},
     "output_type": "display_data"
    }
   ],
   "source": [
    "plt.figure(figsize=(10, 10))\n",
    "audience_data.sum().sort_values().plot(kind=\"barh\");\n",
    "plt.title(\"Распределение целевой аудитории\");"
   ]
  },
  {
   "cell_type": "code",
   "execution_count": 12,
   "metadata": {
    "collapsed": false
   },
   "outputs": [],
   "source": [
    "from mpl_toolkits.basemap import Basemap"
   ]
  },
  {
   "cell_type": "code",
   "execution_count": 13,
   "metadata": {
    "collapsed": false
   },
   "outputs": [
    {
     "data": {
      "image/png": "[encoded data removed]",
      "text/plain": [
       "<matplotlib.figure.Figure at 0x116d19150>"
      ]
     },
     "metadata": {},
     "output_type": "display_data"
    }
   ],
   "source": [
    "m = Basemap(projection='mill', llcrnrlat=35, urcrnrlat=80, llcrnrlon=15, urcrnrlon=190, resolution =\"c\") \n",
    "\n",
    "plt.figure(figsize=(12,10))\n",
    "m.drawcountries()\n",
    "\n",
    "m.fillcontinents(color=\"#AABAE3\", lake_color=\"#FFFFFF\")\n",
    "m.drawmapboundary(fill_color=\"#FFFFFF\")\n",
    "\n",
    "\n",
    "lat = data.latitude.dropna().values\n",
    "lon = data.longtitude.dropna().values\n",
    "x,y = m(lon, lat)\n",
    "m.plot(x,y, \"bo\", markersize=5, alpha = 0.7);"
   ]
  }
 ],
 "metadata": {
  "anaconda-cloud": {},
  "kernelspec": {
   "display_name": "Python [py3k]",
   "language": "python",
   "name": "Python [py3k]"
  },
  "language_info": {
   "codemirror_mode": {
    "name": "ipython",
    "version": 3
   },
   "file_extension": ".py",
   "mimetype": "text/x-python",
   "name": "python",
   "nbconvert_exporter": "python",
   "pygments_lexer": "ipython3",
   "version": "3.6.0"
  }
 },
 "nbformat": 4,
 "nbformat_minor": 0
}
