{
 "cells": [
  {
   "cell_type": "markdown",
   "metadata": {},
   "source": [
    "\n",
    "# <center>Кому на Руси помогать хорошо: Парсим НКО при помощи Python</center>\n",
    "<img src=\"http://apptractor.ru/wp-content/uploads/2014/03/charities-header.png\" height=\"200\" width=\"200\"> \n",
    "\n",
    "\n",
    "---\n",
    "\n",
    "<h3 style=\"text-align: right;\" markdown=\"1\">Дмитрий Сергеев</h3>"
   ]
  },
  {
   "cell_type": "markdown",
   "metadata": {},
   "source": [
    "## Импортируем необходимые библиотеки"
   ]
  },
  {
   "cell_type": "code",
   "execution_count": 1,
   "metadata": {
    "collapsed": false
   },
   "outputs": [],
   "source": [
    "from urllib.request import urlopen, Request # написание обращений к сайту, открытие ссылок\n",
    "import re                                   # регулярные выражения, для поиска/очистки строк \n",
    "\n",
    "from bs4 import BeautifulSoup               # красивый суп для преобразования html-мусора \n",
    "                                            # в структурированное дерево\n",
    "\n",
    "import time                                 # будем использовать для ограничения числа запросов в секунду\n",
    "\n",
    "import pandas as pd\n",
    "import numpy as np"
   ]
  },
  {
   "cell_type": "markdown",
   "metadata": {},
   "source": [
    "Генерация фейкового юзер-агента, чтобы быть похожим на человека - https://pypi.python.org/pypi/user_agent"
   ]
  },
  {
   "cell_type": "code",
   "execution_count": null,
   "metadata": {
    "collapsed": false
   },
   "outputs": [],
   "source": [
    "from user_agent import generate_user_agent"
   ]
  },
  {
   "cell_type": "code",
   "execution_count": null,
   "metadata": {
    "collapsed": false
   },
   "outputs": [],
   "source": [
    "generate_user_agent()"
   ]
  },
  {
   "cell_type": "code",
   "execution_count": null,
   "metadata": {
    "collapsed": false
   },
   "outputs": [],
   "source": [
    "generate_user_agent()"
   ]
  },
  {
   "cell_type": "markdown",
   "metadata": {},
   "source": [
    "###  Наша главная ссылка, по которой мы будем в дальнейшем гулять, добавляя новые значения для страницы, а также ссылка для благотворительной организации"
   ]
  },
  {
   "cell_type": "code",
   "execution_count": null,
   "metadata": {
    "collapsed": true
   },
   "outputs": [],
   "source": [
    "main_url = \"http://ivsezaodnogo.ru/foundations?search_by=name&page={}\"\n",
    "sub_url = \"http://ivsezaodnogo.ru/foundations/{}\""
   ]
  },
  {
   "cell_type": "markdown",
   "metadata": {},
   "source": [
    "Если в ссылку подставить число - получим валидный url, на который можно перейти"
   ]
  },
  {
   "cell_type": "code",
   "execution_count": null,
   "metadata": {
    "collapsed": false
   },
   "outputs": [],
   "source": [
    "main_url.format(5)"
   ]
  },
  {
   "cell_type": "markdown",
   "metadata": {},
   "source": [
    "Попробуем перейти и посмотреть"
   ]
  },
  {
   "cell_type": "code",
   "execution_count": null,
   "metadata": {
    "collapsed": false
   },
   "outputs": [],
   "source": [
    "req = Request('http://ivsezaodnogo.ru/foundations?search_by=name&page=5', headers={\"User-Agent\":generate_user_agent()})\n",
    "webpage = urlopen(req).read()\n",
    "print(webpage[0:200])"
   ]
  },
  {
   "cell_type": "code",
   "execution_count": null,
   "metadata": {
    "collapsed": true
   },
   "outputs": [],
   "source": [
    "soup = BeautifulSoup(webpage, \"lxml\")"
   ]
  },
  {
   "cell_type": "code",
   "execution_count": null,
   "metadata": {
    "collapsed": false
   },
   "outputs": [],
   "source": [
    "print(soup)"
   ]
  },
  {
   "cell_type": "markdown",
   "metadata": {},
   "source": [
    "## А теперь вытащим с текущей страницы все url, ведущие на страницы НКО"
   ]
  },
  {
   "cell_type": "code",
   "execution_count": null,
   "metadata": {
    "collapsed": false
   },
   "outputs": [],
   "source": [
    "urls_block = soup.find('div', attrs={'class':'js-lazy-loader b-foundations-list'}).findAll('a', attrs={'class':'link'})"
   ]
  },
  {
   "cell_type": "code",
   "execution_count": null,
   "metadata": {
    "collapsed": false
   },
   "outputs": [],
   "source": [
    "urls_block[0:3]"
   ]
  },
  {
   "cell_type": "markdown",
   "metadata": {},
   "source": [
    "Отсюда нужно вытащить только цифры, так как у нас уже есть формат ссылки для перехода на страницу НКО. Воспользуемся регулярными выражениями!"
   ]
  },
  {
   "cell_type": "code",
   "execution_count": null,
   "metadata": {
    "collapsed": false
   },
   "outputs": [],
   "source": [
    "nko_urls = re.findall(r'\\d+', str(urls_block))\n",
    "nko_urls"
   ]
  },
  {
   "cell_type": "markdown",
   "metadata": {},
   "source": [
    "Осталось собрать всё сделанное в красивую функцию, принимающую на вход номер страницы и возвращающу список ссылок"
   ]
  },
  {
   "cell_type": "code",
   "execution_count": null,
   "metadata": {
    "collapsed": true
   },
   "outputs": [],
   "source": [
    "def getUrls(page):\n",
    "    req = Request(main_url.format(page), headers={'User-Agent': generate_user_agent()})\n",
    "    webpage = urlopen(req).read()\n",
    "    soup = BeautifulSoup(webpage, \"lxml\")\n",
    "    urls_block = soup.find('div', attrs={'class':'js-lazy-loader b-foundations-list'}).findAll('a', attrs={'class':'link'})\n",
    "    nko_urls = re.findall(r'\\d+', str(urls_block))\n",
    "    return nko_urls"
   ]
  },
  {
   "cell_type": "code",
   "execution_count": null,
   "metadata": {
    "collapsed": false
   },
   "outputs": [],
   "source": [
    "getUrls(5)"
   ]
  },
  {
   "cell_type": "code",
   "execution_count": null,
   "metadata": {
    "collapsed": true
   },
   "outputs": [],
   "source": [
    "def html_stripper(text):\n",
    "    # очищает строку от всех html-тэгов\n",
    "    return re.sub('<[^<]+?>', '', str(text))"
   ]
  },
  {
   "cell_type": "markdown",
   "metadata": {},
   "source": [
    "## Теперь мы можем получить ссылки на все НКО, перечисленные на сайты, осталось научиться переходить на их страницы, чтобы оттуда всё достать"
   ]
  },
  {
   "cell_type": "code",
   "execution_count": null,
   "metadata": {
    "collapsed": true
   },
   "outputs": [],
   "source": [
    "def getPage(page):\n",
    "    # Возвращает страницу с НКО\n",
    "    req = Request(sub_url.format(page), headers={'User-Agent': generate_user_agent()})\n",
    "    webpage = urlopen(req).read()\n",
    "    soup = BeautifulSoup(webpage, \"lxml\")\n",
    "    return soup"
   ]
  },
  {
   "cell_type": "code",
   "execution_count": null,
   "metadata": {
    "collapsed": true
   },
   "outputs": [],
   "source": [
    "page = getPage(452)"
   ]
  },
  {
   "cell_type": "code",
   "execution_count": null,
   "metadata": {
    "collapsed": false
   },
   "outputs": [],
   "source": [
    "str(page)[0:200]"
   ]
  },
  {
   "cell_type": "code",
   "execution_count": null,
   "metadata": {
    "collapsed": true
   },
   "outputs": [],
   "source": [
    "def getInformation(page):\n",
    "    #### Organization name\n",
    "    organization_name = html_stripper(page.find(\"h1\"))\n",
    "    \n",
    "    information = page.find(\"div\", attrs={'class':'groups'})\n",
    "    information = re.split(\"Решает проблемы|Кому оказывается помощь\", str(information))\n",
    "    \n",
    "    #### Problems\n",
    "    problems_solving = html_stripper(information[1]).split('\\n')\n",
    "    problems_solving = [x for x in problems_solving if x] # удаляем пустые значения\n",
    "    problems_solving = list(set(problems_solving)) # удаляем дубликаты\n",
    "    problems_solving.remove(\"показать все\")\n",
    "    problems_solving.remove('свернуть ↑')\n",
    "    \n",
    "    #### Target audience\n",
    "    audience = html_stripper(information[2]).split('\\n')\n",
    "    audience = [x for x in audience if x]\n",
    "    \n",
    "    #### Description\n",
    "    description = html_stripper(page.find(\"div\", attrs={\"class\":\"description\"}))\n",
    "    \n",
    "    return {'name':organization_name, \n",
    "            'problems_solving':problems_solving, \n",
    "            'audience':audience, \n",
    "            'description':description}"
   ]
  },
  {
   "cell_type": "code",
   "execution_count": null,
   "metadata": {
    "collapsed": false
   },
   "outputs": [],
   "source": [
    "getInformation(page)"
   ]
  },
  {
   "cell_type": "markdown",
   "metadata": {},
   "source": [
    "## Координаты можно получить из яндекс карт"
   ]
  },
  {
   "cell_type": "code",
   "execution_count": null,
   "metadata": {
    "collapsed": true
   },
   "outputs": [],
   "source": [
    "contacts = page.find(\"div\", attrs={\"class\":\"contacts js-donate-block\"})\n",
    "yandex_url = re.findall('http[s]?://(?:[a-zA-Z]|[0-9]|[$-_@.&+]|[!*\\(\\),]|(?:%[0-9a-fA-F][0-9a-fA-F]))+', str(contacts))[0]"
   ]
  },
  {
   "cell_type": "code",
   "execution_count": null,
   "metadata": {
    "collapsed": false
   },
   "outputs": [],
   "source": [
    "yandex_url"
   ]
  },
  {
   "cell_type": "code",
   "execution_count": null,
   "metadata": {
    "collapsed": true
   },
   "outputs": [],
   "source": [
    "def getCoordinatesFromYandex(yandex_url):\n",
    "    try:\n",
    "        req = Request(yandex_url, headers={'User-Agent': generate_user_agent()})\n",
    "        webpage = urlopen(req).read()\n",
    "        soup = BeautifulSoup(webpage, \"lxml\")\n",
    "        soup.find(\"div\", attrs={\"class\":\"toponym-card-view__coordinates-deg\"})\n",
    "        coordinates = re.split(\"coordinates\", str(soup))[-2]\n",
    "        coordinates = re.findall(r'\\d+[\\.]?\\d*', coordinates)[0:2]\n",
    "    except:\n",
    "        coordinates=[np.NaN, np.NaN]\n",
    "    return coordinates"
   ]
  },
  {
   "cell_type": "code",
   "execution_count": null,
   "metadata": {
    "collapsed": false
   },
   "outputs": [],
   "source": [
    "getCoordinatesFromYandex(yandex_url)"
   ]
  },
  {
   "cell_type": "code",
   "execution_count": null,
   "metadata": {
    "collapsed": true
   },
   "outputs": [],
   "source": [
    "def getContacts(page):\n",
    "    contacts = page.find(\"div\", attrs={\"class\":\"contacts js-donate-block\"})\n",
    "    yandex_url = re.findall('http[s]?://(?:[a-zA-Z]|[0-9]|[$-_@.&+]|[!*\\(\\),]|(?:%[0-9a-fA-F][0-9a-fA-F]))+', str(contacts))[0]\n",
    "    \n",
    "    longtitude, latitude = getCoordinatesFromYandex(yandex_url)\n",
    "    \n",
    "    address = html_stripper(contacts.find(\"a\",attrs={'class':\"info-line address\"}))\n",
    "    telephone = html_stripper(contacts.find(\"div\", attrs={\"class\":\"info-line phone\"}))\n",
    "    email = html_stripper(contacts.find(\"div\", attrs={\"class\":\"info-line email\"}))\n",
    "    website = html_stripper(contacts.find(\"div\", attrs={\"class\":\"info-line web\"}))\n",
    "    return {'longtitude':float(longtitude),\n",
    "            \"latitude\":float(latitude), \n",
    "            'address':address, \n",
    "            'telephone':telephone, \n",
    "            'email':email, \n",
    "            'website':website}"
   ]
  },
  {
   "cell_type": "code",
   "execution_count": null,
   "metadata": {
    "collapsed": false
   },
   "outputs": [],
   "source": [
    "getContacts(page)"
   ]
  },
  {
   "cell_type": "markdown",
   "metadata": {},
   "source": [
    "## Итак, все поля собраны, осталось пройтись по всем страницам поиска, чтобы собрать полный список ссылок и затем перейти на каждую из них"
   ]
  },
  {
   "cell_type": "code",
   "execution_count": null,
   "metadata": {
    "collapsed": true
   },
   "outputs": [],
   "source": [
    "def getAllUrls(last_page=50):\n",
    "    nko_urls = set()\n",
    "    \n",
    "    for i in range(1,last_page):\n",
    "        urls = getUrls(i)\n",
    "        time.sleep(0.3)\n",
    "        if len(urls)!=0:\n",
    "            nko_urls.update(urls)\n",
    "        else:\n",
    "            break\n",
    "    nko_urls = list(nko_urls)\n",
    "    return nko_urls"
   ]
  },
  {
   "cell_type": "code",
   "execution_count": null,
   "metadata": {
    "collapsed": true
   },
   "outputs": [],
   "source": [
    "nko_urls = getAllUrls()"
   ]
  },
  {
   "cell_type": "code",
   "execution_count": null,
   "metadata": {
    "collapsed": false
   },
   "outputs": [],
   "source": [
    "nko_urls[0:10]"
   ]
  },
  {
   "cell_type": "code",
   "execution_count": null,
   "metadata": {
    "collapsed": false
   },
   "outputs": [],
   "source": [
    "len(nko_urls)"
   ]
  },
  {
   "cell_type": "markdown",
   "metadata": {},
   "source": [
    "Итого получили 511 ссылок на огранизации. Создадим датафрейм со всеми необходимыми полями"
   ]
  },
  {
   "cell_type": "code",
   "execution_count": null,
   "metadata": {
    "collapsed": true
   },
   "outputs": [],
   "source": [
    "FINAL = pd.DataFrame(columns=[\"name\",\n",
    "                             \"address\",\n",
    "                             \"longtitude\",\n",
    "                             \"latitude\",\n",
    "                             \"telephone\",\n",
    "                             \"email\",\n",
    "                             \"website\",\n",
    "                             \"problems_solving\", \n",
    "                             \"audience\", \n",
    "                             \"description\"])"
   ]
  },
  {
   "cell_type": "code",
   "execution_count": null,
   "metadata": {
    "collapsed": true
   },
   "outputs": [],
   "source": [
    "for number in nko_urls:\n",
    "    time.sleep(0.3)            # ограничим число запросов 3 в секунду, чтобы не нагружать сайт\n",
    "    page = getPage(number)     # выгружаем все данные со странички\n",
    "    FINAL = FINAL.append({**getContacts(page), **getInformation(page)}, ignore_index=True)\n",
    "    \n",
    "FINAL.to_csv(\"/Users/dmitrys/Desktop/DataProjects/OpenDataNKO/FINAL.csv\")"
   ]
  },
  {
   "cell_type": "markdown",
   "metadata": {},
   "source": [
    "# А теперь посмотрим, что выгрузилось :)"
   ]
  },
  {
   "cell_type": "code",
   "execution_count": 1,
   "metadata": {
    "collapsed": false
   },
   "outputs": [],
   "source": [
    "import matplotlib.pyplot as plt\n",
    "%matplotlib inline\n",
    "import seaborn as sns\n",
    "import pandas as pd"
   ]
  },
  {
   "cell_type": "code",
   "execution_count": 2,
   "metadata": {
    "collapsed": false
   },
   "outputs": [],
   "source": [
    "data = pd.read_csv(\"FINAL.csv\")"
   ]
  },
  {
   "cell_type": "code",
   "execution_count": 3,
   "metadata": {
    "collapsed": false
   },
   "outputs": [
    {
     "data": {
      "text/plain": [
       "(511, 11)"
      ]
     },
     "execution_count": 3,
     "metadata": {},
     "output_type": "execute_result"
    }
   ],
   "source": [
    "data.shape"
   ]
  },
  {
   "cell_type": "code",
   "execution_count": 4,
   "metadata": {
    "collapsed": true
   },
   "outputs": [
    {
     "data": {
      "text/html": [
       "<div>\n",
       "<table border=\"1\" class=\"dataframe\">\n",
       "  <thead>\n",
       "    <tr style=\"text-align: right;\">\n",
       "      <th></th>\n",
       "      <th>Unnamed: 0</th>\n",
       "      <th>name</th>\n",
       "      <th>address</th>\n",
       "      <th>longtitude</th>\n",
       "      <th>latitude</th>\n",
       "      <th>telephone</th>\n",
       "      <th>email</th>\n",
       "      <th>website</th>\n",
       "      <th>problems_solving</th>\n",
       "      <th>audience</th>\n",
       "      <th>description</th>\n",
       "    </tr>\n",
       "  </thead>\n",
       "  <tbody>\n",
       "    <tr>\n",
       "      <th>0</th>\n",
       "      <td>0</td>\n",
       "      <td>Благотворительный фонд \"Фонд продовольствия \"Р...</td>\n",
       "      <td>127006, г. Москва, Старопименовский переулок, ...</td>\n",
       "      <td>37.604717</td>\n",
       "      <td>55.770097</td>\n",
       "      <td>8(495)212-14-92</td>\n",
       "      <td>info@foodbankrus.ru</td>\n",
       "      <td>http://foodbankrus.ru/</td>\n",
       "      <td>['Социальная помощь', 'Помощь в тяжелой жизнен...</td>\n",
       "      <td>['Ребенок (0-11 лет)', 'Подросток (12-17 лет)'...</td>\n",
       "      <td>\\nОписание благотворительной организации\\n«Фон...</td>\n",
       "    </tr>\n",
       "    <tr>\n",
       "      <th>1</th>\n",
       "      <td>1</td>\n",
       "      <td>Благотворительный фонд \"Помоги делом\"</td>\n",
       "      <td>185035, Республика Карелия, Петрозаводск, ул. ...</td>\n",
       "      <td>34.374448</td>\n",
       "      <td>61.789228</td>\n",
       "      <td>8(906)208-80-80</td>\n",
       "      <td>fond@pomogi-delom.ru</td>\n",
       "      <td>http://pomogi-delom.ru/</td>\n",
       "      <td>['Неврологические и психоневрологические забол...</td>\n",
       "      <td>['Ребенок (0-11 лет)', 'Подросток (12-17 лет)'...</td>\n",
       "      <td>\\nОписание благотворительной организации\\n28 д...</td>\n",
       "    </tr>\n",
       "  </tbody>\n",
       "</table>\n",
       "</div>"
      ],
      "text/plain": [
       "   Unnamed: 0                                               name  \\\n",
       "0           0  Благотворительный фонд \"Фонд продовольствия \"Р...   \n",
       "1           1              Благотворительный фонд \"Помоги делом\"   \n",
       "\n",
       "                                             address  longtitude   latitude  \\\n",
       "0  127006, г. Москва, Старопименовский переулок, ...   37.604717  55.770097   \n",
       "1  185035, Республика Карелия, Петрозаводск, ул. ...   34.374448  61.789228   \n",
       "\n",
       "         telephone                 email                  website  \\\n",
       "0  8(495)212-14-92   info@foodbankrus.ru   http://foodbankrus.ru/   \n",
       "1  8(906)208-80-80  fond@pomogi-delom.ru  http://pomogi-delom.ru/   \n",
       "\n",
       "                                    problems_solving  \\\n",
       "0  ['Социальная помощь', 'Помощь в тяжелой жизнен...   \n",
       "1  ['Неврологические и психоневрологические забол...   \n",
       "\n",
       "                                            audience  \\\n",
       "0  ['Ребенок (0-11 лет)', 'Подросток (12-17 лет)'...   \n",
       "1  ['Ребенок (0-11 лет)', 'Подросток (12-17 лет)'...   \n",
       "\n",
       "                                         description  \n",
       "0  \\nОписание благотворительной организации\\n«Фон...  \n",
       "1  \\nОписание благотворительной организации\\n28 д...  "
      ]
     },
     "execution_count": 4,
     "metadata": {},
     "output_type": "execute_result"
    }
   ],
   "source": [
    "data.head(2)"
   ]
  },
  {
   "cell_type": "code",
   "execution_count": 5,
   "metadata": {
    "collapsed": false
   },
   "outputs": [],
   "source": [
    "data.drop([\"Unnamed: 0\"], axis=1, inplace=True)"
   ]
  },
  {
   "cell_type": "code",
   "execution_count": 6,
   "metadata": {
    "collapsed": true
   },
   "outputs": [
    {
     "data": {
      "text/html": [
       "<div>\n",
       "<table border=\"1\" class=\"dataframe\">\n",
       "  <thead>\n",
       "    <tr style=\"text-align: right;\">\n",
       "      <th></th>\n",
       "      <th>name</th>\n",
       "      <th>address</th>\n",
       "      <th>longtitude</th>\n",
       "      <th>latitude</th>\n",
       "      <th>telephone</th>\n",
       "      <th>email</th>\n",
       "      <th>website</th>\n",
       "      <th>problems_solving</th>\n",
       "      <th>audience</th>\n",
       "      <th>description</th>\n",
       "    </tr>\n",
       "  </thead>\n",
       "  <tbody>\n",
       "    <tr>\n",
       "      <th>0</th>\n",
       "      <td>Благотворительный фонд \"Фонд продовольствия \"Р...</td>\n",
       "      <td>127006, г. Москва, Старопименовский переулок, ...</td>\n",
       "      <td>37.604717</td>\n",
       "      <td>55.770097</td>\n",
       "      <td>8(495)212-14-92</td>\n",
       "      <td>info@foodbankrus.ru</td>\n",
       "      <td>http://foodbankrus.ru/</td>\n",
       "      <td>['Социальная помощь', 'Помощь в тяжелой жизнен...</td>\n",
       "      <td>['Ребенок (0-11 лет)', 'Подросток (12-17 лет)'...</td>\n",
       "      <td>\\nОписание благотворительной организации\\n«Фон...</td>\n",
       "    </tr>\n",
       "    <tr>\n",
       "      <th>1</th>\n",
       "      <td>Благотворительный фонд \"Помоги делом\"</td>\n",
       "      <td>185035, Республика Карелия, Петрозаводск, ул. ...</td>\n",
       "      <td>34.374448</td>\n",
       "      <td>61.789228</td>\n",
       "      <td>8(906)208-80-80</td>\n",
       "      <td>fond@pomogi-delom.ru</td>\n",
       "      <td>http://pomogi-delom.ru/</td>\n",
       "      <td>['Неврологические и психоневрологические забол...</td>\n",
       "      <td>['Ребенок (0-11 лет)', 'Подросток (12-17 лет)'...</td>\n",
       "      <td>\\nОписание благотворительной организации\\n28 д...</td>\n",
       "    </tr>\n",
       "  </tbody>\n",
       "</table>\n",
       "</div>"
      ],
      "text/plain": [
       "                                                name  \\\n",
       "0  Благотворительный фонд \"Фонд продовольствия \"Р...   \n",
       "1              Благотворительный фонд \"Помоги делом\"   \n",
       "\n",
       "                                             address  longtitude   latitude  \\\n",
       "0  127006, г. Москва, Старопименовский переулок, ...   37.604717  55.770097   \n",
       "1  185035, Республика Карелия, Петрозаводск, ул. ...   34.374448  61.789228   \n",
       "\n",
       "         telephone                 email                  website  \\\n",
       "0  8(495)212-14-92   info@foodbankrus.ru   http://foodbankrus.ru/   \n",
       "1  8(906)208-80-80  fond@pomogi-delom.ru  http://pomogi-delom.ru/   \n",
       "\n",
       "                                    problems_solving  \\\n",
       "0  ['Социальная помощь', 'Помощь в тяжелой жизнен...   \n",
       "1  ['Неврологические и психоневрологические забол...   \n",
       "\n",
       "                                            audience  \\\n",
       "0  ['Ребенок (0-11 лет)', 'Подросток (12-17 лет)'...   \n",
       "1  ['Ребенок (0-11 лет)', 'Подросток (12-17 лет)'...   \n",
       "\n",
       "                                         description  \n",
       "0  \\nОписание благотворительной организации\\n«Фон...  \n",
       "1  \\nОписание благотворительной организации\\n28 д...  "
      ]
     },
     "execution_count": 6,
     "metadata": {},
     "output_type": "execute_result"
    }
   ],
   "source": [
    "data.head(2)"
   ]
  },
  {
   "cell_type": "code",
   "execution_count": 7,
   "metadata": {
    "collapsed": false
   },
   "outputs": [],
   "source": [
    "import ast\n",
    "# Преобразуем строковые колонки с листами в непосредственный тип листа\n",
    "data.problems_solving = data.problems_solving.apply(ast.literal_eval)\n",
    "data.audience = data.audience.apply(ast.literal_eval)"
   ]
  },
  {
   "cell_type": "markdown",
   "metadata": {},
   "source": [
    "## Посмотрим на решаемые проблемы"
   ]
  },
  {
   "cell_type": "code",
   "execution_count": 8,
   "metadata": {
    "collapsed": true
   },
   "outputs": [
    {
     "data": {
      "text/plain": [
       "273"
      ]
     },
     "execution_count": 8,
     "metadata": {},
     "output_type": "execute_result"
    }
   ],
   "source": [
    "data.problems_solving.apply(len).idxmax() # ищем организацию с максимальным списков решаемых проблем"
   ]
  },
  {
   "cell_type": "code",
   "execution_count": 9,
   "metadata": {
    "collapsed": true
   },
   "outputs": [
    {
     "data": {
      "text/plain": [
       "name                 Международный благотворительный фонд \"Дети мира\"\n",
       "address                  109004, Москва, Пестовский пер., д. 12, к. 1\n",
       "longtitude                                                      37.66\n",
       "latitude                                                       55.746\n",
       "telephone                                             8(495)995-03-40\n",
       "email                                               info@deti-mira.ru\n",
       "website                                      http://www.deti-mira.ru/\n",
       "problems_solving    [Психологическая помощь, Сахарный диабет, Конс...\n",
       "audience            [Ребенок (0-11 лет), Подросток (12-17 лет), Си...\n",
       "description         \\nОписание благотворительной организации\\nМежд...\n",
       "Name: 273, dtype: object"
      ]
     },
     "execution_count": 9,
     "metadata": {},
     "output_type": "execute_result"
    }
   ],
   "source": [
    "data.loc[273]"
   ]
  },
  {
   "cell_type": "code",
   "execution_count": 10,
   "metadata": {
    "collapsed": true
   },
   "outputs": [],
   "source": [
    "columns = data.problems_solving.loc[data.problems_solving.apply(len).idxmax()]"
   ]
  },
  {
   "cell_type": "code",
   "execution_count": 11,
   "metadata": {
    "collapsed": true
   },
   "outputs": [
    {
     "name": "stdout",
     "output_type": "stream",
     "text": [
      "Психологическая помощь\n",
      "Сахарный диабет\n",
      "Консалтинг в области филантропии для социально ответственного бизнеса\n",
      "Нужен донор\n",
      "Социальная помощь\n",
      "Лечение заболеваний\n",
      "Правовая поддержка\n",
      "Волонтерская помощь\n",
      "Реабилитация и адаптация\n",
      "Онкологические заболевания\n",
      "Заболевания опорно-двигательного аппарата\n",
      "Поддержка НКО\n",
      "Наследственные/генетические заболевания\n",
      "Нефинансовая/гуманитарная помощь\n",
      "Паллиативная помощь\n",
      "Неврологические и психоневрологические заболевания\n",
      "Гематологические заболевания\n",
      "Сердечно-сосудистые заболевания\n",
      "Помощь в тяжелой жизненной ситуации\n",
      "Зависимость\n",
      "Редкие (орфанные) заболевания\n",
      "Другие заболевания органов и систем (дыхания, пищеварения, слуха, зрения, мочеполовой системы, печени, кожи, инфекционные заболевания, ожоги, дефекты внешности)\n",
      "СПИД/ВИЧ/Гепатит\n"
     ]
    }
   ],
   "source": [
    "for i in columns:\n",
    "    print(i)"
   ]
  },
  {
   "cell_type": "code",
   "execution_count": null,
   "metadata": {
    "collapsed": false
   },
   "outputs": [],
   "source": [
    "def getProblems(row):\n",
    "    # преобразовываем в несколько колонок решаемые проблемы\n",
    "    encoded = []\n",
    "    for i in columns:\n",
    "        if i in data.problems_solving.loc[row]:\n",
    "            encoded.append(True)\n",
    "        else:\n",
    "            encoded.append(False)\n",
    "    return encoded"
   ]
  },
  {
   "cell_type": "code",
   "execution_count": null,
   "metadata": {
    "collapsed": false
   },
   "outputs": [],
   "source": [
    "getProblems(0)"
   ]
  },
  {
   "cell_type": "code",
   "execution_count": null,
   "metadata": {
    "collapsed": true
   },
   "outputs": [],
   "source": [
    "problems = data.reset_index()['index'].apply(getProblems)\n",
    "problems_data = pd.DataFrame(problems.tolist(), columns=columns)"
   ]
  },
  {
   "cell_type": "code",
   "execution_count": null,
   "metadata": {
    "collapsed": true
   },
   "outputs": [],
   "source": [
    "# переименуем колонку, чтобы название было покороче\n",
    "problems_data.rename(columns={\"Другие заболевания органов и систем (дыхания, пищеварения, слуха, зрения, мочеполовой системы, печени, кожи, инфекционные заболевания, ожоги, дефекты внешности)\":\n",
    "                              \"Другие заболевания органов и систем\"}, inplace=True)"
   ]
  },
  {
   "cell_type": "code",
   "execution_count": null,
   "metadata": {
    "collapsed": false
   },
   "outputs": [],
   "source": [
    "problems_data.head(2)"
   ]
  },
  {
   "cell_type": "code",
   "execution_count": null,
   "metadata": {
    "collapsed": false
   },
   "outputs": [],
   "source": [
    "plt.figure(figsize=(10, 10))\n",
    "problems_data.sum().sort_values().plot(kind=\"barh\");\n",
    "plt.title(\"Распределение решаемых проблем\");"
   ]
  },
  {
   "cell_type": "code",
   "execution_count": null,
   "metadata": {
    "collapsed": false
   },
   "outputs": [],
   "source": [
    "data = pd.concat([data, problems_data], axis=1)"
   ]
  },
  {
   "cell_type": "markdown",
   "metadata": {},
   "source": [
    "## Кому помогают"
   ]
  },
  {
   "cell_type": "code",
   "execution_count": null,
   "metadata": {
    "collapsed": false
   },
   "outputs": [],
   "source": [
    "data.audience.apply(len).idxmax()"
   ]
  },
  {
   "cell_type": "code",
   "execution_count": null,
   "metadata": {
    "collapsed": true
   },
   "outputs": [],
   "source": [
    "columns = data.audience.loc[data.audience.apply(len).idxmax()]"
   ]
  },
  {
   "cell_type": "code",
   "execution_count": null,
   "metadata": {
    "collapsed": false
   },
   "outputs": [],
   "source": [
    "columns"
   ]
  },
  {
   "cell_type": "code",
   "execution_count": null,
   "metadata": {
    "collapsed": true
   },
   "outputs": [],
   "source": [
    "def getAudience(row):\n",
    "    # преобразовываем в несколько колонок решаемые проблемы\n",
    "    encoded = []\n",
    "    for i in columns:\n",
    "        if i in data.audience.loc[row]:\n",
    "            encoded.append(True)\n",
    "        else:\n",
    "            encoded.append(False)\n",
    "    return encoded"
   ]
  },
  {
   "cell_type": "code",
   "execution_count": null,
   "metadata": {
    "collapsed": false
   },
   "outputs": [],
   "source": [
    "getAudience(0)"
   ]
  },
  {
   "cell_type": "code",
   "execution_count": null,
   "metadata": {
    "collapsed": true
   },
   "outputs": [],
   "source": [
    "audience = data.reset_index()['index'].apply(getAudience)\n",
    "audience_data = pd.DataFrame(audience.tolist(), columns=columns)"
   ]
  },
  {
   "cell_type": "code",
   "execution_count": null,
   "metadata": {
    "collapsed": false
   },
   "outputs": [],
   "source": [
    "audience_data.head(2)"
   ]
  },
  {
   "cell_type": "code",
   "execution_count": null,
   "metadata": {
    "collapsed": false
   },
   "outputs": [],
   "source": [
    "plt.figure(figsize=(10, 10))\n",
    "audience_data.sum().sort_values().plot(kind=\"barh\");\n",
    "plt.title(\"Распределение целевой аудитории\");"
   ]
  },
  {
   "cell_type": "code",
   "execution_count": 12,
   "metadata": {
    "collapsed": false
   },
   "outputs": [],
   "source": [
    "from mpl_toolkits.basemap import Basemap"
   ]
  },
  {
   "cell_type": "code",
   "execution_count": 13,
   "metadata": {
    "collapsed": false
   },
   "outputs": [
    {
     "data": {
      "image/png": "[encoded data removed]",
      "text/plain": [
       "<matplotlib.figure.Figure at 0x116d19150>"
      ]
     },
     "metadata": {},
     "output_type": "display_data"
    }
   ],
   "source": [
    "m = Basemap(projection='mill', llcrnrlat=35, urcrnrlat=80, llcrnrlon=15, urcrnrlon=190, resolution =\"c\") \n",
    "\n",
    "plt.figure(figsize=(12,10))\n",
    "m.drawcountries()\n",
    "\n",
    "m.fillcontinents(color=\"#AABAE3\", lake_color=\"#FFFFFF\")\n",
    "m.drawmapboundary(fill_color=\"#FFFFFF\")\n",
    "\n",
    "\n",
    "lat = data.latitude.dropna().values\n",
    "lon = data.longtitude.dropna().values\n",
    "x,y = m(lon, lat)\n",
    "m.plot(x,y, \"bo\", markersize=5, alpha = 0.7);"
   ]
  }
 ],
 "metadata": {
  "anaconda-cloud": {},
  "kernelspec": {
   "display_name": "Python [py3k]",
   "language": "python",
   "name": "Python [py3k]"
  },
  "language_info": {
   "codemirror_mode": {
    "name": "ipython",
    "version": 3
   },
   "file_extension": ".py",
   "mimetype": "text/x-python",
   "name": "python",
   "nbconvert_exporter": "python",
   "pygments_lexer": "ipython3",
   "version": "3.6.0"
  }
 },
 "nbformat": 4,
 "nbformat_minor": 0
}
