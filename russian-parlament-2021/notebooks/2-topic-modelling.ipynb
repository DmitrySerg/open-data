{
 "cells": [
  {
   "cell_type": "markdown",
   "metadata": {},
   "source": [
    "# <center> Topic Modelling </center> "
   ]
  },
  {
   "cell_type": "code",
   "execution_count": 2,
   "metadata": {},
   "outputs": [],
   "source": [
    "import pandas as pd\n",
    "import numpy as np\n",
    "\n",
    "import gensim\n",
    "import gensim.corpora as corpora\n",
    "from gensim.models import CoherenceModel\n",
    "\n",
    "import pyLDAvis\n",
    "import pyLDAvis.gensim  \n",
    "import matplotlib.pyplot as plt\n",
    "%matplotlib inline\n",
    "\n",
    "from tqdm import tqdm_notebook\n",
    "import warnings\n",
    "warnings.filterwarnings(\"ignore\",category=DeprecationWarning)"
   ]
  },
  {
   "cell_type": "code",
   "execution_count": 3,
   "metadata": {},
   "outputs": [
    {
     "data": {
      "text/html": [
       "<div>\n",
       "<style scoped>\n",
       "    .dataframe tbody tr th:only-of-type {\n",
       "        vertical-align: middle;\n",
       "    }\n",
       "\n",
       "    .dataframe tbody tr th {\n",
       "        vertical-align: top;\n",
       "    }\n",
       "\n",
       "    .dataframe thead th {\n",
       "        text-align: right;\n",
       "    }\n",
       "</style>\n",
       "<table border=\"1\" class=\"dataframe\">\n",
       "  <thead>\n",
       "    <tr style=\"text-align: right;\">\n",
       "      <th></th>\n",
       "      <th>start_line</th>\n",
       "      <th>end_line</th>\n",
       "      <th>type</th>\n",
       "      <th>lines</th>\n",
       "      <th>votes</th>\n",
       "      <th>deputy_name</th>\n",
       "      <th>meeting_date</th>\n",
       "      <th>deputy_id</th>\n",
       "      <th>lines_processed</th>\n",
       "      <th>lines_lemmatized</th>\n",
       "    </tr>\n",
       "  </thead>\n",
       "  <tbody>\n",
       "    <tr>\n",
       "      <th>0</th>\n",
       "      <td>630</td>\n",
       "      <td>678</td>\n",
       "      <td>65100001</td>\n",
       "      <td>[АБАЛАКОВ А. Н., фракция КПРФ.                ...</td>\n",
       "      <td>[]</td>\n",
       "      <td>Абалаков Александр Николаевич</td>\n",
       "      <td>2016-06-15 00:00:00</td>\n",
       "      <td>99111772</td>\n",
       "      <td>фракция кпрф уважаемый сергей евгеньевич уважа...</td>\n",
       "      <td>[фракция, кпрф, уважаемый, сергей, евгеньевич,...</td>\n",
       "    </tr>\n",
       "    <tr>\n",
       "      <th>1</th>\n",
       "      <td>1476</td>\n",
       "      <td>1479</td>\n",
       "      <td></td>\n",
       "      <td>[АБАЛАКОВ А. Н., фракция КПРФ.                ...</td>\n",
       "      <td>[]</td>\n",
       "      <td>Абалаков Александр Николаевич</td>\n",
       "      <td>2015-12-02 00:00:00</td>\n",
       "      <td>99111772</td>\n",
       "      <td>фракция кпрф прошу вынести на отдельное голосо...</td>\n",
       "      <td>[фракция, кпрф, просить, вынести, отдельный, г...</td>\n",
       "    </tr>\n",
       "    <tr>\n",
       "      <th>2</th>\n",
       "      <td>2518</td>\n",
       "      <td>2522</td>\n",
       "      <td></td>\n",
       "      <td>[АБАЛАКОВ А. Н. Поправка предполагает увеличен...</td>\n",
       "      <td>[]</td>\n",
       "      <td>Абалаков Александр Николаевич</td>\n",
       "      <td>2015-12-02 00:00:00</td>\n",
       "      <td>99111772</td>\n",
       "      <td>поправка предполагает увеличение взноса на кап...</td>\n",
       "      <td>[поправка, предполагать, увеличение, взнос, ка...</td>\n",
       "    </tr>\n",
       "    <tr>\n",
       "      <th>3</th>\n",
       "      <td>4862</td>\n",
       "      <td>4874</td>\n",
       "      <td>65100003</td>\n",
       "      <td>[АБАЛАКОВ А. Н., фракция КПРФ.                ...</td>\n",
       "      <td>[]</td>\n",
       "      <td>Абалаков Александр Николаевич</td>\n",
       "      <td>2015-11-20 00:00:00</td>\n",
       "      <td>99111772</td>\n",
       "      <td>фракция кпрф уважаемый сергей евгеньевич уважа...</td>\n",
       "      <td>[фракция, кпрф, уважаемый, сергей, евгеньевич,...</td>\n",
       "    </tr>\n",
       "    <tr>\n",
       "      <th>4</th>\n",
       "      <td>4672</td>\n",
       "      <td>4716</td>\n",
       "      <td></td>\n",
       "      <td>[АБАЛАКОВ А. Н., фракция КПРФ.                ...</td>\n",
       "      <td>[]</td>\n",
       "      <td>Абалаков Александр Николаевич</td>\n",
       "      <td>2015-11-18 00:00:00</td>\n",
       "      <td>99111772</td>\n",
       "      <td>фракция кпрф уважаемый сергей евгеньевич уважа...</td>\n",
       "      <td>[фракция, кпрф, уважаемый, сергей, евгеньевич,...</td>\n",
       "    </tr>\n",
       "  </tbody>\n",
       "</table>\n",
       "</div>"
      ],
      "text/plain": [
       "   start_line  end_line      type  \\\n",
       "0         630       678  65100001   \n",
       "1        1476      1479             \n",
       "2        2518      2522             \n",
       "3        4862      4874  65100003   \n",
       "4        4672      4716             \n",
       "\n",
       "                                               lines votes  \\\n",
       "0  [АБАЛАКОВ А. Н., фракция КПРФ.                ...    []   \n",
       "1  [АБАЛАКОВ А. Н., фракция КПРФ.                ...    []   \n",
       "2  [АБАЛАКОВ А. Н. Поправка предполагает увеличен...    []   \n",
       "3  [АБАЛАКОВ А. Н., фракция КПРФ.                ...    []   \n",
       "4  [АБАЛАКОВ А. Н., фракция КПРФ.                ...    []   \n",
       "\n",
       "                     deputy_name         meeting_date deputy_id  \\\n",
       "0  Абалаков Александр Николаевич  2016-06-15 00:00:00  99111772   \n",
       "1  Абалаков Александр Николаевич  2015-12-02 00:00:00  99111772   \n",
       "2  Абалаков Александр Николаевич  2015-12-02 00:00:00  99111772   \n",
       "3  Абалаков Александр Николаевич  2015-11-20 00:00:00  99111772   \n",
       "4  Абалаков Александр Николаевич  2015-11-18 00:00:00  99111772   \n",
       "\n",
       "                                     lines_processed  \\\n",
       "0  фракция кпрф уважаемый сергей евгеньевич уважа...   \n",
       "1  фракция кпрф прошу вынести на отдельное голосо...   \n",
       "2  поправка предполагает увеличение взноса на кап...   \n",
       "3  фракция кпрф уважаемый сергей евгеньевич уважа...   \n",
       "4  фракция кпрф уважаемый сергей евгеньевич уважа...   \n",
       "\n",
       "                                    lines_lemmatized  \n",
       "0  [фракция, кпрф, уважаемый, сергей, евгеньевич,...  \n",
       "1  [фракция, кпрф, просить, вынести, отдельный, г...  \n",
       "2  [поправка, предполагать, увеличение, взнос, ка...  \n",
       "3  [фракция, кпрф, уважаемый, сергей, евгеньевич,...  \n",
       "4  [фракция, кпрф, уважаемый, сергей, евгеньевич,...  "
      ]
     },
     "execution_count": 3,
     "metadata": {},
     "output_type": "execute_result"
    }
   ],
   "source": [
    "data = pd.read_pickle('../data/processed/transcripts_1994_2021_lematized.pkl')\n",
    "data.head()"
   ]
  },
  {
   "cell_type": "code",
   "execution_count": 4,
   "metadata": {},
   "outputs": [],
   "source": [
    "data['meeting_date'] = pd.to_datetime(data['meeting_date'])\n",
    "data['year'] = data['meeting_date'].dt.year"
   ]
  },
  {
   "cell_type": "code",
   "execution_count": 5,
   "metadata": {},
   "outputs": [
    {
     "data": {
      "text/plain": [
       "<matplotlib.axes._subplots.AxesSubplot at 0x105d2b9e8>"
      ]
     },
     "execution_count": 5,
     "metadata": {},
     "output_type": "execute_result"
    },
    {
     "data": {
      "image/png": "[encoded data removed]",
      "text/plain": [
       "<Figure size 432x288 with 1 Axes>"
      ]
     },
     "metadata": {
      "needs_background": "light"
     },
     "output_type": "display_data"
    }
   ],
   "source": [
    "discussions_per_year = data.groupby(['year'])['meeting_date'].count()\n",
    "discussions_per_year.plot.bar()"
   ]
  },
  {
   "cell_type": "code",
   "execution_count": 6,
   "metadata": {},
   "outputs": [
    {
     "data": {
      "text/plain": [
       "<matplotlib.axes._subplots.AxesSubplot at 0x105292710>"
      ]
     },
     "execution_count": 6,
     "metadata": {},
     "output_type": "execute_result"
    },
    {
     "data": {
      "image/png": "[encoded data removed]",
      "text/plain": [
       "<Figure size 432x288 with 1 Axes>"
      ]
     },
     "metadata": {
      "needs_background": "light"
     },
     "output_type": "display_data"
    }
   ],
   "source": [
    "data['lenght'] = data['lines_lemmatized'].apply(len)\n",
    "data['lenght'].hist(bins=50)"
   ]
  },
  {
   "cell_type": "code",
   "execution_count": 8,
   "metadata": {},
   "outputs": [
    {
     "data": {
      "text/plain": [
       "(177650, 12)"
      ]
     },
     "execution_count": 8,
     "metadata": {},
     "output_type": "execute_result"
    }
   ],
   "source": [
    "data[data['lenght']>=50].shape"
   ]
  },
  {
   "cell_type": "code",
   "execution_count": 15,
   "metadata": {},
   "outputs": [],
   "source": [
    "# removing short texts\n",
    "data = data[data['lenght']>=30].reset_index(drop=True)"
   ]
  },
  {
   "cell_type": "markdown",
   "metadata": {},
   "source": [
    "# Selecting a subset of data for hyperparameter tuning"
   ]
  },
  {
   "cell_type": "code",
   "execution_count": 18,
   "metadata": {},
   "outputs": [
    {
     "data": {
      "text/plain": [
       "(54000, 12)"
      ]
     },
     "execution_count": 18,
     "metadata": {},
     "output_type": "execute_result"
    }
   ],
   "source": [
    "stratified_data = []\n",
    "for year in range(1994, 2021):\n",
    "    stratified_data.append(data[data['year'].isin([year])].sample(2000))\n",
    "stratified_data = pd.concat(stratified_data)\n",
    "stratified_data.shape"
   ]
  },
  {
   "cell_type": "code",
   "execution_count": 19,
   "metadata": {},
   "outputs": [],
   "source": [
    "data_words = stratified_data['lines_lemmatized'].to_numpy()"
   ]
  },
  {
   "cell_type": "code",
   "execution_count": 20,
   "metadata": {},
   "outputs": [],
   "source": [
    "bigram = gensim.models.Phrases(data_words, min_count=3, threshold=10) \n",
    "bigram_mod = gensim.models.phrases.Phraser(bigram)"
   ]
  },
  {
   "cell_type": "code",
   "execution_count": 21,
   "metadata": {},
   "outputs": [],
   "source": [
    "def make_bigrams(texts):\n",
    "    return [bigram_mod[doc] for doc in tqdm_notebook(texts, leave=False)]"
   ]
  },
  {
   "cell_type": "code",
   "execution_count": 22,
   "metadata": {},
   "outputs": [
    {
     "data": {
      "application/vnd.jupyter.widget-view+json": {
       "model_id": "",
       "version_major": 2,
       "version_minor": 0
      },
      "text/plain": [
       "  0%|          | 0/54000 [00:00<?, ?it/s]"
      ]
     },
     "metadata": {},
     "output_type": "display_data"
    }
   ],
   "source": [
    "data_words_bigrams = make_bigrams(data_words)"
   ]
  },
  {
   "cell_type": "code",
   "execution_count": 23,
   "metadata": {},
   "outputs": [],
   "source": [
    "# Create Dictionary\n",
    "id2word = corpora.Dictionary(data_words_bigrams)"
   ]
  },
  {
   "cell_type": "code",
   "execution_count": 24,
   "metadata": {},
   "outputs": [
    {
     "name": "stdout",
     "output_type": "stream",
     "text": [
      "Размер словаря до фильтрации: 100138\n"
     ]
    }
   ],
   "source": [
    "print(f'Размер словаря до фильтрации: {len(id2word)}')"
   ]
  },
  {
   "cell_type": "code",
   "execution_count": 25,
   "metadata": {},
   "outputs": [
    {
     "name": "stdout",
     "output_type": "stream",
     "text": [
      "Размер словаря после фильтрации: 65583\n"
     ]
    }
   ],
   "source": [
    "id2word.filter_extremes(no_below=3, no_above=0.5)\n",
    "print(f'Размер словаря после фильтрации: {len(id2word)}')"
   ]
  },
  {
   "cell_type": "code",
   "execution_count": 26,
   "metadata": {},
   "outputs": [
    {
     "data": {
      "application/vnd.jupyter.widget-view+json": {
       "model_id": "",
       "version_major": 2,
       "version_minor": 0
      },
      "text/plain": [
       "  0%|          | 0/54000 [00:00<?, ?it/s]"
      ]
     },
     "metadata": {},
     "output_type": "display_data"
    }
   ],
   "source": [
    "# Create Corpus\n",
    "texts = data_words_bigrams\n",
    "\n",
    "# Term Document Frequency\n",
    "corpus = [id2word.doc2bow(text) for text in tqdm_notebook(texts, leave=False)]"
   ]
  },
  {
   "cell_type": "code",
   "execution_count": 27,
   "metadata": {},
   "outputs": [],
   "source": [
    "def compute_coherence_values(dictionary, corpus, texts, limit, start=2, step=3):\n",
    "    \"\"\"\n",
    "    Compute c_v coherence for various number of topics\n",
    "    \n",
    "    Credits: https://www.machinelearningplus.com/nlp/topic-modeling-gensim-python/\n",
    "\n",
    "    Parameters:\n",
    "    ----------\n",
    "    dictionary : Gensim dictionary\n",
    "    corpus : Gensim corpus\n",
    "    texts : List of input texts\n",
    "    limit : Max num of topics\n",
    "\n",
    "    Returns:\n",
    "    -------\n",
    "    model_list : List of LDA topic models\n",
    "    coherence_values : Coherence values corresponding to the LDA model with respective number of topics\n",
    "    \"\"\"\n",
    "    coherence_values = []\n",
    "    model_list = []\n",
    "    for num_topics in tqdm_notebook(range(start, limit, step)):\n",
    "        \n",
    "        model = gensim.models.ldamulticore.LdaMulticore(\n",
    "            corpus=corpus,\n",
    "            id2word=id2word,\n",
    "            num_topics=num_topics, \n",
    "            random_state=42,\n",
    "            chunksize=100,\n",
    "            passes=10,\n",
    "        )\n",
    "        model_list.append(model)\n",
    "        coherencemodel = CoherenceModel(model=model, texts=texts, dictionary=dictionary, coherence='c_v')\n",
    "        coherence_values.append(coherencemodel.get_coherence())\n",
    "\n",
    "    return model_list, coherence_values"
   ]
  },
  {
   "cell_type": "code",
   "execution_count": 28,
   "metadata": {},
   "outputs": [
    {
     "data": {
      "application/vnd.jupyter.widget-view+json": {
       "model_id": "f202a4afac39453bb0bee15e79fd0f73",
       "version_major": 2,
       "version_minor": 0
      },
      "text/plain": [
       "  0%|          | 0/10 [00:00<?, ?it/s]"
      ]
     },
     "metadata": {},
     "output_type": "display_data"
    }
   ],
   "source": [
    "model_list, coherence_values = compute_coherence_values(\n",
    "    dictionary=id2word, \n",
    "    corpus=corpus, \n",
    "    texts=texts, \n",
    "    start=5, limit=55, step=5\n",
    ")"
   ]
  },
  {
   "cell_type": "code",
   "execution_count": 29,
   "metadata": {},
   "outputs": [
    {
     "data": {
      "image/png": "[encoded data removed]",
      "text/plain": [
       "<Figure size 432x288 with 1 Axes>"
      ]
     },
     "metadata": {
      "needs_background": "light"
     },
     "output_type": "display_data"
    }
   ],
   "source": [
    "x = range(5, 55, 5)\n",
    "plt.plot(x, coherence_values)\n",
    "plt.xlabel(\"Num Topics\")\n",
    "plt.ylabel(\"Coherence score\")\n",
    "plt.legend((\"coherence_values\"), loc='best')\n",
    "plt.show()"
   ]
  },
  {
   "cell_type": "markdown",
   "metadata": {},
   "source": [
    "## Training on full data"
   ]
  },
  {
   "cell_type": "code",
   "execution_count": 30,
   "metadata": {},
   "outputs": [
    {
     "data": {
      "application/vnd.jupyter.widget-view+json": {
       "model_id": "",
       "version_major": 2,
       "version_minor": 0
      },
      "text/plain": [
       "  0%|          | 0/241999 [00:00<?, ?it/s]"
      ]
     },
     "metadata": {},
     "output_type": "display_data"
    },
    {
     "name": "stdout",
     "output_type": "stream",
     "text": [
      "Размер словаря до фильтрации: 202859\n",
      "Размер словаря после фильтрации: 100000\n"
     ]
    },
    {
     "data": {
      "application/vnd.jupyter.widget-view+json": {
       "model_id": "",
       "version_major": 2,
       "version_minor": 0
      },
      "text/plain": [
       "  0%|          | 0/241999 [00:00<?, ?it/s]"
      ]
     },
     "metadata": {},
     "output_type": "display_data"
    },
    {
     "name": "stdout",
     "output_type": "stream",
     "text": [
      "CPU times: user 3min 31s, sys: 4.94 s, total: 3min 36s\n",
      "Wall time: 3min 37s\n"
     ]
    }
   ],
   "source": [
    "%%time\n",
    "data_words = data['lines_lemmatized'].to_numpy()\n",
    "\n",
    "bigram = gensim.models.Phrases(data_words, min_count=3, threshold=10) \n",
    "bigram_mod = gensim.models.phrases.Phraser(bigram)\n",
    "data_words_bigrams = make_bigrams(data_words)\n",
    "id2word = corpora.Dictionary(data_words_bigrams)\n",
    "print(f'Размер словаря до фильтрации: {len(id2word)}')\n",
    "id2word.filter_extremes(no_below=3, no_above=0.5)\n",
    "print(f'Размер словаря после фильтрации: {len(id2word)}')\n",
    "\n",
    "# Create Corpus\n",
    "texts = data_words_bigrams\n",
    "# Term Document Frequency\n",
    "corpus = [id2word.doc2bow(text) for text in tqdm_notebook(texts, leave=False)]"
   ]
  },
  {
   "cell_type": "code",
   "execution_count": 32,
   "metadata": {},
   "outputs": [
    {
     "name": "stdout",
     "output_type": "stream",
     "text": [
      "CPU times: user 53min 44s, sys: 29min 12s, total: 1h 22min 57s\n",
      "Wall time: 1h 17min 57s\n"
     ]
    }
   ],
   "source": [
    "%%time\n",
    "final_model = gensim.models.ldamulticore.LdaMulticore(\n",
    "            corpus=corpus,\n",
    "            id2word=id2word,\n",
    "            num_topics=15, \n",
    "            random_state=42,\n",
    "            chunksize=100,\n",
    "            passes=10,\n",
    "        )"
   ]
  },
  {
   "cell_type": "code",
   "execution_count": 33,
   "metadata": {},
   "outputs": [
    {
     "data": {
      "text/plain": [
       "0.49891786092135254"
      ]
     },
     "execution_count": 33,
     "metadata": {},
     "output_type": "execute_result"
    }
   ],
   "source": [
    "coherencemodel = CoherenceModel(model=final_model, texts=texts, dictionary=id2word, coherence='c_v')\n",
    "coherencemodel.get_coherence()"
   ]
  },
  {
   "cell_type": "code",
   "execution_count": 34,
   "metadata": {},
   "outputs": [],
   "source": [
    "final_model.save('../src/models/final_model_30_topics')"
   ]
  },
  {
   "cell_type": "code",
   "execution_count": 35,
   "metadata": {},
   "outputs": [],
   "source": [
    "import pickle\n",
    "with open('../src/models/corpus', 'wb') as f:\n",
    "    pickle.dump(corpus, f)"
   ]
  },
  {
   "cell_type": "code",
   "execution_count": 36,
   "metadata": {},
   "outputs": [
    {
     "data": {
      "text/plain": [
       "(241999, 12)"
      ]
     },
     "execution_count": 36,
     "metadata": {},
     "output_type": "execute_result"
    }
   ],
   "source": [
    "data.shape"
   ]
  },
  {
   "cell_type": "code",
   "execution_count": 37,
   "metadata": {},
   "outputs": [],
   "source": [
    "data.to_pickle('../data/processed/transcripts_1994_2021_processed.pkl')"
   ]
  }
 ],
 "metadata": {
  "kernelspec": {
   "display_name": "Python 3",
   "language": "python",
   "name": "python3"
  },
  "language_info": {
   "codemirror_mode": {
    "name": "ipython",
    "version": 3
   },
   "file_extension": ".py",
   "mimetype": "text/x-python",
   "name": "python",
   "nbconvert_exporter": "python",
   "pygments_lexer": "ipython3",
   "version": "3.7.3"
  },
  "varInspector": {
   "cols": {
    "lenName": 16,
    "lenType": 16,
    "lenVar": 40
   },
   "kernels_config": {
    "python": {
     "delete_cmd_postfix": "",
     "delete_cmd_prefix": "del ",
     "library": "var_list.py",
     "varRefreshCmd": "print(var_dic_list())"
    },
    "r": {
     "delete_cmd_postfix": ") ",
     "delete_cmd_prefix": "rm(",
     "library": "var_list.r",
     "varRefreshCmd": "cat(var_dic_list()) "
    }
   },
   "types_to_exclude": [
    "module",
    "function",
    "builtin_function_or_method",
    "instance",
    "_Feature"
   ],
   "window_display": false
  }
 },
 "nbformat": 4,
 "nbformat_minor": 2
}
