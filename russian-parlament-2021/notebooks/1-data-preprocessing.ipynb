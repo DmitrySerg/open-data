{
 "cells": [
  {
   "cell_type": "markdown",
   "metadata": {},
   "source": [
    "# <center> Data Preprocessing </center> "
   ]
  },
  {
   "cell_type": "code",
   "execution_count": 1,
   "metadata": {},
   "outputs": [],
   "source": [
    "import pandas as pd\n",
    "import numpy as np\n",
    "\n",
    "import re\n",
    "import nltk\n",
    "from nltk.corpus import stopwords\n",
    "from nltk.stem import WordNetLemmatizer\n",
    "\n",
    "from pymystem3 import Mystem\n",
    "from tqdm import tqdm_notebook\n",
    "\n",
    "import sys\n",
    "sys.path.append('../')\n",
    "from src.utils import remove_name_from_text\n",
    "\n",
    "import warnings\n",
    "warnings.filterwarnings(\"ignore\",category=DeprecationWarning)"
   ]
  },
  {
   "cell_type": "code",
   "execution_count": 2,
   "metadata": {},
   "outputs": [],
   "source": [
    "data = pd.read_pickle('../data/raw/transcripts_1994_2021.pkl')"
   ]
  },
  {
   "cell_type": "code",
   "execution_count": 3,
   "metadata": {},
   "outputs": [
    {
     "data": {
      "text/html": [
       "<div>\n",
       "<style scoped>\n",
       "    .dataframe tbody tr th:only-of-type {\n",
       "        vertical-align: middle;\n",
       "    }\n",
       "\n",
       "    .dataframe tbody tr th {\n",
       "        vertical-align: top;\n",
       "    }\n",
       "\n",
       "    .dataframe thead th {\n",
       "        text-align: right;\n",
       "    }\n",
       "</style>\n",
       "<table border=\"1\" class=\"dataframe\">\n",
       "  <thead>\n",
       "    <tr style=\"text-align: right;\">\n",
       "      <th></th>\n",
       "      <th>start_line</th>\n",
       "      <th>end_line</th>\n",
       "      <th>type</th>\n",
       "      <th>lines</th>\n",
       "      <th>votes</th>\n",
       "      <th>deputy_name</th>\n",
       "      <th>meeting_date</th>\n",
       "      <th>deputy_id</th>\n",
       "    </tr>\n",
       "  </thead>\n",
       "  <tbody>\n",
       "    <tr>\n",
       "      <th>0</th>\n",
       "      <td>630</td>\n",
       "      <td>678</td>\n",
       "      <td>65100001</td>\n",
       "      <td>[АБАЛАКОВ А. Н., фракция КПРФ.                ...</td>\n",
       "      <td>[]</td>\n",
       "      <td>Абалаков Александр Николаевич</td>\n",
       "      <td>2016-06-15 00:00:00</td>\n",
       "      <td>99111772</td>\n",
       "    </tr>\n",
       "    <tr>\n",
       "      <th>1</th>\n",
       "      <td>1476</td>\n",
       "      <td>1479</td>\n",
       "      <td></td>\n",
       "      <td>[АБАЛАКОВ А. Н., фракция КПРФ.                ...</td>\n",
       "      <td>[]</td>\n",
       "      <td>Абалаков Александр Николаевич</td>\n",
       "      <td>2015-12-02 00:00:00</td>\n",
       "      <td>99111772</td>\n",
       "    </tr>\n",
       "    <tr>\n",
       "      <th>2</th>\n",
       "      <td>2518</td>\n",
       "      <td>2522</td>\n",
       "      <td></td>\n",
       "      <td>[АБАЛАКОВ А. Н. Поправка предполагает увеличен...</td>\n",
       "      <td>[]</td>\n",
       "      <td>Абалаков Александр Николаевич</td>\n",
       "      <td>2015-12-02 00:00:00</td>\n",
       "      <td>99111772</td>\n",
       "    </tr>\n",
       "    <tr>\n",
       "      <th>3</th>\n",
       "      <td>4862</td>\n",
       "      <td>4874</td>\n",
       "      <td>65100003</td>\n",
       "      <td>[АБАЛАКОВ А. Н., фракция КПРФ.                ...</td>\n",
       "      <td>[]</td>\n",
       "      <td>Абалаков Александр Николаевич</td>\n",
       "      <td>2015-11-20 00:00:00</td>\n",
       "      <td>99111772</td>\n",
       "    </tr>\n",
       "    <tr>\n",
       "      <th>4</th>\n",
       "      <td>4672</td>\n",
       "      <td>4716</td>\n",
       "      <td></td>\n",
       "      <td>[АБАЛАКОВ А. Н., фракция КПРФ.                ...</td>\n",
       "      <td>[]</td>\n",
       "      <td>Абалаков Александр Николаевич</td>\n",
       "      <td>2015-11-18 00:00:00</td>\n",
       "      <td>99111772</td>\n",
       "    </tr>\n",
       "  </tbody>\n",
       "</table>\n",
       "</div>"
      ],
      "text/plain": [
       "   start_line  end_line      type  \\\n",
       "0         630       678  65100001   \n",
       "1        1476      1479             \n",
       "2        2518      2522             \n",
       "3        4862      4874  65100003   \n",
       "4        4672      4716             \n",
       "\n",
       "                                               lines votes  \\\n",
       "0  [АБАЛАКОВ А. Н., фракция КПРФ.                ...    []   \n",
       "1  [АБАЛАКОВ А. Н., фракция КПРФ.                ...    []   \n",
       "2  [АБАЛАКОВ А. Н. Поправка предполагает увеличен...    []   \n",
       "3  [АБАЛАКОВ А. Н., фракция КПРФ.                ...    []   \n",
       "4  [АБАЛАКОВ А. Н., фракция КПРФ.                ...    []   \n",
       "\n",
       "                     deputy_name         meeting_date deputy_id  \n",
       "0  Абалаков Александр Николаевич  2016-06-15 00:00:00  99111772  \n",
       "1  Абалаков Александр Николаевич  2015-12-02 00:00:00  99111772  \n",
       "2  Абалаков Александр Николаевич  2015-12-02 00:00:00  99111772  \n",
       "3  Абалаков Александр Николаевич  2015-11-20 00:00:00  99111772  \n",
       "4  Абалаков Александр Николаевич  2015-11-18 00:00:00  99111772  "
      ]
     },
     "execution_count": 3,
     "metadata": {},
     "output_type": "execute_result"
    }
   ],
   "source": [
    "data.head()"
   ]
  },
  {
   "cell_type": "code",
   "execution_count": 5,
   "metadata": {},
   "outputs": [],
   "source": [
    "data['lines_processed'] = data['lines'].apply(lambda x: re.sub(r'\\s+', ' ', ' '.join(x)))\n",
    "data['lines_processed'] = data['lines_processed'].apply(lambda x: re.sub(r'[^\\w\\s]', '', x.lower()))\n",
    "data['lines_processed'] = data['lines_processed'].apply(lambda x: x.strip())\n",
    "data['lines_processed'] = data.apply(remove_name_from_text, axis=1)"
   ]
  },
  {
   "cell_type": "code",
   "execution_count": 6,
   "metadata": {},
   "outputs": [
    {
     "name": "stderr",
     "output_type": "stream",
     "text": [
      "[nltk_data] Downloading package stopwords to\n",
      "[nltk_data]     /Users/dmitrys/nltk_data...\n",
      "[nltk_data]   Package stopwords is already up-to-date!\n"
     ]
    }
   ],
   "source": [
    "lem = Mystem()\n",
    "nltk.download('stopwords')\n",
    "stop = stopwords.words('russian')\n",
    "\n",
    "def preprocess_text(x):\n",
    "    return [word.rstrip() for word in (''.join(lem.lemmatize(x))).split(' ') if (word not in stop and word != '')]"
   ]
  },
  {
   "cell_type": "code",
   "execution_count": 7,
   "metadata": {},
   "outputs": [],
   "source": [
    "stop.extend([\n",
    "u'я', u'а', u'да', u'но', u'тебе', u'мне', u'ты', u'и', u'у', u'на', u'ща', u'ага',\n",
    "u'так', u'там', u'какие', u'который', u'какая', u'туда', u'давай', u'короче', u'кажется', u'вообще',\n",
    "u'ну', u'не', u'чет', u'неа', u'свои', u'наше', u'наш', u'весь', u'хотя', u'такое', u'например', u'кароч', u'как-то',\n",
    "u'нам', u'хм', u'всем', u'нет', u'да', u'оно', u'своем', u'про', u'вы', u'м', u'тд',\n",
    "u'вся', u'кто-то', u'что-то', u'вам', u'это', u'эта', u'эти', u'этот', u'прям', u'либо', u'как', u'мы',\n",
    "u'просто', u'блин', u'очень', u'самые', u'твоем', u'ваша', u'кстати', u'вроде', u'типа', u'пока', u'ок',\n",
    "u'мочь'\n",
    "])"
   ]
  },
  {
   "cell_type": "code",
   "execution_count": 2,
   "metadata": {},
   "outputs": [],
   "source": [
    "text_data = data['lines_processed'].to_numpy()\n",
    "\n",
    "text_data_lemmatized = []\n",
    "for text in tqdm_notebook(text_data):\n",
    "    text_data_lemmatized.append(preprocess_text(text))"
   ]
  },
  {
   "cell_type": "code",
   "execution_count": 11,
   "metadata": {},
   "outputs": [
    {
     "data": {
      "text/plain": [
       "['фракция',\n",
       " 'кпрф',\n",
       " 'уважаемый',\n",
       " 'сергей',\n",
       " 'евгеньевич',\n",
       " 'уважаемый',\n",
       " 'товарищ',\n",
       " 'знать',\n",
       " 'качество',\n",
       " 'управление']"
      ]
     },
     "execution_count": 11,
     "metadata": {},
     "output_type": "execute_result"
    }
   ],
   "source": [
    "text_data_lemmatized[0][:10]"
   ]
  },
  {
   "cell_type": "code",
   "execution_count": 13,
   "metadata": {},
   "outputs": [
    {
     "data": {
      "text/html": [
       "<div>\n",
       "<style scoped>\n",
       "    .dataframe tbody tr th:only-of-type {\n",
       "        vertical-align: middle;\n",
       "    }\n",
       "\n",
       "    .dataframe tbody tr th {\n",
       "        vertical-align: top;\n",
       "    }\n",
       "\n",
       "    .dataframe thead th {\n",
       "        text-align: right;\n",
       "    }\n",
       "</style>\n",
       "<table border=\"1\" class=\"dataframe\">\n",
       "  <thead>\n",
       "    <tr style=\"text-align: right;\">\n",
       "      <th></th>\n",
       "      <th>start_line</th>\n",
       "      <th>end_line</th>\n",
       "      <th>type</th>\n",
       "      <th>lines</th>\n",
       "      <th>votes</th>\n",
       "      <th>deputy_name</th>\n",
       "      <th>meeting_date</th>\n",
       "      <th>deputy_id</th>\n",
       "      <th>lines_processed</th>\n",
       "      <th>lines_lemmatized</th>\n",
       "    </tr>\n",
       "  </thead>\n",
       "  <tbody>\n",
       "    <tr>\n",
       "      <th>0</th>\n",
       "      <td>630</td>\n",
       "      <td>678</td>\n",
       "      <td>65100001</td>\n",
       "      <td>[АБАЛАКОВ А. Н., фракция КПРФ.                ...</td>\n",
       "      <td>[]</td>\n",
       "      <td>Абалаков Александр Николаевич</td>\n",
       "      <td>2016-06-15 00:00:00</td>\n",
       "      <td>99111772</td>\n",
       "      <td>фракция кпрф уважаемый сергей евгеньевич уважа...</td>\n",
       "      <td>[фракция, кпрф, уважаемый, сергей, евгеньевич,...</td>\n",
       "    </tr>\n",
       "    <tr>\n",
       "      <th>1</th>\n",
       "      <td>1476</td>\n",
       "      <td>1479</td>\n",
       "      <td></td>\n",
       "      <td>[АБАЛАКОВ А. Н., фракция КПРФ.                ...</td>\n",
       "      <td>[]</td>\n",
       "      <td>Абалаков Александр Николаевич</td>\n",
       "      <td>2015-12-02 00:00:00</td>\n",
       "      <td>99111772</td>\n",
       "      <td>фракция кпрф прошу вынести на отдельное голосо...</td>\n",
       "      <td>[фракция, кпрф, просить, вынести, отдельный, г...</td>\n",
       "    </tr>\n",
       "    <tr>\n",
       "      <th>2</th>\n",
       "      <td>2518</td>\n",
       "      <td>2522</td>\n",
       "      <td></td>\n",
       "      <td>[АБАЛАКОВ А. Н. Поправка предполагает увеличен...</td>\n",
       "      <td>[]</td>\n",
       "      <td>Абалаков Александр Николаевич</td>\n",
       "      <td>2015-12-02 00:00:00</td>\n",
       "      <td>99111772</td>\n",
       "      <td>поправка предполагает увеличение взноса на кап...</td>\n",
       "      <td>[поправка, предполагать, увеличение, взнос, ка...</td>\n",
       "    </tr>\n",
       "    <tr>\n",
       "      <th>3</th>\n",
       "      <td>4862</td>\n",
       "      <td>4874</td>\n",
       "      <td>65100003</td>\n",
       "      <td>[АБАЛАКОВ А. Н., фракция КПРФ.                ...</td>\n",
       "      <td>[]</td>\n",
       "      <td>Абалаков Александр Николаевич</td>\n",
       "      <td>2015-11-20 00:00:00</td>\n",
       "      <td>99111772</td>\n",
       "      <td>фракция кпрф уважаемый сергей евгеньевич уважа...</td>\n",
       "      <td>[фракция, кпрф, уважаемый, сергей, евгеньевич,...</td>\n",
       "    </tr>\n",
       "    <tr>\n",
       "      <th>4</th>\n",
       "      <td>4672</td>\n",
       "      <td>4716</td>\n",
       "      <td></td>\n",
       "      <td>[АБАЛАКОВ А. Н., фракция КПРФ.                ...</td>\n",
       "      <td>[]</td>\n",
       "      <td>Абалаков Александр Николаевич</td>\n",
       "      <td>2015-11-18 00:00:00</td>\n",
       "      <td>99111772</td>\n",
       "      <td>фракция кпрф уважаемый сергей евгеньевич уважа...</td>\n",
       "      <td>[фракция, кпрф, уважаемый, сергей, евгеньевич,...</td>\n",
       "    </tr>\n",
       "  </tbody>\n",
       "</table>\n",
       "</div>"
      ],
      "text/plain": [
       "   start_line  end_line      type  \\\n",
       "0         630       678  65100001   \n",
       "1        1476      1479             \n",
       "2        2518      2522             \n",
       "3        4862      4874  65100003   \n",
       "4        4672      4716             \n",
       "\n",
       "                                               lines votes  \\\n",
       "0  [АБАЛАКОВ А. Н., фракция КПРФ.                ...    []   \n",
       "1  [АБАЛАКОВ А. Н., фракция КПРФ.                ...    []   \n",
       "2  [АБАЛАКОВ А. Н. Поправка предполагает увеличен...    []   \n",
       "3  [АБАЛАКОВ А. Н., фракция КПРФ.                ...    []   \n",
       "4  [АБАЛАКОВ А. Н., фракция КПРФ.                ...    []   \n",
       "\n",
       "                     deputy_name         meeting_date deputy_id  \\\n",
       "0  Абалаков Александр Николаевич  2016-06-15 00:00:00  99111772   \n",
       "1  Абалаков Александр Николаевич  2015-12-02 00:00:00  99111772   \n",
       "2  Абалаков Александр Николаевич  2015-12-02 00:00:00  99111772   \n",
       "3  Абалаков Александр Николаевич  2015-11-20 00:00:00  99111772   \n",
       "4  Абалаков Александр Николаевич  2015-11-18 00:00:00  99111772   \n",
       "\n",
       "                                     lines_processed  \\\n",
       "0  фракция кпрф уважаемый сергей евгеньевич уважа...   \n",
       "1  фракция кпрф прошу вынести на отдельное голосо...   \n",
       "2  поправка предполагает увеличение взноса на кап...   \n",
       "3  фракция кпрф уважаемый сергей евгеньевич уважа...   \n",
       "4  фракция кпрф уважаемый сергей евгеньевич уважа...   \n",
       "\n",
       "                                    lines_lemmatized  \n",
       "0  [фракция, кпрф, уважаемый, сергей, евгеньевич,...  \n",
       "1  [фракция, кпрф, просить, вынести, отдельный, г...  \n",
       "2  [поправка, предполагать, увеличение, взнос, ка...  \n",
       "3  [фракция, кпрф, уважаемый, сергей, евгеньевич,...  \n",
       "4  [фракция, кпрф, уважаемый, сергей, евгеньевич,...  "
      ]
     },
     "execution_count": 13,
     "metadata": {},
     "output_type": "execute_result"
    }
   ],
   "source": [
    "data['lines_lemmatized'] = text_data_lemmatized\n",
    "data.head()"
   ]
  },
  {
   "cell_type": "code",
   "execution_count": 14,
   "metadata": {},
   "outputs": [],
   "source": [
    "data.to_pickle('../data/processed/transcripts_1994_2021_lematized.pkl')"
   ]
  },
  {
   "cell_type": "code",
   "execution_count": 15,
   "metadata": {},
   "outputs": [
    {
     "data": {
      "text/plain": [
       "(359077, 10)"
      ]
     },
     "execution_count": 15,
     "metadata": {},
     "output_type": "execute_result"
    }
   ],
   "source": [
    "data.shape"
   ]
  }
 ],
 "metadata": {
  "kernelspec": {
   "display_name": "Python 3",
   "language": "python",
   "name": "python3"
  },
  "language_info": {
   "codemirror_mode": {
    "name": "ipython",
    "version": 3
   },
   "file_extension": ".py",
   "mimetype": "text/x-python",
   "name": "python",
   "nbconvert_exporter": "python",
   "pygments_lexer": "ipython3",
   "version": "3.7.3"
  },
  "varInspector": {
   "cols": {
    "lenName": 16,
    "lenType": 16,
    "lenVar": 40
   },
   "kernels_config": {
    "python": {
     "delete_cmd_postfix": "",
     "delete_cmd_prefix": "del ",
     "library": "var_list.py",
     "varRefreshCmd": "print(var_dic_list())"
    },
    "r": {
     "delete_cmd_postfix": ") ",
     "delete_cmd_prefix": "rm(",
     "library": "var_list.r",
     "varRefreshCmd": "cat(var_dic_list()) "
    }
   },
   "types_to_exclude": [
    "module",
    "function",
    "builtin_function_or_method",
    "instance",
    "_Feature"
   ],
   "window_display": false
  }
 },
 "nbformat": 4,
 "nbformat_minor": 2
}
