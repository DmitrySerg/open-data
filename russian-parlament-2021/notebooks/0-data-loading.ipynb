{
 "cells": [
  {
   "cell_type": "markdown",
   "metadata": {},
   "source": [
    "# <center> Data Loading </center> \n",
    "\n",
    "[API Госдумы](http://api.duma.gov.ru/pages/dokumentatsiya/primeri-zaprosov-k-api-ais-zakonoproekt)"
   ]
  },
  {
   "cell_type": "code",
   "execution_count": 1,
   "metadata": {},
   "outputs": [],
   "source": [
    "import pandas as pd\n",
    "import numpy as np\n",
    "\n",
    "import json\n",
    "import requests\n",
    "\n",
    "from tqdm import tqdm_notebook\n",
    "from pandas.io.json import json_normalize\n",
    "\n",
    "import sys\n",
    "sys.path.append('../')\n",
    "from src.TranscriptsLoader import TranscriptsLoader\n",
    "\n",
    "import warnings\n",
    "warnings.filterwarnings(\"ignore\",category=DeprecationWarning)"
   ]
  },
  {
   "cell_type": "markdown",
   "metadata": {},
   "source": [
    "Процедура получения API ключа описана [здесь](http://api.duma.gov.ru/key-request)"
   ]
  },
  {
   "cell_type": "code",
   "execution_count": 2,
   "metadata": {},
   "outputs": [],
   "source": [
    "with open(\"../src/api_token.txt\", 'r') as f:\n",
    "    API_TOKEN = f.read()"
   ]
  },
  {
   "cell_type": "code",
   "execution_count": 3,
   "metadata": {},
   "outputs": [
    {
     "data": {
      "text/plain": [
       "<Response [200]>"
      ]
     },
     "execution_count": 3,
     "metadata": {},
     "output_type": "execute_result"
    }
   ],
   "source": [
    "requst_url = f\"http://api.duma.gov.ru/api/{API_TOKEN}/deputies.json?position=Депутат%20ГД\"\n",
    "response = requests.get(requst_url, headers={'REFERER':\"https://github.com/DmitrySerg\"})\n",
    "response_payload = json.loads(response.content)\n",
    "response"
   ]
  },
  {
   "cell_type": "code",
   "execution_count": 4,
   "metadata": {},
   "outputs": [],
   "source": [
    "deputies = json_normalize(response_payload, ['factions'], ['id', 'name', 'position'], record_prefix='_')\n",
    "deputies.columns = [\n",
    "    'party_id', 'party_name', \n",
    "    'start_date', 'end_date', \n",
    "    'deputy_id', 'deputy_name', \n",
    "    'deputy_position'\n",
    "]"
   ]
  },
  {
   "cell_type": "code",
   "execution_count": 5,
   "metadata": {},
   "outputs": [
    {
     "data": {
      "text/html": [
       "<div>\n",
       "<style scoped>\n",
       "    .dataframe tbody tr th:only-of-type {\n",
       "        vertical-align: middle;\n",
       "    }\n",
       "\n",
       "    .dataframe tbody tr th {\n",
       "        vertical-align: top;\n",
       "    }\n",
       "\n",
       "    .dataframe thead th {\n",
       "        text-align: right;\n",
       "    }\n",
       "</style>\n",
       "<table border=\"1\" class=\"dataframe\">\n",
       "  <thead>\n",
       "    <tr style=\"text-align: right;\">\n",
       "      <th></th>\n",
       "      <th>party_id</th>\n",
       "      <th>party_name</th>\n",
       "      <th>start_date</th>\n",
       "      <th>end_date</th>\n",
       "      <th>deputy_id</th>\n",
       "      <th>deputy_name</th>\n",
       "      <th>deputy_position</th>\n",
       "    </tr>\n",
       "  </thead>\n",
       "  <tbody>\n",
       "    <tr>\n",
       "      <th>0</th>\n",
       "      <td>72100004</td>\n",
       "      <td>Фракция Политической партии \"КОММУНИСТИЧЕСКАЯ ...</td>\n",
       "      <td>2011-12-04</td>\n",
       "      <td>2016-10-04</td>\n",
       "      <td>99111772</td>\n",
       "      <td>Абалаков Александр Николаевич</td>\n",
       "      <td>Депутат ГД</td>\n",
       "    </tr>\n",
       "    <tr>\n",
       "      <th>1</th>\n",
       "      <td>72100024</td>\n",
       "      <td>Фракция Всероссийской политической партии \"ЕДИ...</td>\n",
       "      <td>2013-03-06</td>\n",
       "      <td>2016-10-04</td>\n",
       "      <td>99112284</td>\n",
       "      <td>Абасов Мамед Магарамович</td>\n",
       "      <td>Депутат ГД</td>\n",
       "    </tr>\n",
       "    <tr>\n",
       "      <th>2</th>\n",
       "      <td>72100020</td>\n",
       "      <td>Депутатская группа \"Российские регионы\"</td>\n",
       "      <td>1996-01-16</td>\n",
       "      <td>1997-11-12</td>\n",
       "      <td>99100491</td>\n",
       "      <td>Абдулатипов Рамазан Гаджимурадович</td>\n",
       "      <td>Депутат ГД</td>\n",
       "    </tr>\n",
       "    <tr>\n",
       "      <th>3</th>\n",
       "      <td>72100024</td>\n",
       "      <td>Фракция Всероссийской политической партии \"ЕДИ...</td>\n",
       "      <td>2011-12-04</td>\n",
       "      <td>2013-01-27</td>\n",
       "      <td>99100491</td>\n",
       "      <td>Абдулатипов Рамазан Гаджимурадович</td>\n",
       "      <td>Депутат ГД</td>\n",
       "    </tr>\n",
       "    <tr>\n",
       "      <th>4</th>\n",
       "      <td>72100001</td>\n",
       "      <td>Фракция Аграрной партии России</td>\n",
       "      <td>1994-01-12</td>\n",
       "      <td>1994-07-23</td>\n",
       "      <td>99100001</td>\n",
       "      <td>Абдулбасиров Магомедтагир Меджидович</td>\n",
       "      <td>Депутат ГД</td>\n",
       "    </tr>\n",
       "  </tbody>\n",
       "</table>\n",
       "</div>"
      ],
      "text/plain": [
       "   party_id                                         party_name  start_date  \\\n",
       "0  72100004  Фракция Политической партии \"КОММУНИСТИЧЕСКАЯ ...  2011-12-04   \n",
       "1  72100024  Фракция Всероссийской политической партии \"ЕДИ...  2013-03-06   \n",
       "2  72100020            Депутатская группа \"Российские регионы\"  1996-01-16   \n",
       "3  72100024  Фракция Всероссийской политической партии \"ЕДИ...  2011-12-04   \n",
       "4  72100001                     Фракция Аграрной партии России  1994-01-12   \n",
       "\n",
       "     end_date deputy_id                           deputy_name deputy_position  \n",
       "0  2016-10-04  99111772         Абалаков Александр Николаевич      Депутат ГД  \n",
       "1  2016-10-04  99112284              Абасов Мамед Магарамович      Депутат ГД  \n",
       "2  1997-11-12  99100491    Абдулатипов Рамазан Гаджимурадович      Депутат ГД  \n",
       "3  2013-01-27  99100491    Абдулатипов Рамазан Гаджимурадович      Депутат ГД  \n",
       "4  1994-07-23  99100001  Абдулбасиров Магомедтагир Меджидович      Депутат ГД  "
      ]
     },
     "execution_count": 5,
     "metadata": {},
     "output_type": "execute_result"
    }
   ],
   "source": [
    "deputies.head()"
   ]
  },
  {
   "cell_type": "code",
   "execution_count": 6,
   "metadata": {},
   "outputs": [],
   "source": [
    "deputies.to_csv(\"../data/processed/deputies.csv\")"
   ]
  },
  {
   "cell_type": "code",
   "execution_count": 7,
   "metadata": {},
   "outputs": [
    {
     "data": {
      "text/plain": [
       "(4781, 7)"
      ]
     },
     "execution_count": 7,
     "metadata": {},
     "output_type": "execute_result"
    }
   ],
   "source": [
    "deputies.shape"
   ]
  },
  {
   "cell_type": "code",
   "execution_count": 8,
   "metadata": {},
   "outputs": [
    {
     "data": {
      "text/plain": [
       "2021"
      ]
     },
     "execution_count": 8,
     "metadata": {},
     "output_type": "execute_result"
    }
   ],
   "source": [
    "len(deputies['deputy_name'].unique())"
   ]
  },
  {
   "cell_type": "markdown",
   "metadata": {},
   "source": [
    "Тестовый прогон"
   ]
  },
  {
   "cell_type": "code",
   "execution_count": 9,
   "metadata": {},
   "outputs": [],
   "source": [
    "transcripts_loader = TranscriptsLoader(\n",
    "    deputy_id=99112284, \n",
    "    date_from='1994-01-01', \n",
    "    date_to='2021-03-31',\n",
    "    api_token=API_TOKEN\n",
    ")\n",
    "transcripts_data = transcripts_loader.get_transcripts_data()"
   ]
  },
  {
   "cell_type": "code",
   "execution_count": 10,
   "metadata": {},
   "outputs": [
    {
     "data": {
      "text/html": [
       "<div>\n",
       "<style scoped>\n",
       "    .dataframe tbody tr th:only-of-type {\n",
       "        vertical-align: middle;\n",
       "    }\n",
       "\n",
       "    .dataframe tbody tr th {\n",
       "        vertical-align: top;\n",
       "    }\n",
       "\n",
       "    .dataframe thead th {\n",
       "        text-align: right;\n",
       "    }\n",
       "</style>\n",
       "<table border=\"1\" class=\"dataframe\">\n",
       "  <thead>\n",
       "    <tr style=\"text-align: right;\">\n",
       "      <th></th>\n",
       "      <th>start_line</th>\n",
       "      <th>end_line</th>\n",
       "      <th>type</th>\n",
       "      <th>lines</th>\n",
       "      <th>votes</th>\n",
       "      <th>deputy_name</th>\n",
       "      <th>meeting_date</th>\n",
       "      <th>deputy_id</th>\n",
       "    </tr>\n",
       "  </thead>\n",
       "  <tbody>\n",
       "    <tr>\n",
       "      <th>0</th>\n",
       "      <td>4904</td>\n",
       "      <td>4933</td>\n",
       "      <td>65100003</td>\n",
       "      <td>[АБАСОВ М. М., фракция \"ЕДИНАЯ РОССИЯ\".       ...</td>\n",
       "      <td>[]</td>\n",
       "      <td>Абасов Мамед Магарамович</td>\n",
       "      <td>2016-04-15 00:00:00</td>\n",
       "      <td>99112284</td>\n",
       "    </tr>\n",
       "    <tr>\n",
       "      <th>1</th>\n",
       "      <td>4972</td>\n",
       "      <td>4988</td>\n",
       "      <td></td>\n",
       "      <td>[АБАСОВ М. М. Спасибо за вопрос. Я думаю, что ...</td>\n",
       "      <td>[]</td>\n",
       "      <td>Абасов Мамед Магарамович</td>\n",
       "      <td>2016-04-15 00:00:00</td>\n",
       "      <td>99112284</td>\n",
       "    </tr>\n",
       "    <tr>\n",
       "      <th>2</th>\n",
       "      <td>6129</td>\n",
       "      <td>6133</td>\n",
       "      <td></td>\n",
       "      <td>[АБАСОВ М. М., фракция \"ЕДИНАЯ РОССИЯ\".       ...</td>\n",
       "      <td>[]</td>\n",
       "      <td>Абасов Мамед Магарамович</td>\n",
       "      <td>2016-03-16 00:00:00</td>\n",
       "      <td>99112284</td>\n",
       "    </tr>\n",
       "  </tbody>\n",
       "</table>\n",
       "</div>"
      ],
      "text/plain": [
       "   start_line  end_line      type  \\\n",
       "0        4904      4933  65100003   \n",
       "1        4972      4988             \n",
       "2        6129      6133             \n",
       "\n",
       "                                               lines votes  \\\n",
       "0  [АБАСОВ М. М., фракция \"ЕДИНАЯ РОССИЯ\".       ...    []   \n",
       "1  [АБАСОВ М. М. Спасибо за вопрос. Я думаю, что ...    []   \n",
       "2  [АБАСОВ М. М., фракция \"ЕДИНАЯ РОССИЯ\".       ...    []   \n",
       "\n",
       "                deputy_name         meeting_date deputy_id  \n",
       "0  Абасов Мамед Магарамович  2016-04-15 00:00:00  99112284  \n",
       "1  Абасов Мамед Магарамович  2016-04-15 00:00:00  99112284  \n",
       "2  Абасов Мамед Магарамович  2016-03-16 00:00:00  99112284  "
      ]
     },
     "execution_count": 10,
     "metadata": {},
     "output_type": "execute_result"
    }
   ],
   "source": [
    "transcripts_data"
   ]
  },
  {
   "cell_type": "markdown",
   "metadata": {},
   "source": [
    "Для каждого депутата получаем все записи выступлений"
   ]
  },
  {
   "cell_type": "code",
   "execution_count": 12,
   "metadata": {},
   "outputs": [],
   "source": [
    "unique_deputy_ids = deputies['deputy_id'].unique().astype(int)\n",
    "\n",
    "data = []\n",
    "for deputy_id in tqdm_notebook(unique_deputy_ids, desc='Deputy'):\n",
    "    transcripts_loader = TranscriptsLoader(\n",
    "        deputy_id=deputy_id,\n",
    "        date_from='1994-01-01', \n",
    "        date_to='2021-03-31',\n",
    "        api_token=API_TOKEN\n",
    "    )\n",
    "    transcripts_data = transcripts_loader.get_transcripts_data()\n",
    "    data.append(transcripts_data)\n",
    "    \n",
    "data_df = pd.concat(data, ignore_index=True)\n",
    "data_df.to_pickle('../data/raw/transcripts_1994_2021.pkl')"
   ]
  }
 ],
 "metadata": {
  "kernelspec": {
   "display_name": "Python 3",
   "language": "python",
   "name": "python3"
  },
  "language_info": {
   "codemirror_mode": {
    "name": "ipython",
    "version": 3
   },
   "file_extension": ".py",
   "mimetype": "text/x-python",
   "name": "python",
   "nbconvert_exporter": "python",
   "pygments_lexer": "ipython3",
   "version": "3.7.3"
  },
  "varInspector": {
   "cols": {
    "lenName": 16,
    "lenType": 16,
    "lenVar": 40
   },
   "kernels_config": {
    "python": {
     "delete_cmd_postfix": "",
     "delete_cmd_prefix": "del ",
     "library": "var_list.py",
     "varRefreshCmd": "print(var_dic_list())"
    },
    "r": {
     "delete_cmd_postfix": ") ",
     "delete_cmd_prefix": "rm(",
     "library": "var_list.r",
     "varRefreshCmd": "cat(var_dic_list()) "
    }
   },
   "types_to_exclude": [
    "module",
    "function",
    "builtin_function_or_method",
    "instance",
    "_Feature"
   ],
   "window_display": false
  }
 },
 "nbformat": 4,
 "nbformat_minor": 2
}
